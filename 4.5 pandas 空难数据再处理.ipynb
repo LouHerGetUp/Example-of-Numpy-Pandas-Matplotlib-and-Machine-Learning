{
 "cells": [
  {
   "cell_type": "code",
   "execution_count": 1,
   "id": "6a92d2bb",
   "metadata": {},
   "outputs": [],
   "source": [
    "import pandas as pd\n",
    "import numpy as np"
   ]
  },
  {
   "cell_type": "code",
   "execution_count": 2,
   "id": "d00e4ed3",
   "metadata": {},
   "outputs": [],
   "source": [
    "data = pd.read_csv('./dataset/air1908.csv')"
   ]
  },
  {
   "cell_type": "code",
   "execution_count": 3,
   "id": "ddf8b02a",
   "metadata": {},
   "outputs": [
    {
     "data": {
      "text/html": [
       "<div>\n",
       "<style scoped>\n",
       "    .dataframe tbody tr th:only-of-type {\n",
       "        vertical-align: middle;\n",
       "    }\n",
       "\n",
       "    .dataframe tbody tr th {\n",
       "        vertical-align: top;\n",
       "    }\n",
       "\n",
       "    .dataframe thead th {\n",
       "        text-align: right;\n",
       "    }\n",
       "</style>\n",
       "<table border=\"1\" class=\"dataframe\">\n",
       "  <thead>\n",
       "    <tr style=\"text-align: right;\">\n",
       "      <th></th>\n",
       "      <th>Date</th>\n",
       "      <th>Time</th>\n",
       "      <th>Location</th>\n",
       "      <th>Operator</th>\n",
       "      <th>Flight #</th>\n",
       "      <th>Route</th>\n",
       "      <th>Type</th>\n",
       "      <th>Registration</th>\n",
       "      <th>cn/In</th>\n",
       "      <th>Aboard</th>\n",
       "      <th>Fatalities</th>\n",
       "      <th>Ground</th>\n",
       "      <th>Summary</th>\n",
       "    </tr>\n",
       "  </thead>\n",
       "  <tbody>\n",
       "    <tr>\n",
       "      <th>0</th>\n",
       "      <td>09/17/1908</td>\n",
       "      <td>17:18</td>\n",
       "      <td>Fort Myer, Virginia</td>\n",
       "      <td>Military - U.S. Army</td>\n",
       "      <td>NaN</td>\n",
       "      <td>Demonstration</td>\n",
       "      <td>Wright Flyer III</td>\n",
       "      <td>NaN</td>\n",
       "      <td>1</td>\n",
       "      <td>2.0</td>\n",
       "      <td>1.0</td>\n",
       "      <td>0.0</td>\n",
       "      <td>During a demonstration flight, a U.S. Army fly...</td>\n",
       "    </tr>\n",
       "    <tr>\n",
       "      <th>1</th>\n",
       "      <td>07/12/1912</td>\n",
       "      <td>06:30</td>\n",
       "      <td>AtlantiCity, New Jersey</td>\n",
       "      <td>Military - U.S. Navy</td>\n",
       "      <td>NaN</td>\n",
       "      <td>Test flight</td>\n",
       "      <td>Dirigible</td>\n",
       "      <td>NaN</td>\n",
       "      <td>NaN</td>\n",
       "      <td>5.0</td>\n",
       "      <td>5.0</td>\n",
       "      <td>0.0</td>\n",
       "      <td>First U.S. dirigible Akron exploded just offsh...</td>\n",
       "    </tr>\n",
       "    <tr>\n",
       "      <th>2</th>\n",
       "      <td>08/06/1913</td>\n",
       "      <td>NaN</td>\n",
       "      <td>Victoria, British Columbia, Canada</td>\n",
       "      <td>Private</td>\n",
       "      <td>-</td>\n",
       "      <td>NaN</td>\n",
       "      <td>Curtiss seaplane</td>\n",
       "      <td>NaN</td>\n",
       "      <td>NaN</td>\n",
       "      <td>1.0</td>\n",
       "      <td>1.0</td>\n",
       "      <td>0.0</td>\n",
       "      <td>The first fatal airplane accident in Canada oc...</td>\n",
       "    </tr>\n",
       "    <tr>\n",
       "      <th>3</th>\n",
       "      <td>09/09/1913</td>\n",
       "      <td>18:30</td>\n",
       "      <td>Over the North Sea</td>\n",
       "      <td>Military - German Navy</td>\n",
       "      <td>NaN</td>\n",
       "      <td>NaN</td>\n",
       "      <td>Zeppelin L-1 (airship)</td>\n",
       "      <td>NaN</td>\n",
       "      <td>NaN</td>\n",
       "      <td>20.0</td>\n",
       "      <td>14.0</td>\n",
       "      <td>0.0</td>\n",
       "      <td>The airship flew into a thunderstorm and encou...</td>\n",
       "    </tr>\n",
       "    <tr>\n",
       "      <th>4</th>\n",
       "      <td>10/17/1913</td>\n",
       "      <td>10:30</td>\n",
       "      <td>Near Johannisthal, Germany</td>\n",
       "      <td>Military - German Navy</td>\n",
       "      <td>NaN</td>\n",
       "      <td>NaN</td>\n",
       "      <td>Zeppelin L-2 (airship)</td>\n",
       "      <td>NaN</td>\n",
       "      <td>NaN</td>\n",
       "      <td>30.0</td>\n",
       "      <td>30.0</td>\n",
       "      <td>0.0</td>\n",
       "      <td>Hydrogen gas which was being vented was sucked...</td>\n",
       "    </tr>\n",
       "  </tbody>\n",
       "</table>\n",
       "</div>"
      ],
      "text/plain": [
       "         Date   Time                            Location  \\\n",
       "0  09/17/1908  17:18                 Fort Myer, Virginia   \n",
       "1  07/12/1912  06:30             AtlantiCity, New Jersey   \n",
       "2  08/06/1913    NaN  Victoria, British Columbia, Canada   \n",
       "3  09/09/1913  18:30                  Over the North Sea   \n",
       "4  10/17/1913  10:30          Near Johannisthal, Germany   \n",
       "\n",
       "                 Operator Flight #          Route                    Type  \\\n",
       "0    Military - U.S. Army      NaN  Demonstration        Wright Flyer III   \n",
       "1    Military - U.S. Navy      NaN    Test flight               Dirigible   \n",
       "2                 Private        -            NaN        Curtiss seaplane   \n",
       "3  Military - German Navy      NaN            NaN  Zeppelin L-1 (airship)   \n",
       "4  Military - German Navy      NaN            NaN  Zeppelin L-2 (airship)   \n",
       "\n",
       "  Registration cn/In  Aboard  Fatalities  Ground  \\\n",
       "0          NaN     1     2.0         1.0     0.0   \n",
       "1          NaN   NaN     5.0         5.0     0.0   \n",
       "2          NaN   NaN     1.0         1.0     0.0   \n",
       "3          NaN   NaN    20.0        14.0     0.0   \n",
       "4          NaN   NaN    30.0        30.0     0.0   \n",
       "\n",
       "                                             Summary  \n",
       "0  During a demonstration flight, a U.S. Army fly...  \n",
       "1  First U.S. dirigible Akron exploded just offsh...  \n",
       "2  The first fatal airplane accident in Canada oc...  \n",
       "3  The airship flew into a thunderstorm and encou...  \n",
       "4  Hydrogen gas which was being vented was sucked...  "
      ]
     },
     "execution_count": 3,
     "metadata": {},
     "output_type": "execute_result"
    }
   ],
   "source": [
    "data.head()"
   ]
  },
  {
   "cell_type": "code",
   "execution_count": 4,
   "id": "77cf83fc",
   "metadata": {},
   "outputs": [
    {
     "data": {
      "text/plain": [
       "Index(['Date', 'Time', 'Location', 'Operator', 'Flight #', 'Route', 'Type',\n",
       "       'Registration', 'cn/In', 'Aboard', 'Fatalities', 'Ground', 'Summary'],\n",
       "      dtype='object')"
      ]
     },
     "execution_count": 4,
     "metadata": {},
     "output_type": "execute_result"
    }
   ],
   "source": [
    "data.columns"
   ]
  },
  {
   "cell_type": "code",
   "execution_count": 11,
   "id": "18eca2ce",
   "metadata": {},
   "outputs": [],
   "source": [
    "data = data[['Location','Type','Aboard','Fatalities']]"
   ]
  },
  {
   "cell_type": "code",
   "execution_count": 12,
   "id": "72760837",
   "metadata": {},
   "outputs": [
    {
     "data": {
      "text/html": [
       "<div>\n",
       "<style scoped>\n",
       "    .dataframe tbody tr th:only-of-type {\n",
       "        vertical-align: middle;\n",
       "    }\n",
       "\n",
       "    .dataframe tbody tr th {\n",
       "        vertical-align: top;\n",
       "    }\n",
       "\n",
       "    .dataframe thead th {\n",
       "        text-align: right;\n",
       "    }\n",
       "</style>\n",
       "<table border=\"1\" class=\"dataframe\">\n",
       "  <thead>\n",
       "    <tr style=\"text-align: right;\">\n",
       "      <th></th>\n",
       "      <th>Location</th>\n",
       "      <th>Type</th>\n",
       "      <th>Aboard</th>\n",
       "      <th>Fatalities</th>\n",
       "    </tr>\n",
       "  </thead>\n",
       "  <tbody>\n",
       "    <tr>\n",
       "      <th>0</th>\n",
       "      <td>Fort Myer, Virginia</td>\n",
       "      <td>Wright Flyer III</td>\n",
       "      <td>2.0</td>\n",
       "      <td>1.0</td>\n",
       "    </tr>\n",
       "    <tr>\n",
       "      <th>1</th>\n",
       "      <td>AtlantiCity, New Jersey</td>\n",
       "      <td>Dirigible</td>\n",
       "      <td>5.0</td>\n",
       "      <td>5.0</td>\n",
       "    </tr>\n",
       "    <tr>\n",
       "      <th>2</th>\n",
       "      <td>Victoria, British Columbia, Canada</td>\n",
       "      <td>Curtiss seaplane</td>\n",
       "      <td>1.0</td>\n",
       "      <td>1.0</td>\n",
       "    </tr>\n",
       "    <tr>\n",
       "      <th>3</th>\n",
       "      <td>Over the North Sea</td>\n",
       "      <td>Zeppelin L-1 (airship)</td>\n",
       "      <td>20.0</td>\n",
       "      <td>14.0</td>\n",
       "    </tr>\n",
       "    <tr>\n",
       "      <th>4</th>\n",
       "      <td>Near Johannisthal, Germany</td>\n",
       "      <td>Zeppelin L-2 (airship)</td>\n",
       "      <td>30.0</td>\n",
       "      <td>30.0</td>\n",
       "    </tr>\n",
       "  </tbody>\n",
       "</table>\n",
       "</div>"
      ],
      "text/plain": [
       "                             Location                    Type  Aboard  \\\n",
       "0                 Fort Myer, Virginia        Wright Flyer III     2.0   \n",
       "1             AtlantiCity, New Jersey               Dirigible     5.0   \n",
       "2  Victoria, British Columbia, Canada        Curtiss seaplane     1.0   \n",
       "3                  Over the North Sea  Zeppelin L-1 (airship)    20.0   \n",
       "4          Near Johannisthal, Germany  Zeppelin L-2 (airship)    30.0   \n",
       "\n",
       "   Fatalities  \n",
       "0         1.0  \n",
       "1         5.0  \n",
       "2         1.0  \n",
       "3        14.0  \n",
       "4        30.0  "
      ]
     },
     "execution_count": 12,
     "metadata": {},
     "output_type": "execute_result"
    }
   ],
   "source": [
    "data.head()"
   ]
  },
  {
   "cell_type": "code",
   "execution_count": 13,
   "id": "25e43dc9",
   "metadata": {},
   "outputs": [
    {
     "name": "stderr",
     "output_type": "stream",
     "text": [
      "C:\\Users\\luhe\\AppData\\Local\\Temp\\ipykernel_19580\\1816526387.py:1: FutureWarning: In a future version of pandas all arguments of DataFrame.any and Series.any will be keyword-only.\n",
      "  (data.isnull().any(1)).sum()  # any(1) 这一行有一个nan值就会被记为True\n"
     ]
    },
    {
     "data": {
      "text/plain": [
       "66"
      ]
     },
     "execution_count": 13,
     "metadata": {},
     "output_type": "execute_result"
    }
   ],
   "source": [
    "(data.isnull().any(1)).sum()  # any(1) 这一行有一个nan值就会被记为True"
   ]
  },
  {
   "cell_type": "code",
   "execution_count": 15,
   "id": "09f886fc",
   "metadata": {},
   "outputs": [],
   "source": [
    "data = data.dropna(subset=['Location','Type'])  # 保证['Location','Type']中都没有nan"
   ]
  },
  {
   "cell_type": "code",
   "execution_count": 16,
   "id": "cc99a640",
   "metadata": {},
   "outputs": [
    {
     "name": "stderr",
     "output_type": "stream",
     "text": [
      "C:\\Users\\luhe\\AppData\\Local\\Temp\\ipykernel_19580\\4033617056.py:1: FutureWarning: In a future version of pandas all arguments of DataFrame.any and Series.any will be keyword-only.\n",
      "  (data.isnull().any(1)).sum()\n"
     ]
    },
    {
     "data": {
      "text/plain": [
       "19"
      ]
     },
     "execution_count": 16,
     "metadata": {},
     "output_type": "execute_result"
    }
   ],
   "source": [
    "(data.isnull().any(1)).sum() "
   ]
  },
  {
   "cell_type": "code",
   "execution_count": 17,
   "id": "af19db42",
   "metadata": {},
   "outputs": [
    {
     "data": {
      "text/html": [
       "<div>\n",
       "<style scoped>\n",
       "    .dataframe tbody tr th:only-of-type {\n",
       "        vertical-align: middle;\n",
       "    }\n",
       "\n",
       "    .dataframe tbody tr th {\n",
       "        vertical-align: top;\n",
       "    }\n",
       "\n",
       "    .dataframe thead th {\n",
       "        text-align: right;\n",
       "    }\n",
       "</style>\n",
       "<table border=\"1\" class=\"dataframe\">\n",
       "  <thead>\n",
       "    <tr style=\"text-align: right;\">\n",
       "      <th></th>\n",
       "      <th>Location</th>\n",
       "      <th>Type</th>\n",
       "      <th>Aboard</th>\n",
       "      <th>Fatalities</th>\n",
       "    </tr>\n",
       "  </thead>\n",
       "  <tbody>\n",
       "    <tr>\n",
       "      <th>0</th>\n",
       "      <td>Fort Myer, Virginia</td>\n",
       "      <td>Wright Flyer III</td>\n",
       "      <td>2.0</td>\n",
       "      <td>1.0</td>\n",
       "    </tr>\n",
       "    <tr>\n",
       "      <th>1</th>\n",
       "      <td>AtlantiCity, New Jersey</td>\n",
       "      <td>Dirigible</td>\n",
       "      <td>5.0</td>\n",
       "      <td>5.0</td>\n",
       "    </tr>\n",
       "    <tr>\n",
       "      <th>2</th>\n",
       "      <td>Victoria, British Columbia, Canada</td>\n",
       "      <td>Curtiss seaplane</td>\n",
       "      <td>1.0</td>\n",
       "      <td>1.0</td>\n",
       "    </tr>\n",
       "    <tr>\n",
       "      <th>3</th>\n",
       "      <td>Over the North Sea</td>\n",
       "      <td>Zeppelin L-1 (airship)</td>\n",
       "      <td>20.0</td>\n",
       "      <td>14.0</td>\n",
       "    </tr>\n",
       "    <tr>\n",
       "      <th>4</th>\n",
       "      <td>Near Johannisthal, Germany</td>\n",
       "      <td>Zeppelin L-2 (airship)</td>\n",
       "      <td>30.0</td>\n",
       "      <td>30.0</td>\n",
       "    </tr>\n",
       "    <tr>\n",
       "      <th>...</th>\n",
       "      <td>...</td>\n",
       "      <td>...</td>\n",
       "      <td>...</td>\n",
       "      <td>...</td>\n",
       "    </tr>\n",
       "    <tr>\n",
       "      <th>5263</th>\n",
       "      <td>Near Madiun, Indonesia</td>\n",
       "      <td>Lockheed C-130 Hercules</td>\n",
       "      <td>112.0</td>\n",
       "      <td>98.0</td>\n",
       "    </tr>\n",
       "    <tr>\n",
       "      <th>5264</th>\n",
       "      <td>Near Isiro, DemocratiRepubliCongo</td>\n",
       "      <td>Antonov An-26</td>\n",
       "      <td>4.0</td>\n",
       "      <td>4.0</td>\n",
       "    </tr>\n",
       "    <tr>\n",
       "      <th>5265</th>\n",
       "      <td>AtlantiOcean, 570 miles northeast of Natal, Br...</td>\n",
       "      <td>Airbus A330-203</td>\n",
       "      <td>228.0</td>\n",
       "      <td>228.0</td>\n",
       "    </tr>\n",
       "    <tr>\n",
       "      <th>5266</th>\n",
       "      <td>Near Port Hope Simpson, Newfoundland, Canada</td>\n",
       "      <td>Britten-Norman BN-2A-27 Islander</td>\n",
       "      <td>1.0</td>\n",
       "      <td>1.0</td>\n",
       "    </tr>\n",
       "    <tr>\n",
       "      <th>5267</th>\n",
       "      <td>State of Arunachal Pradesh, India</td>\n",
       "      <td>Antonov An-32</td>\n",
       "      <td>13.0</td>\n",
       "      <td>13.0</td>\n",
       "    </tr>\n",
       "  </tbody>\n",
       "</table>\n",
       "<p>5221 rows × 4 columns</p>\n",
       "</div>"
      ],
      "text/plain": [
       "                                               Location  \\\n",
       "0                                   Fort Myer, Virginia   \n",
       "1                               AtlantiCity, New Jersey   \n",
       "2                    Victoria, British Columbia, Canada   \n",
       "3                                    Over the North Sea   \n",
       "4                            Near Johannisthal, Germany   \n",
       "...                                                 ...   \n",
       "5263                             Near Madiun, Indonesia   \n",
       "5264                  Near Isiro, DemocratiRepubliCongo   \n",
       "5265  AtlantiOcean, 570 miles northeast of Natal, Br...   \n",
       "5266       Near Port Hope Simpson, Newfoundland, Canada   \n",
       "5267                  State of Arunachal Pradesh, India   \n",
       "\n",
       "                                  Type  Aboard  Fatalities  \n",
       "0                     Wright Flyer III     2.0         1.0  \n",
       "1                            Dirigible     5.0         5.0  \n",
       "2                     Curtiss seaplane     1.0         1.0  \n",
       "3               Zeppelin L-1 (airship)    20.0        14.0  \n",
       "4               Zeppelin L-2 (airship)    30.0        30.0  \n",
       "...                                ...     ...         ...  \n",
       "5263           Lockheed C-130 Hercules   112.0        98.0  \n",
       "5264                     Antonov An-26     4.0         4.0  \n",
       "5265                   Airbus A330-203   228.0       228.0  \n",
       "5266  Britten-Norman BN-2A-27 Islander     1.0         1.0  \n",
       "5267                     Antonov An-32    13.0        13.0  \n",
       "\n",
       "[5221 rows x 4 columns]"
      ]
     },
     "execution_count": 17,
     "metadata": {},
     "output_type": "execute_result"
    }
   ],
   "source": [
    "data.fillna(0, inplace=True) # 将nan fill为0"
   ]
  },
  {
   "cell_type": "code",
   "execution_count": 19,
   "id": "071efe7b",
   "metadata": {},
   "outputs": [
    {
     "data": {
      "text/plain": [
       "10"
      ]
     },
     "execution_count": 19,
     "metadata": {},
     "output_type": "execute_result"
    }
   ],
   "source": [
    "data.duplicated().sum()  # 是否有重复值"
   ]
  },
  {
   "cell_type": "code",
   "execution_count": 20,
   "id": "5312093a",
   "metadata": {},
   "outputs": [
    {
     "data": {
      "text/html": [
       "<div>\n",
       "<style scoped>\n",
       "    .dataframe tbody tr th:only-of-type {\n",
       "        vertical-align: middle;\n",
       "    }\n",
       "\n",
       "    .dataframe tbody tr th {\n",
       "        vertical-align: top;\n",
       "    }\n",
       "\n",
       "    .dataframe thead th {\n",
       "        text-align: right;\n",
       "    }\n",
       "</style>\n",
       "<table border=\"1\" class=\"dataframe\">\n",
       "  <thead>\n",
       "    <tr style=\"text-align: right;\">\n",
       "      <th></th>\n",
       "      <th>Location</th>\n",
       "      <th>Type</th>\n",
       "      <th>Aboard</th>\n",
       "      <th>Fatalities</th>\n",
       "    </tr>\n",
       "  </thead>\n",
       "  <tbody>\n",
       "    <tr>\n",
       "      <th>33</th>\n",
       "      <td>Cleveland, Ohio</td>\n",
       "      <td>De Havilland DH-4</td>\n",
       "      <td>1.0</td>\n",
       "      <td>1.0</td>\n",
       "    </tr>\n",
       "    <tr>\n",
       "      <th>51</th>\n",
       "      <td>Cleveland, Ohio</td>\n",
       "      <td>De Havilland DH-4</td>\n",
       "      <td>1.0</td>\n",
       "      <td>1.0</td>\n",
       "    </tr>\n",
       "    <tr>\n",
       "      <th>71</th>\n",
       "      <td>Barcelona, Spain</td>\n",
       "      <td>Breguet 14</td>\n",
       "      <td>1.0</td>\n",
       "      <td>1.0</td>\n",
       "    </tr>\n",
       "    <tr>\n",
       "      <th>147</th>\n",
       "      <td>Over the Gulf of Finland</td>\n",
       "      <td>Junkers F-13</td>\n",
       "      <td>6.0</td>\n",
       "      <td>6.0</td>\n",
       "    </tr>\n",
       "    <tr>\n",
       "      <th>410</th>\n",
       "      <td>Mexico</td>\n",
       "      <td>Lockheed Orion</td>\n",
       "      <td>1.0</td>\n",
       "      <td>1.0</td>\n",
       "    </tr>\n",
       "    <tr>\n",
       "      <th>701</th>\n",
       "      <td>Kunming, China</td>\n",
       "      <td>Douglas C-47</td>\n",
       "      <td>3.0</td>\n",
       "      <td>3.0</td>\n",
       "    </tr>\n",
       "    <tr>\n",
       "      <th>1046</th>\n",
       "      <td>North Sea</td>\n",
       "      <td>Douglas DC-3</td>\n",
       "      <td>7.0</td>\n",
       "      <td>7.0</td>\n",
       "    </tr>\n",
       "    <tr>\n",
       "      <th>2208</th>\n",
       "      <td>Off Phu Quoc, Vietnam</td>\n",
       "      <td>Lockheed P-3B Orion</td>\n",
       "      <td>12.0</td>\n",
       "      <td>12.0</td>\n",
       "    </tr>\n",
       "    <tr>\n",
       "      <th>2771</th>\n",
       "      <td>Willow, Alaska</td>\n",
       "      <td>Piper PA-18</td>\n",
       "      <td>3.0</td>\n",
       "      <td>3.0</td>\n",
       "    </tr>\n",
       "    <tr>\n",
       "      <th>2863</th>\n",
       "      <td>Moscow, Russia</td>\n",
       "      <td>Tupolev TU-124</td>\n",
       "      <td>61.0</td>\n",
       "      <td>61.0</td>\n",
       "    </tr>\n",
       "  </tbody>\n",
       "</table>\n",
       "</div>"
      ],
      "text/plain": [
       "                      Location                 Type  Aboard  Fatalities\n",
       "33             Cleveland, Ohio    De Havilland DH-4     1.0         1.0\n",
       "51             Cleveland, Ohio    De Havilland DH-4     1.0         1.0\n",
       "71            Barcelona, Spain           Breguet 14     1.0         1.0\n",
       "147   Over the Gulf of Finland         Junkers F-13     6.0         6.0\n",
       "410                     Mexico       Lockheed Orion     1.0         1.0\n",
       "701             Kunming, China         Douglas C-47     3.0         3.0\n",
       "1046                 North Sea         Douglas DC-3     7.0         7.0\n",
       "2208     Off Phu Quoc, Vietnam  Lockheed P-3B Orion    12.0        12.0\n",
       "2771            Willow, Alaska          Piper PA-18     3.0         3.0\n",
       "2863            Moscow, Russia       Tupolev TU-124    61.0        61.0"
      ]
     },
     "execution_count": 20,
     "metadata": {},
     "output_type": "execute_result"
    }
   ],
   "source": [
    "data[data.duplicated()]  # 查看重复值"
   ]
  },
  {
   "cell_type": "code",
   "execution_count": 21,
   "id": "1804144a",
   "metadata": {},
   "outputs": [],
   "source": [
    "data.drop_duplicates(inplace=True) # 删除重复值"
   ]
  },
  {
   "cell_type": "code",
   "execution_count": 22,
   "id": "ed367bb3",
   "metadata": {},
   "outputs": [
    {
     "name": "stdout",
     "output_type": "stream",
     "text": [
      "<class 'pandas.core.frame.DataFrame'>\n",
      "Int64Index: 5211 entries, 0 to 5267\n",
      "Data columns (total 4 columns):\n",
      " #   Column      Non-Null Count  Dtype  \n",
      "---  ------      --------------  -----  \n",
      " 0   Location    5211 non-null   object \n",
      " 1   Type        5211 non-null   object \n",
      " 2   Aboard      5192 non-null   float64\n",
      " 3   Fatalities  5202 non-null   float64\n",
      "dtypes: float64(2), object(2)\n",
      "memory usage: 203.6+ KB\n"
     ]
    }
   ],
   "source": [
    "data.info()"
   ]
  },
  {
   "cell_type": "code",
   "execution_count": 24,
   "id": "e00ba41d",
   "metadata": {},
   "outputs": [
    {
     "data": {
      "text/html": [
       "<div>\n",
       "<style scoped>\n",
       "    .dataframe tbody tr th:only-of-type {\n",
       "        vertical-align: middle;\n",
       "    }\n",
       "\n",
       "    .dataframe tbody tr th {\n",
       "        vertical-align: top;\n",
       "    }\n",
       "\n",
       "    .dataframe thead th {\n",
       "        text-align: right;\n",
       "    }\n",
       "</style>\n",
       "<table border=\"1\" class=\"dataframe\">\n",
       "  <thead>\n",
       "    <tr style=\"text-align: right;\">\n",
       "      <th></th>\n",
       "      <th>Location</th>\n",
       "      <th>Type</th>\n",
       "      <th>Aboard</th>\n",
       "      <th>Fatalities</th>\n",
       "    </tr>\n",
       "  </thead>\n",
       "  <tbody>\n",
       "    <tr>\n",
       "      <th>0</th>\n",
       "      <td>Fort Myer, Virginia</td>\n",
       "      <td>Wright Flyer III</td>\n",
       "      <td>2.0</td>\n",
       "      <td>1.0</td>\n",
       "    </tr>\n",
       "    <tr>\n",
       "      <th>1</th>\n",
       "      <td>AtlantiCity, New Jersey</td>\n",
       "      <td>Dirigible</td>\n",
       "      <td>5.0</td>\n",
       "      <td>5.0</td>\n",
       "    </tr>\n",
       "    <tr>\n",
       "      <th>2</th>\n",
       "      <td>Victoria, British Columbia, Canada</td>\n",
       "      <td>Curtiss seaplane</td>\n",
       "      <td>1.0</td>\n",
       "      <td>1.0</td>\n",
       "    </tr>\n",
       "    <tr>\n",
       "      <th>3</th>\n",
       "      <td>Over the North Sea</td>\n",
       "      <td>Zeppelin L-1 (airship)</td>\n",
       "      <td>20.0</td>\n",
       "      <td>14.0</td>\n",
       "    </tr>\n",
       "    <tr>\n",
       "      <th>4</th>\n",
       "      <td>Near Johannisthal, Germany</td>\n",
       "      <td>Zeppelin L-2 (airship)</td>\n",
       "      <td>30.0</td>\n",
       "      <td>30.0</td>\n",
       "    </tr>\n",
       "  </tbody>\n",
       "</table>\n",
       "</div>"
      ],
      "text/plain": [
       "                             Location                    Type  Aboard  \\\n",
       "0                 Fort Myer, Virginia        Wright Flyer III     2.0   \n",
       "1             AtlantiCity, New Jersey               Dirigible     5.0   \n",
       "2  Victoria, British Columbia, Canada        Curtiss seaplane     1.0   \n",
       "3                  Over the North Sea  Zeppelin L-1 (airship)    20.0   \n",
       "4          Near Johannisthal, Germany  Zeppelin L-2 (airship)    30.0   \n",
       "\n",
       "   Fatalities  \n",
       "0         1.0  \n",
       "1         5.0  \n",
       "2         1.0  \n",
       "3        14.0  \n",
       "4        30.0  "
      ]
     },
     "execution_count": 24,
     "metadata": {},
     "output_type": "execute_result"
    }
   ],
   "source": [
    "data.head()"
   ]
  },
  {
   "cell_type": "code",
   "execution_count": 25,
   "id": "352c08f3",
   "metadata": {},
   "outputs": [
    {
     "data": {
      "text/plain": [
       "0                                  [Fort Myer,  Virginia]\n",
       "1                              [AtlantiCity,  New Jersey]\n",
       "2                  [Victoria,  British Columbia,  Canada]\n",
       "3                                    [Over the North Sea]\n",
       "4                           [Near Johannisthal,  Germany]\n",
       "                              ...                        \n",
       "5263                            [Near Madiun,  Indonesia]\n",
       "5264                 [Near Isiro,  DemocratiRepubliCongo]\n",
       "5265    [AtlantiOcean,  570 miles northeast of Natal, ...\n",
       "5266     [Near Port Hope Simpson,  Newfoundland,  Canada]\n",
       "5267                 [State of Arunachal Pradesh,  India]\n",
       "Name: Location, Length: 5211, dtype: object"
      ]
     },
     "execution_count": 25,
     "metadata": {},
     "output_type": "execute_result"
    }
   ],
   "source": [
    "data.Location.str.split(',').str[-1]  #取出国名"
   ]
  },
  {
   "cell_type": "code",
   "execution_count": 28,
   "id": "79d32f3a",
   "metadata": {},
   "outputs": [
    {
     "data": {
      "text/plain": [
       "Index([' Brazil', ' Alaska', ' Russia', ' Colombia', ' Canada', ' California',\n",
       "       ' France', ' England', ' India', ' Indonesia', ' Mexico', ' China',\n",
       "       ' Germany', ' Italy', ' Australia', ' Philippines', ' Spain',\n",
       "       ' New York', ' USSR', ' Venezuela'],\n",
       "      dtype='object')"
      ]
     },
     "execution_count": 28,
     "metadata": {},
     "output_type": "execute_result"
    }
   ],
   "source": [
    "data.Location.str.split(',').str[-1].value_counts()[:20].index  # 空难次数前20的地区"
   ]
  },
  {
   "cell_type": "code",
   "execution_count": 31,
   "id": "89b3d185",
   "metadata": {},
   "outputs": [],
   "source": [
    "s = data.Location.str.split(',').str[-1].value_counts()"
   ]
  },
  {
   "cell_type": "code",
   "execution_count": 32,
   "id": "37a48a87",
   "metadata": {},
   "outputs": [
    {
     "data": {
      "text/plain": [
       "0.39666090961427747"
      ]
     },
     "execution_count": 32,
     "metadata": {},
     "output_type": "execute_result"
    }
   ],
   "source": [
    "s[:20].sum()/s.sum()  # 前20个国家的空难次数占所有空难次数的比值"
   ]
  },
  {
   "cell_type": "code",
   "execution_count": 40,
   "id": "9deff2a9",
   "metadata": {},
   "outputs": [],
   "source": [
    "t = data.Type.str.split().str[0].value_counts()  # 按空格划分时，split不用给参数"
   ]
  },
  {
   "cell_type": "code",
   "execution_count": 42,
   "id": "1b5ffdaf",
   "metadata": {},
   "outputs": [
    {
     "data": {
      "text/plain": [
       "0.7299942429476108"
      ]
     },
     "execution_count": 42,
     "metadata": {},
     "output_type": "execute_result"
    }
   ],
   "source": [
    "t[:20].sum()/t.sum()  # 前20个品牌的空难次数占所有空难次数的比值"
   ]
  },
  {
   "cell_type": "code",
   "execution_count": 45,
   "id": "157a3b8d",
   "metadata": {},
   "outputs": [],
   "source": [
    "data_b = data[data.Type.str.contains('Boeing')]"
   ]
  },
  {
   "cell_type": "code",
   "execution_count": 48,
   "id": "64be46d7",
   "metadata": {},
   "outputs": [
    {
     "data": {
      "text/plain": [
       "137       2.0\n",
       "140       2.0\n",
       "206       1.0\n",
       "228       3.0\n",
       "231       1.0\n",
       "        ...  \n",
       "5226     90.0\n",
       "5227      3.0\n",
       "5231     88.0\n",
       "5251    134.0\n",
       "5261      7.0\n",
       "Name: Aboard, Length: 378, dtype: float64"
      ]
     },
     "execution_count": 48,
     "metadata": {},
     "output_type": "execute_result"
    }
   ],
   "source": [
    "data_b.Aboard.replace(0.0, 1)  # 将Aboard中0替换成1，因为飞机上最少有一个人"
   ]
  },
  {
   "cell_type": "code",
   "execution_count": 49,
   "id": "3f6f7a46",
   "metadata": {},
   "outputs": [
    {
     "data": {
      "text/plain": [
       "0.24761622144180062"
      ]
     },
     "execution_count": 49,
     "metadata": {},
     "output_type": "execute_result"
    }
   ],
   "source": [
    "((data_b.Aboard - data_b.Fatalities)/data_b.Aboard).mean()"
   ]
  },
  {
   "cell_type": "code",
   "execution_count": null,
   "id": "7a825848",
   "metadata": {},
   "outputs": [],
   "source": []
  }
 ],
 "metadata": {
  "kernelspec": {
   "display_name": "Python 3 (ipykernel)",
   "language": "python",
   "name": "python3"
  },
  "language_info": {
   "codemirror_mode": {
    "name": "ipython",
    "version": 3
   },
   "file_extension": ".py",
   "mimetype": "text/x-python",
   "name": "python",
   "nbconvert_exporter": "python",
   "pygments_lexer": "ipython3",
   "version": "3.10.9"
  }
 },
 "nbformat": 4,
 "nbformat_minor": 5
}
