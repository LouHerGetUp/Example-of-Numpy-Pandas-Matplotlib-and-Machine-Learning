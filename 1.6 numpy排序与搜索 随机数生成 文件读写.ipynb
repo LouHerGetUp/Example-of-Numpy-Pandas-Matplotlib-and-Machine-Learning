{
 "cells": [
  {
   "cell_type": "code",
   "execution_count": null,
   "id": "28c9fb08",
   "metadata": {},
   "outputs": [],
   "source": [
    "import numpy as np"
   ]
  },
  {
   "cell_type": "markdown",
   "id": "5cc20ad5",
   "metadata": {},
   "source": [
    "# 排序与搜索"
   ]
  },
  {
   "cell_type": "code",
   "execution_count": 2,
   "id": "81ea464e",
   "metadata": {},
   "outputs": [],
   "source": [
    "a = np.random.randn(10)"
   ]
  },
  {
   "cell_type": "code",
   "execution_count": 3,
   "id": "826dd0f2",
   "metadata": {},
   "outputs": [],
   "source": [
    "a.sort()"
   ]
  },
  {
   "cell_type": "code",
   "execution_count": 4,
   "id": "9a8b2430",
   "metadata": {},
   "outputs": [
    {
     "data": {
      "text/plain": [
       "array([-1.24374988, -1.14107054, -0.91032698, -0.28023575, -0.23672439,\n",
       "        0.08046446,  0.11477175,  0.17050015,  0.46202535,  1.20176413])"
      ]
     },
     "execution_count": 4,
     "metadata": {},
     "output_type": "execute_result"
    }
   ],
   "source": [
    "a"
   ]
  },
  {
   "cell_type": "code",
   "execution_count": 5,
   "id": "d5d6051c",
   "metadata": {},
   "outputs": [
    {
     "data": {
      "text/plain": [
       "array([-1.24374988, -1.14107054, -0.91032698, -0.28023575, -0.23672439,\n",
       "        0.08046446,  0.11477175,  0.17050015,  0.46202535,  1.20176413])"
      ]
     },
     "execution_count": 5,
     "metadata": {},
     "output_type": "execute_result"
    }
   ],
   "source": [
    "np.sort(a)"
   ]
  },
  {
   "cell_type": "code",
   "execution_count": 6,
   "id": "c1d9de6a",
   "metadata": {},
   "outputs": [],
   "source": [
    "a.shape = 2,5 # 与reshape等价"
   ]
  },
  {
   "cell_type": "code",
   "execution_count": 7,
   "id": "eed92b1d",
   "metadata": {},
   "outputs": [
    {
     "data": {
      "text/plain": [
       "array([[-1.24374988, -1.14107054, -0.91032698, -0.28023575, -0.23672439],\n",
       "       [ 0.08046446,  0.11477175,  0.17050015,  0.46202535,  1.20176413]])"
      ]
     },
     "execution_count": 7,
     "metadata": {},
     "output_type": "execute_result"
    }
   ],
   "source": [
    "a"
   ]
  },
  {
   "cell_type": "code",
   "execution_count": 8,
   "id": "d375ec9b",
   "metadata": {},
   "outputs": [],
   "source": [
    "a.sort(axis=1)"
   ]
  },
  {
   "cell_type": "code",
   "execution_count": 9,
   "id": "2da8b9e1",
   "metadata": {},
   "outputs": [
    {
     "data": {
      "text/plain": [
       "array([[-1.24374988, -1.14107054, -0.91032698, -0.28023575, -0.23672439],\n",
       "       [ 0.08046446,  0.11477175,  0.17050015,  0.46202535,  1.20176413]])"
      ]
     },
     "execution_count": 9,
     "metadata": {},
     "output_type": "execute_result"
    }
   ],
   "source": [
    "a"
   ]
  },
  {
   "cell_type": "code",
   "execution_count": 10,
   "id": "68f3fd31",
   "metadata": {},
   "outputs": [],
   "source": [
    "a = np.array([2,4,1,3])"
   ]
  },
  {
   "cell_type": "code",
   "execution_count": 11,
   "id": "08b872aa",
   "metadata": {},
   "outputs": [
    {
     "data": {
      "text/plain": [
       "array([2, 0, 3, 1], dtype=int64)"
      ]
     },
     "execution_count": 11,
     "metadata": {},
     "output_type": "execute_result"
    }
   ],
   "source": [
    "np.argsort(a)  # 返回排序后的索引值"
   ]
  },
  {
   "cell_type": "code",
   "execution_count": 12,
   "id": "6ae68120",
   "metadata": {},
   "outputs": [
    {
     "data": {
      "text/plain": [
       "array([1, 2, 3, 4])"
      ]
     },
     "execution_count": 12,
     "metadata": {},
     "output_type": "execute_result"
    }
   ],
   "source": [
    "a[np.argsort(a)]"
   ]
  },
  {
   "cell_type": "code",
   "execution_count": 13,
   "id": "db87ac63",
   "metadata": {},
   "outputs": [
    {
     "data": {
      "text/plain": [
       "1"
      ]
     },
     "execution_count": 13,
     "metadata": {},
     "output_type": "execute_result"
    }
   ],
   "source": [
    "np.argmax(a)"
   ]
  },
  {
   "cell_type": "code",
   "execution_count": 14,
   "id": "e14100ec",
   "metadata": {},
   "outputs": [
    {
     "data": {
      "text/plain": [
       "2"
      ]
     },
     "execution_count": 14,
     "metadata": {},
     "output_type": "execute_result"
    }
   ],
   "source": [
    "np.argmin(a)"
   ]
  },
  {
   "cell_type": "code",
   "execution_count": 15,
   "id": "1d05e3af",
   "metadata": {},
   "outputs": [
    {
     "data": {
      "text/plain": [
       "(array([1, 3], dtype=int64),)"
      ]
     },
     "execution_count": 15,
     "metadata": {},
     "output_type": "execute_result"
    }
   ],
   "source": [
    "np.where(a>2)  # 返回大于2的索引"
   ]
  },
  {
   "cell_type": "code",
   "execution_count": 16,
   "id": "936a6bac",
   "metadata": {},
   "outputs": [
    {
     "data": {
      "text/plain": [
       "array([2, 4, 1, 3])"
      ]
     },
     "execution_count": 16,
     "metadata": {},
     "output_type": "execute_result"
    }
   ],
   "source": [
    "a"
   ]
  },
  {
   "cell_type": "code",
   "execution_count": 17,
   "id": "052c769b",
   "metadata": {},
   "outputs": [],
   "source": [
    "b = np.array([9,5,6,7])"
   ]
  },
  {
   "cell_type": "code",
   "execution_count": 18,
   "id": "d964b902",
   "metadata": {},
   "outputs": [],
   "source": [
    "cond = np.array([True, False, False, False])"
   ]
  },
  {
   "cell_type": "code",
   "execution_count": 19,
   "id": "5637b976",
   "metadata": {},
   "outputs": [
    {
     "data": {
      "text/plain": [
       "array([2, 5, 6, 7])"
      ]
     },
     "execution_count": 19,
     "metadata": {},
     "output_type": "execute_result"
    }
   ],
   "source": [
    "np.where(cond, a, b)  # cond为T时，在a中取值，cond为F时，在b中取值"
   ]
  },
  {
   "cell_type": "code",
   "execution_count": 20,
   "id": "b83da31a",
   "metadata": {},
   "outputs": [
    {
     "data": {
      "text/plain": [
       "array([2, 4, 1, 3])"
      ]
     },
     "execution_count": 20,
     "metadata": {},
     "output_type": "execute_result"
    }
   ],
   "source": [
    "a"
   ]
  },
  {
   "cell_type": "code",
   "execution_count": 21,
   "id": "2957b90d",
   "metadata": {},
   "outputs": [
    {
     "data": {
      "text/plain": [
       "array([False,  True, False,  True])"
      ]
     },
     "execution_count": 21,
     "metadata": {},
     "output_type": "execute_result"
    }
   ],
   "source": [
    "a>2"
   ]
  },
  {
   "cell_type": "code",
   "execution_count": 22,
   "id": "7cc2c018",
   "metadata": {},
   "outputs": [
    {
     "data": {
      "text/plain": [
       "2"
      ]
     },
     "execution_count": 22,
     "metadata": {},
     "output_type": "execute_result"
    }
   ],
   "source": [
    "(a>2).sum()  # 大于2的个数"
   ]
  },
  {
   "cell_type": "markdown",
   "id": "059ddc5c",
   "metadata": {},
   "source": [
    "# 随机生成"
   ]
  },
  {
   "cell_type": "code",
   "execution_count": 24,
   "id": "922c90bb",
   "metadata": {},
   "outputs": [
    {
     "data": {
      "text/plain": [
       "array([-0.3852078 ,  0.26398796,  1.10516805,  0.56145967, -1.07792387,\n",
       "        0.87151013, -0.32173178, -0.23252242,  2.33464405,  1.78008916])"
      ]
     },
     "execution_count": 24,
     "metadata": {},
     "output_type": "execute_result"
    }
   ],
   "source": [
    "np.random.randn(10)  # 生成标准正态分布随机数"
   ]
  },
  {
   "cell_type": "code",
   "execution_count": 25,
   "id": "c0298029",
   "metadata": {},
   "outputs": [
    {
     "data": {
      "text/plain": [
       "array([[-0.64011158,  1.31757436,  0.03239044, -0.43987474],\n",
       "       [ 0.16052866, -0.71199182, -0.18933139, -0.81974683],\n",
       "       [-0.56920045,  0.08148741,  0.19549415, -0.92246344]])"
      ]
     },
     "execution_count": 25,
     "metadata": {},
     "output_type": "execute_result"
    }
   ],
   "source": [
    "np.random.randn(3,4)"
   ]
  },
  {
   "cell_type": "code",
   "execution_count": 28,
   "id": "df772a40",
   "metadata": {},
   "outputs": [
    {
     "data": {
      "text/plain": [
       "array([[-1.02330635,  0.48813601,  1.49042502, -1.06514994],\n",
       "       [-1.49924928, -1.7177433 , -1.53255635,  0.48636287],\n",
       "       [-1.20834167,  0.04854734, -0.12386447,  0.18136239]])"
      ]
     },
     "execution_count": 28,
     "metadata": {},
     "output_type": "execute_result"
    }
   ],
   "source": [
    "np.random.normal(size=(3,4))  # 生成正态分布随机数"
   ]
  },
  {
   "cell_type": "code",
   "execution_count": 29,
   "id": "bc3314de",
   "metadata": {},
   "outputs": [
    {
     "data": {
      "text/plain": [
       "array([[8, 8, 7, 2],\n",
       "       [7, 2, 3, 9],\n",
       "       [2, 5, 5, 4]])"
      ]
     },
     "execution_count": 29,
     "metadata": {},
     "output_type": "execute_result"
    }
   ],
   "source": [
    "np.random.randint(1,10,(3,4))  # 生成自然数 范围1-9 3行4列"
   ]
  },
  {
   "cell_type": "code",
   "execution_count": 30,
   "id": "3db735d7",
   "metadata": {},
   "outputs": [
    {
     "data": {
      "text/plain": [
       "array([2, 4, 1, 3])"
      ]
     },
     "execution_count": 30,
     "metadata": {},
     "output_type": "execute_result"
    }
   ],
   "source": [
    "a"
   ]
  },
  {
   "cell_type": "code",
   "execution_count": 33,
   "id": "39acd5dc",
   "metadata": {},
   "outputs": [],
   "source": [
    "b = np.random.permutation(len(a))  # 乱序函数"
   ]
  },
  {
   "cell_type": "code",
   "execution_count": 32,
   "id": "70c9f486",
   "metadata": {},
   "outputs": [
    {
     "data": {
      "text/plain": [
       "array([2, 3, 4, 1])"
      ]
     },
     "execution_count": 32,
     "metadata": {},
     "output_type": "execute_result"
    }
   ],
   "source": [
    "a[np.random.permutation(len(a))]  # 每次运行得到一列乱序的值"
   ]
  },
  {
   "cell_type": "code",
   "execution_count": 34,
   "id": "36c6d507",
   "metadata": {},
   "outputs": [
    {
     "data": {
      "text/plain": [
       "array([1, 3, 2, 4])"
      ]
     },
     "execution_count": 34,
     "metadata": {},
     "output_type": "execute_result"
    }
   ],
   "source": [
    "a[b]"
   ]
  },
  {
   "cell_type": "code",
   "execution_count": 35,
   "id": "66cad9f7",
   "metadata": {},
   "outputs": [
    {
     "data": {
      "text/plain": [
       "6"
      ]
     },
     "execution_count": 35,
     "metadata": {},
     "output_type": "execute_result"
    }
   ],
   "source": [
    "np.random.choice([1,2,3,4,5,6])  # 随机选一个数"
   ]
  },
  {
   "cell_type": "code",
   "execution_count": 37,
   "id": "ea1292e6",
   "metadata": {},
   "outputs": [
    {
     "data": {
      "text/plain": [
       "array([4, 5])"
      ]
     },
     "execution_count": 37,
     "metadata": {},
     "output_type": "execute_result"
    }
   ],
   "source": [
    "np.random.choice([1,2,3,4,5,6], size=2)  # 随机选两个数"
   ]
  },
  {
   "cell_type": "code",
   "execution_count": 38,
   "id": "1fb8c0aa",
   "metadata": {},
   "outputs": [],
   "source": [
    "np.random.seed(5)  \n",
    "# 指定随机种子，只对下一次random生效，随机种子不变，生成的随机数不变（伪随机数）"
   ]
  },
  {
   "cell_type": "code",
   "execution_count": 39,
   "id": "8b98e5f7",
   "metadata": {},
   "outputs": [
    {
     "data": {
      "text/plain": [
       "array([[ 0.44122749, -0.33087015,  2.43077119, -0.25209213],\n",
       "       [ 0.10960984,  1.58248112, -0.9092324 , -0.59163666],\n",
       "       [ 0.18760323, -0.32986996, -1.19276461, -0.20487651]])"
      ]
     },
     "execution_count": 39,
     "metadata": {},
     "output_type": "execute_result"
    }
   ],
   "source": [
    "np.random.randn(3,4)"
   ]
  },
  {
   "cell_type": "code",
   "execution_count": 40,
   "id": "d164238b",
   "metadata": {},
   "outputs": [],
   "source": [
    "np.random.seed(5)"
   ]
  },
  {
   "cell_type": "code",
   "execution_count": 41,
   "id": "53175486",
   "metadata": {},
   "outputs": [
    {
     "data": {
      "text/plain": [
       "array([[ 0.44122749, -0.33087015,  2.43077119, -0.25209213],\n",
       "       [ 0.10960984,  1.58248112, -0.9092324 , -0.59163666],\n",
       "       [ 0.18760323, -0.32986996, -1.19276461, -0.20487651]])"
      ]
     },
     "execution_count": 41,
     "metadata": {},
     "output_type": "execute_result"
    }
   ],
   "source": [
    "np.random.randn(3,4)"
   ]
  },
  {
   "cell_type": "markdown",
   "id": "78400df8",
   "metadata": {},
   "source": [
    "# 文件读写"
   ]
  },
  {
   "cell_type": "code",
   "execution_count": 42,
   "id": "fae3a7ff",
   "metadata": {},
   "outputs": [
    {
     "data": {
      "text/plain": [
       "array([2, 4, 1, 3])"
      ]
     },
     "execution_count": 42,
     "metadata": {},
     "output_type": "execute_result"
    }
   ],
   "source": [
    "a"
   ]
  },
  {
   "cell_type": "code",
   "execution_count": 44,
   "id": "cf3fec83",
   "metadata": {},
   "outputs": [],
   "source": [
    "np.save('./dataset/savea',a)"
   ]
  },
  {
   "cell_type": "code",
   "execution_count": 45,
   "id": "d9e0c12f",
   "metadata": {},
   "outputs": [
    {
     "data": {
      "text/plain": [
       "array([2, 4, 1, 3])"
      ]
     },
     "execution_count": 45,
     "metadata": {},
     "output_type": "execute_result"
    }
   ],
   "source": [
    "np.load('./dataset/savea.npy')"
   ]
  },
  {
   "cell_type": "code",
   "execution_count": 49,
   "id": "3f62edcd",
   "metadata": {},
   "outputs": [],
   "source": [
    "np.savetxt('./dataset/savea', a)"
   ]
  },
  {
   "cell_type": "code",
   "execution_count": 50,
   "id": "cfed322d",
   "metadata": {},
   "outputs": [
    {
     "data": {
      "text/plain": [
       "array([2., 4., 1., 3.])"
      ]
     },
     "execution_count": 50,
     "metadata": {},
     "output_type": "execute_result"
    }
   ],
   "source": [
    "np.loadtxt('./dataset/savea')  # 默认float"
   ]
  },
  {
   "cell_type": "code",
   "execution_count": null,
   "id": "564dd8b8",
   "metadata": {},
   "outputs": [],
   "source": []
  }
 ],
 "metadata": {
  "kernelspec": {
   "display_name": "Python 3 (ipykernel)",
   "language": "python",
   "name": "python3"
  },
  "language_info": {
   "codemirror_mode": {
    "name": "ipython",
    "version": 3
   },
   "file_extension": ".py",
   "mimetype": "text/x-python",
   "name": "python",
   "nbconvert_exporter": "python",
   "pygments_lexer": "ipython3",
   "version": "3.10.9"
  }
 },
 "nbformat": 4,
 "nbformat_minor": 5
}
