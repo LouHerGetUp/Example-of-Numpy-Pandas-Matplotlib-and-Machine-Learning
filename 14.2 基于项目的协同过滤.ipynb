{
 "cells": [
  {
   "cell_type": "code",
   "execution_count": 2,
   "id": "d80179ad",
   "metadata": {},
   "outputs": [],
   "source": [
    "import pandas as pd\n",
    "import matplotlib.pyplot as plt\n",
    "%matplotlib inline\n",
    "import numpy as np\n",
    "from sklearn.metrics.pairwise import cosine_similarity"
   ]
  },
  {
   "cell_type": "code",
   "execution_count": 6,
   "id": "f80b90a2",
   "metadata": {},
   "outputs": [],
   "source": [
    "data = pd.DataFrame({'U1':[2, np.nan, 1, np.nan, 3],\n",
    "                     'U2':[np.nan, 3, np.nan, 4, np.nan],\n",
    "                     'U3':[4, np.nan, 5, 4, np.nan],\n",
    "                     'U4':[np.nan, 3, np.nan, 4, np.nan],\n",
    "                     'U5':[5, np.nan, 4, np.nan, 5]})\n",
    "data.index = ['S1', 'S2', 'S3', 'S4', 'S5']\n",
    "# 列代表用户，行代表物品"
   ]
  },
  {
   "cell_type": "code",
   "execution_count": 7,
   "id": "c65beb4f",
   "metadata": {},
   "outputs": [
    {
     "data": {
      "text/html": [
       "<div>\n",
       "<style scoped>\n",
       "    .dataframe tbody tr th:only-of-type {\n",
       "        vertical-align: middle;\n",
       "    }\n",
       "\n",
       "    .dataframe tbody tr th {\n",
       "        vertical-align: top;\n",
       "    }\n",
       "\n",
       "    .dataframe thead th {\n",
       "        text-align: right;\n",
       "    }\n",
       "</style>\n",
       "<table border=\"1\" class=\"dataframe\">\n",
       "  <thead>\n",
       "    <tr style=\"text-align: right;\">\n",
       "      <th></th>\n",
       "      <th>U1</th>\n",
       "      <th>U2</th>\n",
       "      <th>U3</th>\n",
       "      <th>U4</th>\n",
       "      <th>U5</th>\n",
       "    </tr>\n",
       "  </thead>\n",
       "  <tbody>\n",
       "    <tr>\n",
       "      <th>S1</th>\n",
       "      <td>2.0</td>\n",
       "      <td>NaN</td>\n",
       "      <td>4.0</td>\n",
       "      <td>NaN</td>\n",
       "      <td>5.0</td>\n",
       "    </tr>\n",
       "    <tr>\n",
       "      <th>S2</th>\n",
       "      <td>NaN</td>\n",
       "      <td>3.0</td>\n",
       "      <td>NaN</td>\n",
       "      <td>3.0</td>\n",
       "      <td>NaN</td>\n",
       "    </tr>\n",
       "    <tr>\n",
       "      <th>S3</th>\n",
       "      <td>1.0</td>\n",
       "      <td>NaN</td>\n",
       "      <td>5.0</td>\n",
       "      <td>NaN</td>\n",
       "      <td>4.0</td>\n",
       "    </tr>\n",
       "    <tr>\n",
       "      <th>S4</th>\n",
       "      <td>NaN</td>\n",
       "      <td>4.0</td>\n",
       "      <td>4.0</td>\n",
       "      <td>4.0</td>\n",
       "      <td>NaN</td>\n",
       "    </tr>\n",
       "    <tr>\n",
       "      <th>S5</th>\n",
       "      <td>3.0</td>\n",
       "      <td>NaN</td>\n",
       "      <td>NaN</td>\n",
       "      <td>NaN</td>\n",
       "      <td>5.0</td>\n",
       "    </tr>\n",
       "  </tbody>\n",
       "</table>\n",
       "</div>"
      ],
      "text/plain": [
       "     U1   U2   U3   U4   U5\n",
       "S1  2.0  NaN  4.0  NaN  5.0\n",
       "S2  NaN  3.0  NaN  3.0  NaN\n",
       "S3  1.0  NaN  5.0  NaN  4.0\n",
       "S4  NaN  4.0  4.0  4.0  NaN\n",
       "S5  3.0  NaN  NaN  NaN  5.0"
      ]
     },
     "execution_count": 7,
     "metadata": {},
     "output_type": "execute_result"
    }
   ],
   "source": [
    "data"
   ]
  },
  {
   "cell_type": "markdown",
   "id": "a1133af7",
   "metadata": {},
   "source": [
    "# 预测U3对S5的评分"
   ]
  },
  {
   "cell_type": "code",
   "execution_count": 8,
   "id": "6e8d9ef2",
   "metadata": {},
   "outputs": [],
   "source": [
    "data_center = data.apply(lambda x: x-x.mean(), axis=1)  # 对行去中心化"
   ]
  },
  {
   "cell_type": "code",
   "execution_count": 9,
   "id": "d476ae4e",
   "metadata": {},
   "outputs": [
    {
     "data": {
      "text/html": [
       "<div>\n",
       "<style scoped>\n",
       "    .dataframe tbody tr th:only-of-type {\n",
       "        vertical-align: middle;\n",
       "    }\n",
       "\n",
       "    .dataframe tbody tr th {\n",
       "        vertical-align: top;\n",
       "    }\n",
       "\n",
       "    .dataframe thead th {\n",
       "        text-align: right;\n",
       "    }\n",
       "</style>\n",
       "<table border=\"1\" class=\"dataframe\">\n",
       "  <thead>\n",
       "    <tr style=\"text-align: right;\">\n",
       "      <th></th>\n",
       "      <th>U1</th>\n",
       "      <th>U2</th>\n",
       "      <th>U3</th>\n",
       "      <th>U4</th>\n",
       "      <th>U5</th>\n",
       "    </tr>\n",
       "  </thead>\n",
       "  <tbody>\n",
       "    <tr>\n",
       "      <th>S1</th>\n",
       "      <td>-1.666667</td>\n",
       "      <td>NaN</td>\n",
       "      <td>0.333333</td>\n",
       "      <td>NaN</td>\n",
       "      <td>1.333333</td>\n",
       "    </tr>\n",
       "    <tr>\n",
       "      <th>S2</th>\n",
       "      <td>NaN</td>\n",
       "      <td>0.0</td>\n",
       "      <td>NaN</td>\n",
       "      <td>0.0</td>\n",
       "      <td>NaN</td>\n",
       "    </tr>\n",
       "    <tr>\n",
       "      <th>S3</th>\n",
       "      <td>-2.333333</td>\n",
       "      <td>NaN</td>\n",
       "      <td>1.666667</td>\n",
       "      <td>NaN</td>\n",
       "      <td>0.666667</td>\n",
       "    </tr>\n",
       "    <tr>\n",
       "      <th>S4</th>\n",
       "      <td>NaN</td>\n",
       "      <td>0.0</td>\n",
       "      <td>0.000000</td>\n",
       "      <td>0.0</td>\n",
       "      <td>NaN</td>\n",
       "    </tr>\n",
       "    <tr>\n",
       "      <th>S5</th>\n",
       "      <td>-1.000000</td>\n",
       "      <td>NaN</td>\n",
       "      <td>NaN</td>\n",
       "      <td>NaN</td>\n",
       "      <td>1.000000</td>\n",
       "    </tr>\n",
       "  </tbody>\n",
       "</table>\n",
       "</div>"
      ],
      "text/plain": [
       "          U1   U2        U3   U4        U5\n",
       "S1 -1.666667  NaN  0.333333  NaN  1.333333\n",
       "S2       NaN  0.0       NaN  0.0       NaN\n",
       "S3 -2.333333  NaN  1.666667  NaN  0.666667\n",
       "S4       NaN  0.0  0.000000  0.0       NaN\n",
       "S5 -1.000000  NaN       NaN  NaN  1.000000"
      ]
     },
     "execution_count": 9,
     "metadata": {},
     "output_type": "execute_result"
    }
   ],
   "source": [
    "data_center"
   ]
  },
  {
   "cell_type": "code",
   "execution_count": 10,
   "id": "f15e5f4b",
   "metadata": {},
   "outputs": [],
   "source": [
    "sim = []\n",
    "for i in range(len(data_center)):\n",
    "    simliarity = cosine_similarity(\n",
    "        np.nan_to_num(data.iloc[-1].values).reshape(1,-1),  # data.iloc[-1].values 取最后一行\n",
    "        np.nan_to_num(data.iloc[i].values).reshape(1,-1)\n",
    "    )\n",
    "    sim.append(simliarity)"
   ]
  },
  {
   "cell_type": "code",
   "execution_count": 11,
   "id": "bc0860e5",
   "metadata": {},
   "outputs": [
    {
     "data": {
      "text/plain": [
       "[array([[0.79253049]]),\n",
       " array([[0.]]),\n",
       " array([[0.60864454]]),\n",
       " array([[0.]]),\n",
       " array([[1.]])]"
      ]
     },
     "execution_count": 11,
     "metadata": {},
     "output_type": "execute_result"
    }
   ],
   "source": [
    "sim"
   ]
  },
  {
   "cell_type": "code",
   "execution_count": 12,
   "id": "4bb8a93e",
   "metadata": {},
   "outputs": [],
   "source": [
    "rate_u3 = pd.DataFrame({\n",
    "    'rating': data['U3'],\n",
    "    'sim': sim\n",
    "})"
   ]
  },
  {
   "cell_type": "code",
   "execution_count": 13,
   "id": "cf792472",
   "metadata": {},
   "outputs": [
    {
     "data": {
      "text/html": [
       "<div>\n",
       "<style scoped>\n",
       "    .dataframe tbody tr th:only-of-type {\n",
       "        vertical-align: middle;\n",
       "    }\n",
       "\n",
       "    .dataframe tbody tr th {\n",
       "        vertical-align: top;\n",
       "    }\n",
       "\n",
       "    .dataframe thead th {\n",
       "        text-align: right;\n",
       "    }\n",
       "</style>\n",
       "<table border=\"1\" class=\"dataframe\">\n",
       "  <thead>\n",
       "    <tr style=\"text-align: right;\">\n",
       "      <th></th>\n",
       "      <th>rating</th>\n",
       "      <th>sim</th>\n",
       "    </tr>\n",
       "  </thead>\n",
       "  <tbody>\n",
       "    <tr>\n",
       "      <th>S1</th>\n",
       "      <td>4.0</td>\n",
       "      <td>[[0.7925304884756161]]</td>\n",
       "    </tr>\n",
       "    <tr>\n",
       "      <th>S2</th>\n",
       "      <td>NaN</td>\n",
       "      <td>[[0.0]]</td>\n",
       "    </tr>\n",
       "    <tr>\n",
       "      <th>S3</th>\n",
       "      <td>5.0</td>\n",
       "      <td>[[0.6086445426287076]]</td>\n",
       "    </tr>\n",
       "    <tr>\n",
       "      <th>S4</th>\n",
       "      <td>4.0</td>\n",
       "      <td>[[0.0]]</td>\n",
       "    </tr>\n",
       "    <tr>\n",
       "      <th>S5</th>\n",
       "      <td>NaN</td>\n",
       "      <td>[[0.9999999999999998]]</td>\n",
       "    </tr>\n",
       "  </tbody>\n",
       "</table>\n",
       "</div>"
      ],
      "text/plain": [
       "    rating                     sim\n",
       "S1     4.0  [[0.7925304884756161]]\n",
       "S2     NaN                 [[0.0]]\n",
       "S3     5.0  [[0.6086445426287076]]\n",
       "S4     4.0                 [[0.0]]\n",
       "S5     NaN  [[0.9999999999999998]]"
      ]
     },
     "execution_count": 13,
     "metadata": {},
     "output_type": "execute_result"
    }
   ],
   "source": [
    "rate_u3"
   ]
  },
  {
   "cell_type": "code",
   "execution_count": 14,
   "id": "1a406254",
   "metadata": {},
   "outputs": [],
   "source": [
    "rate_u3 = rate_u3.dropna()"
   ]
  },
  {
   "cell_type": "code",
   "execution_count": 16,
   "id": "d7b4dcc6",
   "metadata": {},
   "outputs": [
    {
     "name": "stderr",
     "output_type": "stream",
     "text": [
      "C:\\Users\\luhe\\AppData\\Local\\Temp\\ipykernel_39504\\1164271930.py:1: SettingWithCopyWarning: \n",
      "A value is trying to be set on a copy of a slice from a DataFrame.\n",
      "Try using .loc[row_indexer,col_indexer] = value instead\n",
      "\n",
      "See the caveats in the documentation: https://pandas.pydata.org/pandas-docs/stable/user_guide/indexing.html#returning-a-view-versus-a-copy\n",
      "  rate_u3['sim'] = rate_u3['sim'].map(lambda x: x[0][0])\n"
     ]
    }
   ],
   "source": [
    "rate_u3['sim'] = rate_u3['sim'].map(lambda x: x[0][0])"
   ]
  },
  {
   "cell_type": "code",
   "execution_count": 21,
   "id": "4228e17c",
   "metadata": {},
   "outputs": [],
   "source": [
    "sim_u3 = rate_u3.sort_values('sim', ascending=False)[:2].copy()"
   ]
  },
  {
   "cell_type": "code",
   "execution_count": 22,
   "id": "402aeb86",
   "metadata": {},
   "outputs": [
    {
     "data": {
      "text/html": [
       "<div>\n",
       "<style scoped>\n",
       "    .dataframe tbody tr th:only-of-type {\n",
       "        vertical-align: middle;\n",
       "    }\n",
       "\n",
       "    .dataframe tbody tr th {\n",
       "        vertical-align: top;\n",
       "    }\n",
       "\n",
       "    .dataframe thead th {\n",
       "        text-align: right;\n",
       "    }\n",
       "</style>\n",
       "<table border=\"1\" class=\"dataframe\">\n",
       "  <thead>\n",
       "    <tr style=\"text-align: right;\">\n",
       "      <th></th>\n",
       "      <th>rating</th>\n",
       "      <th>sim</th>\n",
       "    </tr>\n",
       "  </thead>\n",
       "  <tbody>\n",
       "    <tr>\n",
       "      <th>S1</th>\n",
       "      <td>4.0</td>\n",
       "      <td>0.792530</td>\n",
       "    </tr>\n",
       "    <tr>\n",
       "      <th>S3</th>\n",
       "      <td>5.0</td>\n",
       "      <td>0.608645</td>\n",
       "    </tr>\n",
       "  </tbody>\n",
       "</table>\n",
       "</div>"
      ],
      "text/plain": [
       "    rating       sim\n",
       "S1     4.0  0.792530\n",
       "S3     5.0  0.608645"
      ]
     },
     "execution_count": 22,
     "metadata": {},
     "output_type": "execute_result"
    }
   ],
   "source": [
    "sim_u3"
   ]
  },
  {
   "cell_type": "code",
   "execution_count": 23,
   "id": "e969471d",
   "metadata": {},
   "outputs": [
    {
     "data": {
      "text/plain": [
       "4.43438152202085"
      ]
     },
     "execution_count": 23,
     "metadata": {},
     "output_type": "execute_result"
    }
   ],
   "source": [
    "(sim_u3.rating*sim_u3.sim).sum()/sim_u3.sim.sum()"
   ]
  },
  {
   "cell_type": "code",
   "execution_count": null,
   "id": "32dd01ba",
   "metadata": {},
   "outputs": [],
   "source": []
  }
 ],
 "metadata": {
  "kernelspec": {
   "display_name": "Python 3 (ipykernel)",
   "language": "python",
   "name": "python3"
  },
  "language_info": {
   "codemirror_mode": {
    "name": "ipython",
    "version": 3
   },
   "file_extension": ".py",
   "mimetype": "text/x-python",
   "name": "python",
   "nbconvert_exporter": "python",
   "pygments_lexer": "ipython3",
   "version": "3.10.9"
  }
 },
 "nbformat": 4,
 "nbformat_minor": 5
}
