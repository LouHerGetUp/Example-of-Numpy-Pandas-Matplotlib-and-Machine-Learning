{
 "cells": [
  {
   "cell_type": "code",
   "execution_count": 1,
   "id": "d1610af8",
   "metadata": {},
   "outputs": [],
   "source": [
    "from datetime import datetime   # 处理日期和时间的库，datatime一共有4个库\n",
    "import pandas as pd\n",
    "import numpy as np"
   ]
  },
  {
   "cell_type": "code",
   "execution_count": 2,
   "id": "6addafbe",
   "metadata": {},
   "outputs": [],
   "source": [
    "now = datetime.now()"
   ]
  },
  {
   "cell_type": "code",
   "execution_count": 3,
   "id": "899dbb8e",
   "metadata": {},
   "outputs": [
    {
     "data": {
      "text/plain": [
       "datetime.datetime(2023, 2, 24, 10, 28, 24, 228182)"
      ]
     },
     "execution_count": 3,
     "metadata": {},
     "output_type": "execute_result"
    }
   ],
   "source": [
    "now"
   ]
  },
  {
   "cell_type": "code",
   "execution_count": 4,
   "id": "593f9a2f",
   "metadata": {},
   "outputs": [
    {
     "data": {
      "text/plain": [
       "2023"
      ]
     },
     "execution_count": 4,
     "metadata": {},
     "output_type": "execute_result"
    }
   ],
   "source": [
    "now.year"
   ]
  },
  {
   "cell_type": "code",
   "execution_count": 5,
   "id": "91d8ace2",
   "metadata": {},
   "outputs": [
    {
     "data": {
      "text/plain": [
       "2"
      ]
     },
     "execution_count": 5,
     "metadata": {},
     "output_type": "execute_result"
    }
   ],
   "source": [
    "now.month"
   ]
  },
  {
   "cell_type": "code",
   "execution_count": 6,
   "id": "424112dc",
   "metadata": {},
   "outputs": [
    {
     "data": {
      "text/plain": [
       "24"
      ]
     },
     "execution_count": 6,
     "metadata": {},
     "output_type": "execute_result"
    }
   ],
   "source": [
    "now.day"
   ]
  },
  {
   "cell_type": "code",
   "execution_count": 9,
   "id": "8232bf8a",
   "metadata": {},
   "outputs": [],
   "source": [
    "delta = datetime(2019,1,6) - datetime(2019,1,1,10,0)"
   ]
  },
  {
   "cell_type": "code",
   "execution_count": 10,
   "id": "7c12563a",
   "metadata": {},
   "outputs": [
    {
     "data": {
      "text/plain": [
       "datetime.timedelta(days=4, seconds=50400)"
      ]
     },
     "execution_count": 10,
     "metadata": {},
     "output_type": "execute_result"
    }
   ],
   "source": [
    "delta"
   ]
  },
  {
   "cell_type": "code",
   "execution_count": 11,
   "id": "5e8963b3",
   "metadata": {},
   "outputs": [
    {
     "data": {
      "text/plain": [
       "4"
      ]
     },
     "execution_count": 11,
     "metadata": {},
     "output_type": "execute_result"
    }
   ],
   "source": [
    "delta.days"
   ]
  },
  {
   "cell_type": "code",
   "execution_count": 12,
   "id": "83d1b8fd",
   "metadata": {},
   "outputs": [
    {
     "data": {
      "text/plain": [
       "50400"
      ]
     },
     "execution_count": 12,
     "metadata": {},
     "output_type": "execute_result"
    }
   ],
   "source": [
    "delta.seconds"
   ]
  },
  {
   "cell_type": "code",
   "execution_count": 13,
   "id": "4b5dadff",
   "metadata": {},
   "outputs": [],
   "source": [
    "from datetime import timedelta  # 用于处理时间跨度"
   ]
  },
  {
   "cell_type": "code",
   "execution_count": 14,
   "id": "9e61de66",
   "metadata": {},
   "outputs": [],
   "source": [
    "future = datetime(2019,1,6) + timedelta(30)"
   ]
  },
  {
   "cell_type": "code",
   "execution_count": 15,
   "id": "ea0a886b",
   "metadata": {},
   "outputs": [
    {
     "data": {
      "text/plain": [
       "datetime.datetime(2019, 2, 5, 0, 0)"
      ]
     },
     "execution_count": 15,
     "metadata": {},
     "output_type": "execute_result"
    }
   ],
   "source": [
    "future"
   ]
  },
  {
   "cell_type": "code",
   "execution_count": 16,
   "id": "cd7b7d24",
   "metadata": {},
   "outputs": [
    {
     "data": {
      "text/plain": [
       "'2019-02-05 00:00:00'"
      ]
     },
     "execution_count": 16,
     "metadata": {},
     "output_type": "execute_result"
    }
   ],
   "source": [
    "str(future)"
   ]
  },
  {
   "cell_type": "code",
   "execution_count": 18,
   "id": "e322a9d5",
   "metadata": {},
   "outputs": [],
   "source": [
    "fut = future.strftime('%Y-%m-%d')  # datetime 转化为 str"
   ]
  },
  {
   "cell_type": "code",
   "execution_count": 19,
   "id": "d1024193",
   "metadata": {},
   "outputs": [
    {
     "data": {
      "text/plain": [
       "'2019-02-05'"
      ]
     },
     "execution_count": 19,
     "metadata": {},
     "output_type": "execute_result"
    }
   ],
   "source": [
    "fut"
   ]
  },
  {
   "cell_type": "code",
   "execution_count": 20,
   "id": "57ddc1bc",
   "metadata": {},
   "outputs": [
    {
     "data": {
      "text/plain": [
       "datetime.datetime(2019, 2, 5, 0, 0)"
      ]
     },
     "execution_count": 20,
     "metadata": {},
     "output_type": "execute_result"
    }
   ],
   "source": [
    "datetime.strptime(fut, '%Y-%m-%d')  # str 转化为 datetime"
   ]
  },
  {
   "cell_type": "code",
   "execution_count": 22,
   "id": "790298a5",
   "metadata": {},
   "outputs": [
    {
     "data": {
      "text/plain": [
       "Timestamp('2019-02-05 00:00:00')"
      ]
     },
     "execution_count": 22,
     "metadata": {},
     "output_type": "execute_result"
    }
   ],
   "source": [
    "pd.to_datetime(fut)  # str 转 Timestamp"
   ]
  },
  {
   "cell_type": "code",
   "execution_count": 23,
   "id": "4426e606",
   "metadata": {},
   "outputs": [],
   "source": [
    "fut = '2019/2/5'"
   ]
  },
  {
   "cell_type": "code",
   "execution_count": 24,
   "id": "656933f8",
   "metadata": {},
   "outputs": [
    {
     "data": {
      "text/plain": [
       "Timestamp('2019-02-05 00:00:00')"
      ]
     },
     "execution_count": 24,
     "metadata": {},
     "output_type": "execute_result"
    }
   ],
   "source": [
    "pd.to_datetime(fut)"
   ]
  },
  {
   "cell_type": "code",
   "execution_count": 25,
   "id": "a9dd66b4",
   "metadata": {},
   "outputs": [],
   "source": [
    "fut = '2019-2-5'"
   ]
  },
  {
   "cell_type": "code",
   "execution_count": 26,
   "id": "5931bcca",
   "metadata": {},
   "outputs": [
    {
     "data": {
      "text/plain": [
       "Timestamp('2019-02-05 00:00:00')"
      ]
     },
     "execution_count": 26,
     "metadata": {},
     "output_type": "execute_result"
    }
   ],
   "source": [
    "pd.to_datetime(fut)"
   ]
  },
  {
   "cell_type": "code",
   "execution_count": 27,
   "id": "be6a77c0",
   "metadata": {},
   "outputs": [],
   "source": [
    "fut = '2019.2.5'"
   ]
  },
  {
   "cell_type": "code",
   "execution_count": 28,
   "id": "e77233d9",
   "metadata": {},
   "outputs": [
    {
     "data": {
      "text/plain": [
       "Timestamp('2019-02-05 00:00:00')"
      ]
     },
     "execution_count": 28,
     "metadata": {},
     "output_type": "execute_result"
    }
   ],
   "source": [
    "pd.to_datetime(fut)"
   ]
  },
  {
   "cell_type": "code",
   "execution_count": 31,
   "id": "b169235b",
   "metadata": {},
   "outputs": [],
   "source": [
    "fut = '2-5-2019'"
   ]
  },
  {
   "cell_type": "code",
   "execution_count": 32,
   "id": "c70afbff",
   "metadata": {},
   "outputs": [
    {
     "data": {
      "text/plain": [
       "Timestamp('2019-02-05 00:00:00')"
      ]
     },
     "execution_count": 32,
     "metadata": {},
     "output_type": "execute_result"
    }
   ],
   "source": [
    "pd.to_datetime(fut)"
   ]
  },
  {
   "cell_type": "code",
   "execution_count": 33,
   "id": "a59dfe80",
   "metadata": {},
   "outputs": [],
   "source": [
    "fut = '5-2-2019'"
   ]
  },
  {
   "cell_type": "code",
   "execution_count": 34,
   "id": "f296a784",
   "metadata": {},
   "outputs": [
    {
     "data": {
      "text/plain": [
       "Timestamp('2019-02-05 00:00:00')"
      ]
     },
     "execution_count": 34,
     "metadata": {},
     "output_type": "execute_result"
    }
   ],
   "source": [
    "pd.to_datetime(fut, dayfirst=True)"
   ]
  },
  {
   "cell_type": "code",
   "execution_count": 35,
   "id": "41593369",
   "metadata": {},
   "outputs": [
    {
     "data": {
      "text/plain": [
       "DatetimeIndex(['2019-01-06', '2019-02-01'], dtype='datetime64[ns]', freq=None)"
      ]
     },
     "execution_count": 35,
     "metadata": {},
     "output_type": "execute_result"
    }
   ],
   "source": [
    "pd.to_datetime(['2019-1-6', '2019-2-1'])  # 时间序列就是以datetime作为时间索引的序列"
   ]
  },
  {
   "cell_type": "markdown",
   "id": "f1c069d4",
   "metadata": {},
   "source": [
    "# DatetimeIndex生成"
   ]
  },
  {
   "cell_type": "code",
   "execution_count": 40,
   "id": "98b6ec17",
   "metadata": {},
   "outputs": [],
   "source": [
    "index = pd.date_range('2018.2.1','2018.12.31') # 默认间隔为day"
   ]
  },
  {
   "cell_type": "code",
   "execution_count": 41,
   "id": "aa51713d",
   "metadata": {},
   "outputs": [
    {
     "data": {
      "text/plain": [
       "DatetimeIndex(['2018-02-01', '2018-02-02', '2018-02-03', '2018-02-04',\n",
       "               '2018-02-05', '2018-02-06', '2018-02-07', '2018-02-08',\n",
       "               '2018-02-09', '2018-02-10',\n",
       "               ...\n",
       "               '2018-12-22', '2018-12-23', '2018-12-24', '2018-12-25',\n",
       "               '2018-12-26', '2018-12-27', '2018-12-28', '2018-12-29',\n",
       "               '2018-12-30', '2018-12-31'],\n",
       "              dtype='datetime64[ns]', length=334, freq='D')"
      ]
     },
     "execution_count": 41,
     "metadata": {},
     "output_type": "execute_result"
    }
   ],
   "source": [
    "index"
   ]
  },
  {
   "cell_type": "code",
   "execution_count": 42,
   "id": "f3764401",
   "metadata": {},
   "outputs": [],
   "source": [
    "index = pd.date_range('2018.2.1', periods=20)  # 长度为20天"
   ]
  },
  {
   "cell_type": "code",
   "execution_count": 43,
   "id": "2c573e3e",
   "metadata": {},
   "outputs": [
    {
     "data": {
      "text/plain": [
       "DatetimeIndex(['2018-02-01', '2018-02-02', '2018-02-03', '2018-02-04',\n",
       "               '2018-02-05', '2018-02-06', '2018-02-07', '2018-02-08',\n",
       "               '2018-02-09', '2018-02-10', '2018-02-11', '2018-02-12',\n",
       "               '2018-02-13', '2018-02-14', '2018-02-15', '2018-02-16',\n",
       "               '2018-02-17', '2018-02-18', '2018-02-19', '2018-02-20'],\n",
       "              dtype='datetime64[ns]', freq='D')"
      ]
     },
     "execution_count": 43,
     "metadata": {},
     "output_type": "execute_result"
    }
   ],
   "source": [
    "index"
   ]
  },
  {
   "cell_type": "code",
   "execution_count": 44,
   "id": "f4008a40",
   "metadata": {},
   "outputs": [],
   "source": [
    "index = pd.date_range(end='2018.2.1', periods=20)  # 长度为20天"
   ]
  },
  {
   "cell_type": "code",
   "execution_count": 45,
   "id": "092ba0fe",
   "metadata": {},
   "outputs": [
    {
     "data": {
      "text/plain": [
       "DatetimeIndex(['2018-01-13', '2018-01-14', '2018-01-15', '2018-01-16',\n",
       "               '2018-01-17', '2018-01-18', '2018-01-19', '2018-01-20',\n",
       "               '2018-01-21', '2018-01-22', '2018-01-23', '2018-01-24',\n",
       "               '2018-01-25', '2018-01-26', '2018-01-27', '2018-01-28',\n",
       "               '2018-01-29', '2018-01-30', '2018-01-31', '2018-02-01'],\n",
       "              dtype='datetime64[ns]', freq='D')"
      ]
     },
     "execution_count": 45,
     "metadata": {},
     "output_type": "execute_result"
    }
   ],
   "source": [
    "index"
   ]
  },
  {
   "cell_type": "code",
   "execution_count": 46,
   "id": "76e8d44b",
   "metadata": {},
   "outputs": [],
   "source": [
    "index = pd.date_range('2018.2.1','2018.12.31', freq='2D')  # 间隔为2天"
   ]
  },
  {
   "cell_type": "code",
   "execution_count": 47,
   "id": "165adffe",
   "metadata": {},
   "outputs": [
    {
     "data": {
      "text/plain": [
       "DatetimeIndex(['2018-02-01', '2018-02-03', '2018-02-05', '2018-02-07',\n",
       "               '2018-02-09', '2018-02-11', '2018-02-13', '2018-02-15',\n",
       "               '2018-02-17', '2018-02-19',\n",
       "               ...\n",
       "               '2018-12-12', '2018-12-14', '2018-12-16', '2018-12-18',\n",
       "               '2018-12-20', '2018-12-22', '2018-12-24', '2018-12-26',\n",
       "               '2018-12-28', '2018-12-30'],\n",
       "              dtype='datetime64[ns]', length=167, freq='2D')"
      ]
     },
     "execution_count": 47,
     "metadata": {},
     "output_type": "execute_result"
    }
   ],
   "source": [
    "index"
   ]
  },
  {
   "cell_type": "code",
   "execution_count": 48,
   "id": "539bb9b7",
   "metadata": {},
   "outputs": [],
   "source": [
    "index = pd.date_range('2018.2.1','2018.12.31', freq='BM')  # BM 每个月的最后一个工作日"
   ]
  },
  {
   "cell_type": "code",
   "execution_count": 49,
   "id": "b18a094e",
   "metadata": {},
   "outputs": [
    {
     "data": {
      "text/plain": [
       "DatetimeIndex(['2018-02-28', '2018-03-30', '2018-04-30', '2018-05-31',\n",
       "               '2018-06-29', '2018-07-31', '2018-08-31', '2018-09-28',\n",
       "               '2018-10-31', '2018-11-30', '2018-12-31'],\n",
       "              dtype='datetime64[ns]', freq='BM')"
      ]
     },
     "execution_count": 49,
     "metadata": {},
     "output_type": "execute_result"
    }
   ],
   "source": [
    "index"
   ]
  },
  {
   "cell_type": "code",
   "execution_count": 50,
   "id": "f4fd689f",
   "metadata": {},
   "outputs": [],
   "source": [
    "index = pd.date_range('2018.2.1','2018.2.3', freq='5min')"
   ]
  },
  {
   "cell_type": "code",
   "execution_count": 51,
   "id": "c7fc7f09",
   "metadata": {},
   "outputs": [
    {
     "data": {
      "text/plain": [
       "DatetimeIndex(['2018-02-01 00:00:00', '2018-02-01 00:05:00',\n",
       "               '2018-02-01 00:10:00', '2018-02-01 00:15:00',\n",
       "               '2018-02-01 00:20:00', '2018-02-01 00:25:00',\n",
       "               '2018-02-01 00:30:00', '2018-02-01 00:35:00',\n",
       "               '2018-02-01 00:40:00', '2018-02-01 00:45:00',\n",
       "               ...\n",
       "               '2018-02-02 23:15:00', '2018-02-02 23:20:00',\n",
       "               '2018-02-02 23:25:00', '2018-02-02 23:30:00',\n",
       "               '2018-02-02 23:35:00', '2018-02-02 23:40:00',\n",
       "               '2018-02-02 23:45:00', '2018-02-02 23:50:00',\n",
       "               '2018-02-02 23:55:00', '2018-02-03 00:00:00'],\n",
       "              dtype='datetime64[ns]', length=577, freq='5T')"
      ]
     },
     "execution_count": 51,
     "metadata": {},
     "output_type": "execute_result"
    }
   ],
   "source": [
    "index"
   ]
  },
  {
   "cell_type": "code",
   "execution_count": 52,
   "id": "f4c85d10",
   "metadata": {},
   "outputs": [],
   "source": [
    "index = pd.date_range('2018.2.1','2018.2.3', freq='5S')"
   ]
  },
  {
   "cell_type": "code",
   "execution_count": 53,
   "id": "5cc605e8",
   "metadata": {},
   "outputs": [
    {
     "data": {
      "text/plain": [
       "DatetimeIndex(['2018-02-01 00:00:00', '2018-02-01 00:00:05',\n",
       "               '2018-02-01 00:00:10', '2018-02-01 00:00:15',\n",
       "               '2018-02-01 00:00:20', '2018-02-01 00:00:25',\n",
       "               '2018-02-01 00:00:30', '2018-02-01 00:00:35',\n",
       "               '2018-02-01 00:00:40', '2018-02-01 00:00:45',\n",
       "               ...\n",
       "               '2018-02-02 23:59:15', '2018-02-02 23:59:20',\n",
       "               '2018-02-02 23:59:25', '2018-02-02 23:59:30',\n",
       "               '2018-02-02 23:59:35', '2018-02-02 23:59:40',\n",
       "               '2018-02-02 23:59:45', '2018-02-02 23:59:50',\n",
       "               '2018-02-02 23:59:55', '2018-02-03 00:00:00'],\n",
       "              dtype='datetime64[ns]', length=34561, freq='5S')"
      ]
     },
     "execution_count": 53,
     "metadata": {},
     "output_type": "execute_result"
    }
   ],
   "source": [
    "index"
   ]
  },
  {
   "cell_type": "code",
   "execution_count": 54,
   "id": "2e2e52ef",
   "metadata": {},
   "outputs": [],
   "source": [
    "ts = pd.Series(np.random.randn(1000), index=pd.date_range('2012.1.1', periods=1000))"
   ]
  },
  {
   "cell_type": "code",
   "execution_count": 55,
   "id": "b9ec4bfd",
   "metadata": {},
   "outputs": [
    {
     "data": {
      "text/plain": [
       "DatetimeIndex(['2012-01-01', '2012-01-02', '2012-01-03', '2012-01-04',\n",
       "               '2012-01-05', '2012-01-06', '2012-01-07', '2012-01-08',\n",
       "               '2012-01-09', '2012-01-10',\n",
       "               ...\n",
       "               '2014-09-17', '2014-09-18', '2014-09-19', '2014-09-20',\n",
       "               '2014-09-21', '2014-09-22', '2014-09-23', '2014-09-24',\n",
       "               '2014-09-25', '2014-09-26'],\n",
       "              dtype='datetime64[ns]', length=1000, freq='D')"
      ]
     },
     "execution_count": 55,
     "metadata": {},
     "output_type": "execute_result"
    }
   ],
   "source": [
    "ts.index"
   ]
  },
  {
   "cell_type": "code",
   "execution_count": 56,
   "id": "038a43d7",
   "metadata": {},
   "outputs": [
    {
     "data": {
      "text/plain": [
       "2012-01-01    1.382965\n",
       "2012-01-02    0.135244\n",
       "2012-01-03    0.818956\n",
       "2012-01-04    1.333129\n",
       "2012-01-05   -1.808094\n",
       "2012-01-06   -0.727444\n",
       "2012-01-07   -0.350369\n",
       "2012-01-08   -0.459492\n",
       "2012-01-09   -0.151997\n",
       "2012-01-10   -0.931634\n",
       "2012-01-11   -1.434029\n",
       "2012-01-12    0.310553\n",
       "2012-01-13    0.215527\n",
       "2012-01-14   -1.322228\n",
       "2012-01-15   -1.160990\n",
       "2012-01-16    0.830685\n",
       "2012-01-17   -0.563355\n",
       "2012-01-18    0.274711\n",
       "2012-01-19    0.502241\n",
       "2012-01-20   -1.520720\n",
       "2012-01-21   -0.968402\n",
       "2012-01-22   -1.241061\n",
       "2012-01-23   -1.134354\n",
       "2012-01-24   -0.145008\n",
       "2012-01-25   -0.479667\n",
       "2012-01-26    0.832437\n",
       "2012-01-27   -1.596848\n",
       "2012-01-28   -0.112290\n",
       "2012-01-29   -0.796481\n",
       "2012-01-30   -0.026577\n",
       "2012-01-31   -0.073298\n",
       "Freq: D, dtype: float64"
      ]
     },
     "execution_count": 56,
     "metadata": {},
     "output_type": "execute_result"
    }
   ],
   "source": [
    "ts['2012-1']"
   ]
  },
  {
   "cell_type": "code",
   "execution_count": 57,
   "id": "7458df21",
   "metadata": {},
   "outputs": [
    {
     "data": {
      "text/plain": [
       "2013-01-01   -1.225686\n",
       "2013-01-02   -1.227538\n",
       "2013-01-03    1.268178\n",
       "2013-01-04    1.237741\n",
       "2013-01-05   -0.293115\n",
       "                ...   \n",
       "2013-10-27   -2.810695\n",
       "2013-10-28   -1.907196\n",
       "2013-10-29   -0.252804\n",
       "2013-10-30   -0.084851\n",
       "2013-10-31    0.363365\n",
       "Freq: D, Length: 304, dtype: float64"
      ]
     },
     "execution_count": 57,
     "metadata": {},
     "output_type": "execute_result"
    }
   ],
   "source": [
    "ts['2013-1':'2013-10']"
   ]
  },
  {
   "cell_type": "code",
   "execution_count": 59,
   "id": "4ff7ed43",
   "metadata": {},
   "outputs": [
    {
     "data": {
      "text/plain": [
       "-0.07413563815263009"
      ]
     },
     "execution_count": 59,
     "metadata": {},
     "output_type": "execute_result"
    }
   ],
   "source": [
    "ts['2014'].mean()"
   ]
  },
  {
   "cell_type": "code",
   "execution_count": 60,
   "id": "57e95a50",
   "metadata": {},
   "outputs": [
    {
     "data": {
      "text/plain": [
       "-0.42389071287512115"
      ]
     },
     "execution_count": 60,
     "metadata": {},
     "output_type": "execute_result"
    }
   ],
   "source": [
    "ts['2014-5-10']"
   ]
  },
  {
   "cell_type": "markdown",
   "id": "feb7a7aa",
   "metadata": {},
   "source": [
    "# 重采样"
   ]
  },
  {
   "cell_type": "raw",
   "id": "e0f8dc12",
   "metadata": {},
   "source": [
    "# 将时间序列从一个频率转换到另一个频率：降采样、升采样，采样时间点变化"
   ]
  },
  {
   "cell_type": "code",
   "execution_count": 61,
   "id": "614ee58c",
   "metadata": {},
   "outputs": [
    {
     "data": {
      "text/plain": [
       "2012-01-01    1.382965\n",
       "2012-01-02    0.135244\n",
       "2012-01-03    0.818956\n",
       "2012-01-04    1.333129\n",
       "2012-01-05   -1.808094\n",
       "                ...   \n",
       "2014-09-22   -1.802627\n",
       "2014-09-23   -0.609898\n",
       "2014-09-24   -1.078310\n",
       "2014-09-25    0.023006\n",
       "2014-09-26    0.156789\n",
       "Freq: D, Length: 1000, dtype: float64"
      ]
     },
     "execution_count": 61,
     "metadata": {},
     "output_type": "execute_result"
    }
   ],
   "source": [
    "ts"
   ]
  },
  {
   "cell_type": "code",
   "execution_count": 62,
   "id": "eb16e759",
   "metadata": {},
   "outputs": [
    {
     "data": {
      "text/plain": [
       "2012-01-31   -0.334448\n",
       "2012-02-29    0.004349\n",
       "2012-03-31   -0.107226\n",
       "2012-04-30   -0.419820\n",
       "2012-05-31    0.360198\n",
       "2012-06-30   -0.180067\n",
       "2012-07-31    0.001936\n",
       "2012-08-31   -0.064377\n",
       "2012-09-30    0.214335\n",
       "2012-10-31   -0.102699\n",
       "2012-11-30   -0.044636\n",
       "2012-12-31    0.143474\n",
       "2013-01-31    0.089868\n",
       "2013-02-28   -0.146673\n",
       "2013-03-31   -0.178539\n",
       "2013-04-30    0.141161\n",
       "2013-05-31   -0.022401\n",
       "2013-06-30    0.135399\n",
       "2013-07-31   -0.091730\n",
       "2013-08-31   -0.096587\n",
       "2013-09-30    0.041178\n",
       "2013-10-31    0.063334\n",
       "2013-11-30    0.229726\n",
       "2013-12-31   -0.107036\n",
       "2014-01-31   -0.113938\n",
       "2014-02-28   -0.112186\n",
       "2014-03-31   -0.220356\n",
       "2014-04-30   -0.310699\n",
       "2014-05-31    0.097005\n",
       "2014-06-30   -0.159744\n",
       "2014-07-31    0.027904\n",
       "2014-08-31    0.156908\n",
       "2014-09-30   -0.040817\n",
       "Freq: M, dtype: float64"
      ]
     },
     "execution_count": 62,
     "metadata": {},
     "output_type": "execute_result"
    }
   ],
   "source": [
    "ts.resample('M').mean()  # 按月重采样"
   ]
  },
  {
   "cell_type": "code",
   "execution_count": 65,
   "id": "496aa211",
   "metadata": {},
   "outputs": [
    {
     "data": {
      "text/plain": [
       "2012-12-31   -0.043653\n",
       "2013-12-31    0.004606\n",
       "2014-12-31   -0.074136\n",
       "Freq: A-DEC, dtype: float64"
      ]
     },
     "execution_count": 65,
     "metadata": {},
     "output_type": "execute_result"
    }
   ],
   "source": [
    "ts.resample('Y').mean()"
   ]
  },
  {
   "cell_type": "code",
   "execution_count": 67,
   "id": "c0c877a3",
   "metadata": {},
   "outputs": [
    {
     "data": {
      "text/plain": [
       "1    -0.119506\n",
       "2    -0.083788\n",
       "3    -0.168707\n",
       "4    -0.196453\n",
       "5     0.144934\n",
       "6    -0.068137\n",
       "7    -0.020630\n",
       "8    -0.001352\n",
       "9     0.076792\n",
       "10   -0.019682\n",
       "11    0.092545\n",
       "12    0.018219\n",
       "dtype: float64"
      ]
     },
     "execution_count": 67,
     "metadata": {},
     "output_type": "execute_result"
    }
   ],
   "source": [
    "ts.groupby(lambda x:x.month).mean()"
   ]
  },
  {
   "cell_type": "code",
   "execution_count": 68,
   "id": "acd19635",
   "metadata": {},
   "outputs": [
    {
     "data": {
      "text/plain": [
       "2012   -0.043653\n",
       "2013    0.004606\n",
       "2014   -0.074136\n",
       "dtype: float64"
      ]
     },
     "execution_count": 68,
     "metadata": {},
     "output_type": "execute_result"
    }
   ],
   "source": [
    "ts.groupby(lambda x:x.year).mean()"
   ]
  },
  {
   "cell_type": "code",
   "execution_count": 73,
   "id": "91ef2d52",
   "metadata": {},
   "outputs": [],
   "source": [
    "data = pd.read_csv('./dataset/air1908.csv', index_col='Date', parse_dates=True)\n",
    "# parse_dates=True 解析时间"
   ]
  },
  {
   "cell_type": "code",
   "execution_count": 74,
   "id": "ff98e325",
   "metadata": {},
   "outputs": [
    {
     "data": {
      "text/html": [
       "<div>\n",
       "<style scoped>\n",
       "    .dataframe tbody tr th:only-of-type {\n",
       "        vertical-align: middle;\n",
       "    }\n",
       "\n",
       "    .dataframe tbody tr th {\n",
       "        vertical-align: top;\n",
       "    }\n",
       "\n",
       "    .dataframe thead th {\n",
       "        text-align: right;\n",
       "    }\n",
       "</style>\n",
       "<table border=\"1\" class=\"dataframe\">\n",
       "  <thead>\n",
       "    <tr style=\"text-align: right;\">\n",
       "      <th></th>\n",
       "      <th>Time</th>\n",
       "      <th>Location</th>\n",
       "      <th>Operator</th>\n",
       "      <th>Flight #</th>\n",
       "      <th>Route</th>\n",
       "      <th>Type</th>\n",
       "      <th>Registration</th>\n",
       "      <th>cn/In</th>\n",
       "      <th>Aboard</th>\n",
       "      <th>Fatalities</th>\n",
       "      <th>Ground</th>\n",
       "      <th>Summary</th>\n",
       "    </tr>\n",
       "    <tr>\n",
       "      <th>Date</th>\n",
       "      <th></th>\n",
       "      <th></th>\n",
       "      <th></th>\n",
       "      <th></th>\n",
       "      <th></th>\n",
       "      <th></th>\n",
       "      <th></th>\n",
       "      <th></th>\n",
       "      <th></th>\n",
       "      <th></th>\n",
       "      <th></th>\n",
       "      <th></th>\n",
       "    </tr>\n",
       "  </thead>\n",
       "  <tbody>\n",
       "    <tr>\n",
       "      <th>1908-09-17</th>\n",
       "      <td>17:18</td>\n",
       "      <td>Fort Myer, Virginia</td>\n",
       "      <td>Military - U.S. Army</td>\n",
       "      <td>NaN</td>\n",
       "      <td>Demonstration</td>\n",
       "      <td>Wright Flyer III</td>\n",
       "      <td>NaN</td>\n",
       "      <td>1</td>\n",
       "      <td>2.0</td>\n",
       "      <td>1.0</td>\n",
       "      <td>0.0</td>\n",
       "      <td>During a demonstration flight, a U.S. Army fly...</td>\n",
       "    </tr>\n",
       "    <tr>\n",
       "      <th>1912-07-12</th>\n",
       "      <td>06:30</td>\n",
       "      <td>AtlantiCity, New Jersey</td>\n",
       "      <td>Military - U.S. Navy</td>\n",
       "      <td>NaN</td>\n",
       "      <td>Test flight</td>\n",
       "      <td>Dirigible</td>\n",
       "      <td>NaN</td>\n",
       "      <td>NaN</td>\n",
       "      <td>5.0</td>\n",
       "      <td>5.0</td>\n",
       "      <td>0.0</td>\n",
       "      <td>First U.S. dirigible Akron exploded just offsh...</td>\n",
       "    </tr>\n",
       "    <tr>\n",
       "      <th>1913-08-06</th>\n",
       "      <td>NaN</td>\n",
       "      <td>Victoria, British Columbia, Canada</td>\n",
       "      <td>Private</td>\n",
       "      <td>-</td>\n",
       "      <td>NaN</td>\n",
       "      <td>Curtiss seaplane</td>\n",
       "      <td>NaN</td>\n",
       "      <td>NaN</td>\n",
       "      <td>1.0</td>\n",
       "      <td>1.0</td>\n",
       "      <td>0.0</td>\n",
       "      <td>The first fatal airplane accident in Canada oc...</td>\n",
       "    </tr>\n",
       "    <tr>\n",
       "      <th>1913-09-09</th>\n",
       "      <td>18:30</td>\n",
       "      <td>Over the North Sea</td>\n",
       "      <td>Military - German Navy</td>\n",
       "      <td>NaN</td>\n",
       "      <td>NaN</td>\n",
       "      <td>Zeppelin L-1 (airship)</td>\n",
       "      <td>NaN</td>\n",
       "      <td>NaN</td>\n",
       "      <td>20.0</td>\n",
       "      <td>14.0</td>\n",
       "      <td>0.0</td>\n",
       "      <td>The airship flew into a thunderstorm and encou...</td>\n",
       "    </tr>\n",
       "    <tr>\n",
       "      <th>1913-10-17</th>\n",
       "      <td>10:30</td>\n",
       "      <td>Near Johannisthal, Germany</td>\n",
       "      <td>Military - German Navy</td>\n",
       "      <td>NaN</td>\n",
       "      <td>NaN</td>\n",
       "      <td>Zeppelin L-2 (airship)</td>\n",
       "      <td>NaN</td>\n",
       "      <td>NaN</td>\n",
       "      <td>30.0</td>\n",
       "      <td>30.0</td>\n",
       "      <td>0.0</td>\n",
       "      <td>Hydrogen gas which was being vented was sucked...</td>\n",
       "    </tr>\n",
       "  </tbody>\n",
       "</table>\n",
       "</div>"
      ],
      "text/plain": [
       "             Time                            Location                Operator  \\\n",
       "Date                                                                            \n",
       "1908-09-17  17:18                 Fort Myer, Virginia    Military - U.S. Army   \n",
       "1912-07-12  06:30             AtlantiCity, New Jersey    Military - U.S. Navy   \n",
       "1913-08-06    NaN  Victoria, British Columbia, Canada                 Private   \n",
       "1913-09-09  18:30                  Over the North Sea  Military - German Navy   \n",
       "1913-10-17  10:30          Near Johannisthal, Germany  Military - German Navy   \n",
       "\n",
       "           Flight #          Route                    Type Registration cn/In  \\\n",
       "Date                                                                            \n",
       "1908-09-17      NaN  Demonstration        Wright Flyer III          NaN     1   \n",
       "1912-07-12      NaN    Test flight               Dirigible          NaN   NaN   \n",
       "1913-08-06        -            NaN        Curtiss seaplane          NaN   NaN   \n",
       "1913-09-09      NaN            NaN  Zeppelin L-1 (airship)          NaN   NaN   \n",
       "1913-10-17      NaN            NaN  Zeppelin L-2 (airship)          NaN   NaN   \n",
       "\n",
       "            Aboard  Fatalities  Ground  \\\n",
       "Date                                     \n",
       "1908-09-17     2.0         1.0     0.0   \n",
       "1912-07-12     5.0         5.0     0.0   \n",
       "1913-08-06     1.0         1.0     0.0   \n",
       "1913-09-09    20.0        14.0     0.0   \n",
       "1913-10-17    30.0        30.0     0.0   \n",
       "\n",
       "                                                      Summary  \n",
       "Date                                                           \n",
       "1908-09-17  During a demonstration flight, a U.S. Army fly...  \n",
       "1912-07-12  First U.S. dirigible Akron exploded just offsh...  \n",
       "1913-08-06  The first fatal airplane accident in Canada oc...  \n",
       "1913-09-09  The airship flew into a thunderstorm and encou...  \n",
       "1913-10-17  Hydrogen gas which was being vented was sucked...  "
      ]
     },
     "execution_count": 74,
     "metadata": {},
     "output_type": "execute_result"
    }
   ],
   "source": [
    "data.head()"
   ]
  },
  {
   "cell_type": "code",
   "execution_count": 75,
   "id": "dab1fe0f",
   "metadata": {},
   "outputs": [
    {
     "data": {
      "text/plain": [
       "DatetimeIndex(['1908-09-17', '1912-07-12', '1913-08-06', '1913-09-09',\n",
       "               '1913-10-17', '1915-03-05', '1915-09-03', '1916-07-28',\n",
       "               '1916-09-24', '1916-10-01',\n",
       "               ...\n",
       "               '2009-04-09', '2009-04-17', '2009-04-17', '2009-04-29',\n",
       "               '2009-05-03', '2009-05-20', '2009-05-26', '2009-06-01',\n",
       "               '2009-06-07', '2009-06-08'],\n",
       "              dtype='datetime64[ns]', name='Date', length=5268, freq=None)"
      ]
     },
     "execution_count": 75,
     "metadata": {},
     "output_type": "execute_result"
    }
   ],
   "source": [
    "data.index"
   ]
  },
  {
   "cell_type": "code",
   "execution_count": 76,
   "id": "b68db36a",
   "metadata": {},
   "outputs": [
    {
     "data": {
      "text/html": [
       "<div>\n",
       "<style scoped>\n",
       "    .dataframe tbody tr th:only-of-type {\n",
       "        vertical-align: middle;\n",
       "    }\n",
       "\n",
       "    .dataframe tbody tr th {\n",
       "        vertical-align: top;\n",
       "    }\n",
       "\n",
       "    .dataframe thead th {\n",
       "        text-align: right;\n",
       "    }\n",
       "</style>\n",
       "<table border=\"1\" class=\"dataframe\">\n",
       "  <thead>\n",
       "    <tr style=\"text-align: right;\">\n",
       "      <th></th>\n",
       "      <th>Time</th>\n",
       "      <th>Location</th>\n",
       "      <th>Operator</th>\n",
       "      <th>Flight #</th>\n",
       "      <th>Route</th>\n",
       "      <th>Type</th>\n",
       "      <th>Registration</th>\n",
       "      <th>cn/In</th>\n",
       "      <th>Aboard</th>\n",
       "      <th>Fatalities</th>\n",
       "      <th>Ground</th>\n",
       "      <th>Summary</th>\n",
       "    </tr>\n",
       "    <tr>\n",
       "      <th>Date</th>\n",
       "      <th></th>\n",
       "      <th></th>\n",
       "      <th></th>\n",
       "      <th></th>\n",
       "      <th></th>\n",
       "      <th></th>\n",
       "      <th></th>\n",
       "      <th></th>\n",
       "      <th></th>\n",
       "      <th></th>\n",
       "      <th></th>\n",
       "      <th></th>\n",
       "    </tr>\n",
       "  </thead>\n",
       "  <tbody>\n",
       "    <tr>\n",
       "      <th>2000-04-05</th>\n",
       "      <td>09:30</td>\n",
       "      <td>Marianna, Florida</td>\n",
       "      <td>Bankair</td>\n",
       "      <td>NaN</td>\n",
       "      <td>Opa-Locka - Marianna</td>\n",
       "      <td>Learjet 35A</td>\n",
       "      <td>N86BE</td>\n",
       "      <td>35-194</td>\n",
       "      <td>3.0</td>\n",
       "      <td>3.0</td>\n",
       "      <td>0.0</td>\n",
       "      <td>While on finals the training flight pitched up...</td>\n",
       "    </tr>\n",
       "    <tr>\n",
       "      <th>2000-04-19</th>\n",
       "      <td>NaN</td>\n",
       "      <td>Bukavu, DemocratiRepubliCongo</td>\n",
       "      <td>Kivu Air Services</td>\n",
       "      <td>NaN</td>\n",
       "      <td>NaN</td>\n",
       "      <td>Cessna 208B Caravan I</td>\n",
       "      <td>ZS-ONT</td>\n",
       "      <td>208B-0220</td>\n",
       "      <td>2.0</td>\n",
       "      <td>2.0</td>\n",
       "      <td>0.0</td>\n",
       "      <td>The charter flight crashed in the Kahuzi-Biega...</td>\n",
       "    </tr>\n",
       "    <tr>\n",
       "      <th>2000-01-05</th>\n",
       "      <td>NaN</td>\n",
       "      <td>Abuja, Nigeria</td>\n",
       "      <td>Skypower Express Airways</td>\n",
       "      <td>NaN</td>\n",
       "      <td>Lagos - Abuja</td>\n",
       "      <td>Embraer 110P1A Bandeirante</td>\n",
       "      <td>5N-AXL</td>\n",
       "      <td>110-455</td>\n",
       "      <td>16.0</td>\n",
       "      <td>1.0</td>\n",
       "      <td>1.0</td>\n",
       "      <td>During a visual approach the aircraft stalled ...</td>\n",
       "    </tr>\n",
       "    <tr>\n",
       "      <th>2000-01-10</th>\n",
       "      <td>17:54</td>\n",
       "      <td>Niederhasli, Switzerland</td>\n",
       "      <td>Crossair</td>\n",
       "      <td>498</td>\n",
       "      <td>Zürich - Dresden</td>\n",
       "      <td>Saab 340B</td>\n",
       "      <td>HB-AKK</td>\n",
       "      <td>213</td>\n",
       "      <td>10.0</td>\n",
       "      <td>10.0</td>\n",
       "      <td>0.0</td>\n",
       "      <td>The aircraft crashed shortly after taking off,...</td>\n",
       "    </tr>\n",
       "    <tr>\n",
       "      <th>2000-01-13</th>\n",
       "      <td>12:38</td>\n",
       "      <td>Off Marsa el-Brega, Libya</td>\n",
       "      <td>Avisto</td>\n",
       "      <td>NaN</td>\n",
       "      <td>Tripoli IAP - Marsa el-Brega</td>\n",
       "      <td>Shorts 360-300</td>\n",
       "      <td>HB-AAM</td>\n",
       "      <td>SH-3763</td>\n",
       "      <td>41.0</td>\n",
       "      <td>22.0</td>\n",
       "      <td>0.0</td>\n",
       "      <td>The aircraft was on a flight from Tripoli to M...</td>\n",
       "    </tr>\n",
       "    <tr>\n",
       "      <th>...</th>\n",
       "      <td>...</td>\n",
       "      <td>...</td>\n",
       "      <td>...</td>\n",
       "      <td>...</td>\n",
       "      <td>...</td>\n",
       "      <td>...</td>\n",
       "      <td>...</td>\n",
       "      <td>...</td>\n",
       "      <td>...</td>\n",
       "      <td>...</td>\n",
       "      <td>...</td>\n",
       "      <td>...</td>\n",
       "    </tr>\n",
       "    <tr>\n",
       "      <th>2000-11-07</th>\n",
       "      <td>NaN</td>\n",
       "      <td>Luabo, DemocratiRepubliCongo</td>\n",
       "      <td>Malu Aviation</td>\n",
       "      <td>NaN</td>\n",
       "      <td>NaN</td>\n",
       "      <td>Antonov 32B</td>\n",
       "      <td>ER-AFA</td>\n",
       "      <td>3406</td>\n",
       "      <td>11.0</td>\n",
       "      <td>2.0</td>\n",
       "      <td>0.0</td>\n",
       "      <td>Due to a blown tire on takeoff the pilot abort...</td>\n",
       "    </tr>\n",
       "    <tr>\n",
       "      <th>2000-11-09</th>\n",
       "      <td>01:23</td>\n",
       "      <td>Fort Wayne, Indiana</td>\n",
       "      <td>Superior Aviation</td>\n",
       "      <td>NaN</td>\n",
       "      <td>Fort Wayne, IN - Milwaukee, WI</td>\n",
       "      <td>Swearingen SA.226TC Metro II</td>\n",
       "      <td>N731AC</td>\n",
       "      <td>TC-255</td>\n",
       "      <td>1.0</td>\n",
       "      <td>1.0</td>\n",
       "      <td>0.0</td>\n",
       "      <td>During takeoff, the cargo plane struck trees, ...</td>\n",
       "    </tr>\n",
       "    <tr>\n",
       "      <th>2000-11-15</th>\n",
       "      <td>13:05</td>\n",
       "      <td>Near Luanda, Angola</td>\n",
       "      <td>Asa Pesada</td>\n",
       "      <td>NaN</td>\n",
       "      <td>Luanda - Namibe</td>\n",
       "      <td>Antonov AN-26</td>\n",
       "      <td>D2-FCG</td>\n",
       "      <td>PESA001</td>\n",
       "      <td>57.0</td>\n",
       "      <td>57.0</td>\n",
       "      <td>0.0</td>\n",
       "      <td>The plane crashed and exploded in flames into ...</td>\n",
       "    </tr>\n",
       "    <tr>\n",
       "      <th>2000-11-20</th>\n",
       "      <td>12:22</td>\n",
       "      <td>Miami, Florida</td>\n",
       "      <td>American Airlines</td>\n",
       "      <td>NaN</td>\n",
       "      <td>Miami, FL - Port au Prince</td>\n",
       "      <td>Airbus A300-600R</td>\n",
       "      <td>N14056</td>\n",
       "      <td>463</td>\n",
       "      <td>114.0</td>\n",
       "      <td>1.0</td>\n",
       "      <td>0.0</td>\n",
       "      <td>After climbing through 16,000 ft. the crew des...</td>\n",
       "    </tr>\n",
       "    <tr>\n",
       "      <th>2000-11-25</th>\n",
       "      <td>06:04</td>\n",
       "      <td>Cordoba, Spain</td>\n",
       "      <td>Mayoral Executive Jet</td>\n",
       "      <td>NaN</td>\n",
       "      <td>Malaga - Cordoba</td>\n",
       "      <td>Aerospatiale SN-601 Corvette</td>\n",
       "      <td>EC-DQG</td>\n",
       "      <td>27</td>\n",
       "      <td>2.0</td>\n",
       "      <td>1.0</td>\n",
       "      <td>0.0</td>\n",
       "      <td>During the approach, the plane, on a positioni...</td>\n",
       "    </tr>\n",
       "  </tbody>\n",
       "</table>\n",
       "<p>76 rows × 12 columns</p>\n",
       "</div>"
      ],
      "text/plain": [
       "             Time                       Location                  Operator  \\\n",
       "Date                                                                         \n",
       "2000-04-05  09:30              Marianna, Florida                   Bankair   \n",
       "2000-04-19    NaN  Bukavu, DemocratiRepubliCongo         Kivu Air Services   \n",
       "2000-01-05    NaN                 Abuja, Nigeria  Skypower Express Airways   \n",
       "2000-01-10  17:54       Niederhasli, Switzerland                  Crossair   \n",
       "2000-01-13  12:38      Off Marsa el-Brega, Libya                    Avisto   \n",
       "...           ...                            ...                       ...   \n",
       "2000-11-07    NaN   Luabo, DemocratiRepubliCongo             Malu Aviation   \n",
       "2000-11-09  01:23            Fort Wayne, Indiana         Superior Aviation   \n",
       "2000-11-15  13:05            Near Luanda, Angola                Asa Pesada   \n",
       "2000-11-20  12:22                 Miami, Florida         American Airlines   \n",
       "2000-11-25  06:04                 Cordoba, Spain     Mayoral Executive Jet   \n",
       "\n",
       "           Flight #                           Route  \\\n",
       "Date                                                  \n",
       "2000-04-05      NaN            Opa-Locka - Marianna   \n",
       "2000-04-19      NaN                             NaN   \n",
       "2000-01-05      NaN                   Lagos - Abuja   \n",
       "2000-01-10      498                Zürich - Dresden   \n",
       "2000-01-13      NaN    Tripoli IAP - Marsa el-Brega   \n",
       "...             ...                             ...   \n",
       "2000-11-07      NaN                             NaN   \n",
       "2000-11-09      NaN  Fort Wayne, IN - Milwaukee, WI   \n",
       "2000-11-15      NaN                 Luanda - Namibe   \n",
       "2000-11-20      NaN      Miami, FL - Port au Prince   \n",
       "2000-11-25      NaN                Malaga - Cordoba   \n",
       "\n",
       "                                    Type Registration      cn/In  Aboard  \\\n",
       "Date                                                                       \n",
       "2000-04-05                   Learjet 35A        N86BE     35-194     3.0   \n",
       "2000-04-19         Cessna 208B Caravan I       ZS-ONT  208B-0220     2.0   \n",
       "2000-01-05    Embraer 110P1A Bandeirante       5N-AXL    110-455    16.0   \n",
       "2000-01-10                     Saab 340B       HB-AKK        213    10.0   \n",
       "2000-01-13                Shorts 360-300       HB-AAM    SH-3763    41.0   \n",
       "...                                  ...          ...        ...     ...   \n",
       "2000-11-07                   Antonov 32B       ER-AFA       3406    11.0   \n",
       "2000-11-09  Swearingen SA.226TC Metro II       N731AC     TC-255     1.0   \n",
       "2000-11-15                 Antonov AN-26       D2-FCG    PESA001    57.0   \n",
       "2000-11-20              Airbus A300-600R       N14056        463   114.0   \n",
       "2000-11-25  Aerospatiale SN-601 Corvette       EC-DQG         27     2.0   \n",
       "\n",
       "            Fatalities  Ground  \\\n",
       "Date                             \n",
       "2000-04-05         3.0     0.0   \n",
       "2000-04-19         2.0     0.0   \n",
       "2000-01-05         1.0     1.0   \n",
       "2000-01-10        10.0     0.0   \n",
       "2000-01-13        22.0     0.0   \n",
       "...                ...     ...   \n",
       "2000-11-07         2.0     0.0   \n",
       "2000-11-09         1.0     0.0   \n",
       "2000-11-15        57.0     0.0   \n",
       "2000-11-20         1.0     0.0   \n",
       "2000-11-25         1.0     0.0   \n",
       "\n",
       "                                                      Summary  \n",
       "Date                                                           \n",
       "2000-04-05  While on finals the training flight pitched up...  \n",
       "2000-04-19  The charter flight crashed in the Kahuzi-Biega...  \n",
       "2000-01-05  During a visual approach the aircraft stalled ...  \n",
       "2000-01-10  The aircraft crashed shortly after taking off,...  \n",
       "2000-01-13  The aircraft was on a flight from Tripoli to M...  \n",
       "...                                                       ...  \n",
       "2000-11-07  Due to a blown tire on takeoff the pilot abort...  \n",
       "2000-11-09  During takeoff, the cargo plane struck trees, ...  \n",
       "2000-11-15  The plane crashed and exploded in flames into ...  \n",
       "2000-11-20  After climbing through 16,000 ft. the crew des...  \n",
       "2000-11-25  During the approach, the plane, on a positioni...  \n",
       "\n",
       "[76 rows x 12 columns]"
      ]
     },
     "execution_count": 76,
     "metadata": {},
     "output_type": "execute_result"
    }
   ],
   "source": [
    "data.loc['2000']"
   ]
  },
  {
   "cell_type": "code",
   "execution_count": 81,
   "id": "88fe7039",
   "metadata": {
    "scrolled": true
   },
   "outputs": [
    {
     "data": {
      "text/html": [
       "<div>\n",
       "<style scoped>\n",
       "    .dataframe tbody tr th:only-of-type {\n",
       "        vertical-align: middle;\n",
       "    }\n",
       "\n",
       "    .dataframe tbody tr th {\n",
       "        vertical-align: top;\n",
       "    }\n",
       "\n",
       "    .dataframe thead th {\n",
       "        text-align: right;\n",
       "    }\n",
       "</style>\n",
       "<table border=\"1\" class=\"dataframe\">\n",
       "  <thead>\n",
       "    <tr style=\"text-align: right;\">\n",
       "      <th></th>\n",
       "      <th>Time</th>\n",
       "      <th>Location</th>\n",
       "      <th>Operator</th>\n",
       "      <th>Flight #</th>\n",
       "      <th>Route</th>\n",
       "      <th>Type</th>\n",
       "      <th>Registration</th>\n",
       "      <th>cn/In</th>\n",
       "      <th>Aboard</th>\n",
       "      <th>Fatalities</th>\n",
       "      <th>Ground</th>\n",
       "      <th>Summary</th>\n",
       "    </tr>\n",
       "    <tr>\n",
       "      <th>Date</th>\n",
       "      <th></th>\n",
       "      <th></th>\n",
       "      <th></th>\n",
       "      <th></th>\n",
       "      <th></th>\n",
       "      <th></th>\n",
       "      <th></th>\n",
       "      <th></th>\n",
       "      <th></th>\n",
       "      <th></th>\n",
       "      <th></th>\n",
       "      <th></th>\n",
       "    </tr>\n",
       "  </thead>\n",
       "  <tbody>\n",
       "    <tr>\n",
       "      <th>2000-05-02</th>\n",
       "      <td>14:39</td>\n",
       "      <td>Lyon Satolas, France</td>\n",
       "      <td>Northern Executive Aviation</td>\n",
       "      <td>4B</td>\n",
       "      <td>NaN</td>\n",
       "      <td>Learjet 35A</td>\n",
       "      <td>G-MURI</td>\n",
       "      <td>35-646</td>\n",
       "      <td>5.0</td>\n",
       "      <td>2.0</td>\n",
       "      <td>0.0</td>\n",
       "      <td>During a landing attempt the crew shut down No...</td>\n",
       "    </tr>\n",
       "    <tr>\n",
       "      <th>2000-05-03</th>\n",
       "      <td>NaN</td>\n",
       "      <td>Kurupung, Guyana</td>\n",
       "      <td>Trans Guyana Airways</td>\n",
       "      <td>NaN</td>\n",
       "      <td>NaN</td>\n",
       "      <td>Britten-Norman BN-2A-9 Islander</td>\n",
       "      <td>8R-GAC</td>\n",
       "      <td>694</td>\n",
       "      <td>1.0</td>\n",
       "      <td>1.0</td>\n",
       "      <td>0.0</td>\n",
       "      <td>The cargo plane crashed into a cloud covered m...</td>\n",
       "    </tr>\n",
       "    <tr>\n",
       "      <th>2000-05-10</th>\n",
       "      <td>20:30</td>\n",
       "      <td>Kaunakakai, Hawaii</td>\n",
       "      <td>Price Aircraft Company</td>\n",
       "      <td>NaN</td>\n",
       "      <td>Kahului - Hoolehua</td>\n",
       "      <td>Rockwell Sabreliner 65</td>\n",
       "      <td>N241H</td>\n",
       "      <td>465-5</td>\n",
       "      <td>6.0</td>\n",
       "      <td>6.0</td>\n",
       "      <td>0.0</td>\n",
       "      <td>While on approach the charter flight hit the r...</td>\n",
       "    </tr>\n",
       "    <tr>\n",
       "      <th>2000-05-17</th>\n",
       "      <td>09:47</td>\n",
       "      <td>Moanda, Gabon</td>\n",
       "      <td>Avirex</td>\n",
       "      <td>NaN</td>\n",
       "      <td>Libreville - Moanda</td>\n",
       "      <td>Beechcraft 1900C-1</td>\n",
       "      <td>TR-LFK</td>\n",
       "      <td>UC-133</td>\n",
       "      <td>10.0</td>\n",
       "      <td>3.0</td>\n",
       "      <td>0.0</td>\n",
       "      <td>The charter flight crashed while on approach i...</td>\n",
       "    </tr>\n",
       "    <tr>\n",
       "      <th>2000-05-21</th>\n",
       "      <td>11:28</td>\n",
       "      <td>Near Wilkes-Barre, Pennsylvania</td>\n",
       "      <td>Executive Airlines</td>\n",
       "      <td>Charter</td>\n",
       "      <td>AtlantiCity - Wilkes-Barre</td>\n",
       "      <td>BAe Jetstream 3101-31</td>\n",
       "      <td>N16EJ</td>\n",
       "      <td>834</td>\n",
       "      <td>19.0</td>\n",
       "      <td>19.0</td>\n",
       "      <td>0.0</td>\n",
       "      <td>The plane crashed into a heavily wood area  as...</td>\n",
       "    </tr>\n",
       "    <tr>\n",
       "      <th>2000-05-25</th>\n",
       "      <td>NaN</td>\n",
       "      <td>Near Manila, Philippines</td>\n",
       "      <td>Philippine Air Lines</td>\n",
       "      <td>812</td>\n",
       "      <td>Davao - Manila</td>\n",
       "      <td>Airbus A.330-301</td>\n",
       "      <td>F-OHZN</td>\n",
       "      <td>NaN</td>\n",
       "      <td>298.0</td>\n",
       "      <td>1.0</td>\n",
       "      <td>0.0</td>\n",
       "      <td>A hijacker robbed passengers, jumped out of th...</td>\n",
       "    </tr>\n",
       "    <tr>\n",
       "      <th>2000-05-25</th>\n",
       "      <td>02:50</td>\n",
       "      <td>Paris, France</td>\n",
       "      <td>Streamline</td>\n",
       "      <td>200</td>\n",
       "      <td>Paris - London</td>\n",
       "      <td>Shorts 330-200</td>\n",
       "      <td>G-SSWN</td>\n",
       "      <td>SH-3064</td>\n",
       "      <td>2.0</td>\n",
       "      <td>1.0</td>\n",
       "      <td>0.0</td>\n",
       "      <td>Midair collision with a MD-83 after taxing on ...</td>\n",
       "    </tr>\n",
       "    <tr>\n",
       "      <th>2000-05-31</th>\n",
       "      <td>19:05</td>\n",
       "      <td>Off Whyalla, Australia</td>\n",
       "      <td>Whyalla Airlines</td>\n",
       "      <td>904</td>\n",
       "      <td>Adelaide - Whyalla</td>\n",
       "      <td>Piper PA-31-350 Navajo</td>\n",
       "      <td>VH-MZK</td>\n",
       "      <td>31-8152180</td>\n",
       "      <td>8.0</td>\n",
       "      <td>8.0</td>\n",
       "      <td>0.0</td>\n",
       "      <td>En route and descending at Whyalla,  at 6,000 ...</td>\n",
       "    </tr>\n",
       "  </tbody>\n",
       "</table>\n",
       "</div>"
      ],
      "text/plain": [
       "             Time                         Location  \\\n",
       "Date                                                 \n",
       "2000-05-02  14:39             Lyon Satolas, France   \n",
       "2000-05-03    NaN                 Kurupung, Guyana   \n",
       "2000-05-10  20:30               Kaunakakai, Hawaii   \n",
       "2000-05-17  09:47                    Moanda, Gabon   \n",
       "2000-05-21  11:28  Near Wilkes-Barre, Pennsylvania   \n",
       "2000-05-25    NaN         Near Manila, Philippines   \n",
       "2000-05-25  02:50                    Paris, France   \n",
       "2000-05-31  19:05           Off Whyalla, Australia   \n",
       "\n",
       "                               Operator Flight #                       Route  \\\n",
       "Date                                                                           \n",
       "2000-05-02  Northern Executive Aviation       4B                         NaN   \n",
       "2000-05-03         Trans Guyana Airways      NaN                         NaN   \n",
       "2000-05-10       Price Aircraft Company      NaN          Kahului - Hoolehua   \n",
       "2000-05-17                       Avirex      NaN         Libreville - Moanda   \n",
       "2000-05-21           Executive Airlines  Charter  AtlantiCity - Wilkes-Barre   \n",
       "2000-05-25         Philippine Air Lines      812              Davao - Manila   \n",
       "2000-05-25                   Streamline      200              Paris - London   \n",
       "2000-05-31             Whyalla Airlines      904          Adelaide - Whyalla   \n",
       "\n",
       "                                       Type Registration       cn/In  Aboard  \\\n",
       "Date                                                                           \n",
       "2000-05-02                      Learjet 35A       G-MURI      35-646     5.0   \n",
       "2000-05-03  Britten-Norman BN-2A-9 Islander       8R-GAC         694     1.0   \n",
       "2000-05-10           Rockwell Sabreliner 65        N241H       465-5     6.0   \n",
       "2000-05-17               Beechcraft 1900C-1       TR-LFK      UC-133    10.0   \n",
       "2000-05-21            BAe Jetstream 3101-31        N16EJ         834    19.0   \n",
       "2000-05-25                 Airbus A.330-301       F-OHZN         NaN   298.0   \n",
       "2000-05-25                   Shorts 330-200       G-SSWN     SH-3064     2.0   \n",
       "2000-05-31           Piper PA-31-350 Navajo       VH-MZK  31-8152180     8.0   \n",
       "\n",
       "            Fatalities  Ground  \\\n",
       "Date                             \n",
       "2000-05-02         2.0     0.0   \n",
       "2000-05-03         1.0     0.0   \n",
       "2000-05-10         6.0     0.0   \n",
       "2000-05-17         3.0     0.0   \n",
       "2000-05-21        19.0     0.0   \n",
       "2000-05-25         1.0     0.0   \n",
       "2000-05-25         1.0     0.0   \n",
       "2000-05-31         8.0     0.0   \n",
       "\n",
       "                                                      Summary  \n",
       "Date                                                           \n",
       "2000-05-02  During a landing attempt the crew shut down No...  \n",
       "2000-05-03  The cargo plane crashed into a cloud covered m...  \n",
       "2000-05-10  While on approach the charter flight hit the r...  \n",
       "2000-05-17  The charter flight crashed while on approach i...  \n",
       "2000-05-21  The plane crashed into a heavily wood area  as...  \n",
       "2000-05-25  A hijacker robbed passengers, jumped out of th...  \n",
       "2000-05-25  Midair collision with a MD-83 after taxing on ...  \n",
       "2000-05-31  En route and descending at Whyalla,  at 6,000 ...  "
      ]
     },
     "execution_count": 81,
     "metadata": {},
     "output_type": "execute_result"
    }
   ],
   "source": [
    "data.loc['2000-05']"
   ]
  },
  {
   "cell_type": "code",
   "execution_count": 82,
   "id": "2c41b571",
   "metadata": {
    "scrolled": false
   },
   "outputs": [
    {
     "data": {
      "text/plain": [
       "Date\n",
       "1908-12-31     1.000000\n",
       "1909-12-31          NaN\n",
       "1910-12-31          NaN\n",
       "1911-12-31          NaN\n",
       "1912-12-31     5.000000\n",
       "                ...    \n",
       "2005-12-31    25.607843\n",
       "2006-12-31    23.183673\n",
       "2007-12-31    17.240741\n",
       "2008-12-31    13.225806\n",
       "2009-12-31    24.208333\n",
       "Freq: A-DEC, Name: Fatalities, Length: 102, dtype: float64"
      ]
     },
     "execution_count": 82,
     "metadata": {},
     "output_type": "execute_result"
    }
   ],
   "source": [
    "data.resample('Y')['Fatalities'].mean()  # 每一年死亡人数"
   ]
  },
  {
   "cell_type": "code",
   "execution_count": 83,
   "id": "7e8780af",
   "metadata": {},
   "outputs": [
    {
     "data": {
      "text/plain": [
       "Date\n",
       "1908-12-31       1.0\n",
       "1909-12-31       0.0\n",
       "1910-12-31       0.0\n",
       "1911-12-31       0.0\n",
       "1912-12-31       5.0\n",
       "               ...  \n",
       "2005-12-31    1306.0\n",
       "2006-12-31    1136.0\n",
       "2007-12-31     931.0\n",
       "2008-12-31     820.0\n",
       "2009-12-31     581.0\n",
       "Freq: A-DEC, Name: Fatalities, Length: 102, dtype: float64"
      ]
     },
     "execution_count": 83,
     "metadata": {},
     "output_type": "execute_result"
    }
   ],
   "source": [
    "data.resample('Y')['Fatalities'].sum() "
   ]
  },
  {
   "cell_type": "code",
   "execution_count": null,
   "id": "9143625a",
   "metadata": {},
   "outputs": [],
   "source": []
  }
 ],
 "metadata": {
  "kernelspec": {
   "display_name": "Python 3 (ipykernel)",
   "language": "python",
   "name": "python3"
  },
  "language_info": {
   "codemirror_mode": {
    "name": "ipython",
    "version": 3
   },
   "file_extension": ".py",
   "mimetype": "text/x-python",
   "name": "python",
   "nbconvert_exporter": "python",
   "pygments_lexer": "ipython3",
   "version": "3.10.9"
  }
 },
 "nbformat": 4,
 "nbformat_minor": 5
}
