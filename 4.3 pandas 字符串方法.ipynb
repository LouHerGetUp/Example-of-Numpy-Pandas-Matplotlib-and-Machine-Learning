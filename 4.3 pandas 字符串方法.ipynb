{
 "cells": [
  {
   "cell_type": "code",
   "execution_count": 1,
   "id": "dc0e8241",
   "metadata": {},
   "outputs": [],
   "source": [
    "import pandas as pd\n",
    "import numpy as np"
   ]
  },
  {
   "cell_type": "code",
   "execution_count": 4,
   "id": "e5608164",
   "metadata": {},
   "outputs": [],
   "source": [
    "data = pd.DataFrame({'k1':['beijing,haidian,chushou',\n",
    "                           'beijing,chaoyang,chushou',\n",
    "                           'beijing,fengtai,chuzu'],\n",
    "                     'k2':['beijing,xicheng,chuzu',\n",
    "                           'beijing,shijingshan,chushou',\n",
    "                           np.nan]})"
   ]
  },
  {
   "cell_type": "code",
   "execution_count": 5,
   "id": "3568f87e",
   "metadata": {},
   "outputs": [
    {
     "data": {
      "text/html": [
       "<div>\n",
       "<style scoped>\n",
       "    .dataframe tbody tr th:only-of-type {\n",
       "        vertical-align: middle;\n",
       "    }\n",
       "\n",
       "    .dataframe tbody tr th {\n",
       "        vertical-align: top;\n",
       "    }\n",
       "\n",
       "    .dataframe thead th {\n",
       "        text-align: right;\n",
       "    }\n",
       "</style>\n",
       "<table border=\"1\" class=\"dataframe\">\n",
       "  <thead>\n",
       "    <tr style=\"text-align: right;\">\n",
       "      <th></th>\n",
       "      <th>k1</th>\n",
       "      <th>k2</th>\n",
       "    </tr>\n",
       "  </thead>\n",
       "  <tbody>\n",
       "    <tr>\n",
       "      <th>0</th>\n",
       "      <td>beijing,haidian,chushou</td>\n",
       "      <td>beijing,xicheng,chuzu</td>\n",
       "    </tr>\n",
       "    <tr>\n",
       "      <th>1</th>\n",
       "      <td>beijing,chaoyang,chushou</td>\n",
       "      <td>beijing,shijingshan,chushou</td>\n",
       "    </tr>\n",
       "    <tr>\n",
       "      <th>2</th>\n",
       "      <td>beijing,fengtai,chuzu</td>\n",
       "      <td>NaN</td>\n",
       "    </tr>\n",
       "  </tbody>\n",
       "</table>\n",
       "</div>"
      ],
      "text/plain": [
       "                         k1                           k2\n",
       "0   beijing,haidian,chushou        beijing,xicheng,chuzu\n",
       "1  beijing,chaoyang,chushou  beijing,shijingshan,chushou\n",
       "2     beijing,fengtai,chuzu                          NaN"
      ]
     },
     "execution_count": 5,
     "metadata": {},
     "output_type": "execute_result"
    }
   ],
   "source": [
    "data"
   ]
  },
  {
   "cell_type": "code",
   "execution_count": 8,
   "id": "46c60eb0",
   "metadata": {},
   "outputs": [],
   "source": [
    "data.k1 = data.k1.str.replace('beijing', 'shanghai')"
   ]
  },
  {
   "cell_type": "code",
   "execution_count": 9,
   "id": "4e0638bb",
   "metadata": {},
   "outputs": [
    {
     "data": {
      "text/html": [
       "<div>\n",
       "<style scoped>\n",
       "    .dataframe tbody tr th:only-of-type {\n",
       "        vertical-align: middle;\n",
       "    }\n",
       "\n",
       "    .dataframe tbody tr th {\n",
       "        vertical-align: top;\n",
       "    }\n",
       "\n",
       "    .dataframe thead th {\n",
       "        text-align: right;\n",
       "    }\n",
       "</style>\n",
       "<table border=\"1\" class=\"dataframe\">\n",
       "  <thead>\n",
       "    <tr style=\"text-align: right;\">\n",
       "      <th></th>\n",
       "      <th>k1</th>\n",
       "      <th>k2</th>\n",
       "    </tr>\n",
       "  </thead>\n",
       "  <tbody>\n",
       "    <tr>\n",
       "      <th>0</th>\n",
       "      <td>shanghai,haidian,chushou</td>\n",
       "      <td>beijing,xicheng,chuzu</td>\n",
       "    </tr>\n",
       "    <tr>\n",
       "      <th>1</th>\n",
       "      <td>shanghai,chaoyang,chushou</td>\n",
       "      <td>beijing,shijingshan,chushou</td>\n",
       "    </tr>\n",
       "    <tr>\n",
       "      <th>2</th>\n",
       "      <td>shanghai,fengtai,chuzu</td>\n",
       "      <td>NaN</td>\n",
       "    </tr>\n",
       "  </tbody>\n",
       "</table>\n",
       "</div>"
      ],
      "text/plain": [
       "                          k1                           k2\n",
       "0   shanghai,haidian,chushou        beijing,xicheng,chuzu\n",
       "1  shanghai,chaoyang,chushou  beijing,shijingshan,chushou\n",
       "2     shanghai,fengtai,chuzu                          NaN"
      ]
     },
     "execution_count": 9,
     "metadata": {},
     "output_type": "execute_result"
    }
   ],
   "source": [
    "data"
   ]
  },
  {
   "cell_type": "code",
   "execution_count": 10,
   "id": "a3e3db87",
   "metadata": {},
   "outputs": [
    {
     "data": {
      "text/plain": [
       "0     True\n",
       "1     True\n",
       "2    False\n",
       "Name: k1, dtype: bool"
      ]
     },
     "execution_count": 10,
     "metadata": {},
     "output_type": "execute_result"
    }
   ],
   "source": [
    "data.k1.str.contains('chushou')"
   ]
  },
  {
   "cell_type": "code",
   "execution_count": 12,
   "id": "f6360c4a",
   "metadata": {},
   "outputs": [
    {
     "data": {
      "text/html": [
       "<div>\n",
       "<style scoped>\n",
       "    .dataframe tbody tr th:only-of-type {\n",
       "        vertical-align: middle;\n",
       "    }\n",
       "\n",
       "    .dataframe tbody tr th {\n",
       "        vertical-align: top;\n",
       "    }\n",
       "\n",
       "    .dataframe thead th {\n",
       "        text-align: right;\n",
       "    }\n",
       "</style>\n",
       "<table border=\"1\" class=\"dataframe\">\n",
       "  <thead>\n",
       "    <tr style=\"text-align: right;\">\n",
       "      <th></th>\n",
       "      <th>k1</th>\n",
       "      <th>k2</th>\n",
       "    </tr>\n",
       "  </thead>\n",
       "  <tbody>\n",
       "    <tr>\n",
       "      <th>0</th>\n",
       "      <td>shanghai,haidian,chushou</td>\n",
       "      <td>beijing,xicheng,chuzu</td>\n",
       "    </tr>\n",
       "    <tr>\n",
       "      <th>1</th>\n",
       "      <td>shanghai,chaoyang,chushou</td>\n",
       "      <td>beijing,shijingshan,chushou</td>\n",
       "    </tr>\n",
       "  </tbody>\n",
       "</table>\n",
       "</div>"
      ],
      "text/plain": [
       "                          k1                           k2\n",
       "0   shanghai,haidian,chushou        beijing,xicheng,chuzu\n",
       "1  shanghai,chaoyang,chushou  beijing,shijingshan,chushou"
      ]
     },
     "execution_count": 12,
     "metadata": {},
     "output_type": "execute_result"
    }
   ],
   "source": [
    "data[data.k1.str.contains('chushou')]"
   ]
  },
  {
   "cell_type": "code",
   "execution_count": 13,
   "id": "37fc9868",
   "metadata": {},
   "outputs": [
    {
     "data": {
      "text/plain": [
       "0     [shanghai,haidian,chushou]\n",
       "1    [shanghai,chaoyang,chushou]\n",
       "2       [shanghai,fengtai,chuzu]\n",
       "Name: k1, dtype: object"
      ]
     },
     "execution_count": 13,
     "metadata": {},
     "output_type": "execute_result"
    }
   ],
   "source": [
    "data.k1.str.split()  # 分割"
   ]
  },
  {
   "cell_type": "code",
   "execution_count": 14,
   "id": "d1902c35",
   "metadata": {},
   "outputs": [
    {
     "data": {
      "text/plain": [
       "0     shanghai,haidian,chushou\n",
       "1    shanghai,chaoyang,chushou\n",
       "2       shanghai,fengtai,chuzu\n",
       "Name: k1, dtype: object"
      ]
     },
     "execution_count": 14,
     "metadata": {},
     "output_type": "execute_result"
    }
   ],
   "source": [
    "data.k1.str.strip()  # 去掉字符串开头结尾的空字符"
   ]
  },
  {
   "cell_type": "code",
   "execution_count": 16,
   "id": "cb089b61",
   "metadata": {},
   "outputs": [
    {
     "data": {
      "text/plain": [
       "0    shang\n",
       "1    shang\n",
       "2    shang\n",
       "Name: k1, dtype: object"
      ]
     },
     "execution_count": 16,
     "metadata": {},
     "output_type": "execute_result"
    }
   ],
   "source": [
    "data.k1.str[:5]   # 切片，内置函数，更快"
   ]
  },
  {
   "cell_type": "code",
   "execution_count": 17,
   "id": "c9ecea20",
   "metadata": {},
   "outputs": [
    {
     "data": {
      "text/plain": [
       "0    shang\n",
       "1    shang\n",
       "2    shang\n",
       "Name: k1, dtype: object"
      ]
     },
     "execution_count": 17,
     "metadata": {},
     "output_type": "execute_result"
    }
   ],
   "source": [
    "data.k1.apply(lambda x:x[:5])   # 切片 "
   ]
  },
  {
   "cell_type": "markdown",
   "id": "2253f173",
   "metadata": {},
   "source": [
    "# 通过函数映射来转换数据"
   ]
  },
  {
   "cell_type": "code",
   "execution_count": 18,
   "id": "80dd06e2",
   "metadata": {},
   "outputs": [],
   "source": [
    "quyu_to_chengshi = {\n",
    "    'chaoyang': 'beijing',\n",
    "    'huangpu': 'shanghai',\n",
    "    'jingan': 'shanghai',\n",
    "    'haidian': 'beijing',\n",
    "    'fengtai': 'beijing',\n",
    "    'tongzhou': 'beijing'\n",
    "}"
   ]
  },
  {
   "cell_type": "code",
   "execution_count": 20,
   "id": "8fbd47c5",
   "metadata": {},
   "outputs": [],
   "source": [
    "data = pd.Series(['chaoyang', 'huangpu', 'jingan', 'haidian', 'fengtai', 'tongzhou'])"
   ]
  },
  {
   "cell_type": "code",
   "execution_count": 21,
   "id": "3978d1a1",
   "metadata": {},
   "outputs": [
    {
     "data": {
      "text/plain": [
       "0    chaoyang\n",
       "1     huangpu\n",
       "2      jingan\n",
       "3     haidian\n",
       "4     fengtai\n",
       "5    tongzhou\n",
       "dtype: object"
      ]
     },
     "execution_count": 21,
     "metadata": {},
     "output_type": "execute_result"
    }
   ],
   "source": [
    "data"
   ]
  },
  {
   "cell_type": "code",
   "execution_count": 22,
   "id": "9571793c",
   "metadata": {},
   "outputs": [
    {
     "data": {
      "text/plain": [
       "0     beijing\n",
       "1    shanghai\n",
       "2    shanghai\n",
       "3     beijing\n",
       "4     beijing\n",
       "5     beijing\n",
       "dtype: object"
      ]
     },
     "execution_count": 22,
     "metadata": {},
     "output_type": "execute_result"
    }
   ],
   "source": [
    "data.map(quyu_to_chengshi)  # map()：映射，区域映射到城市"
   ]
  },
  {
   "cell_type": "code",
   "execution_count": 23,
   "id": "e5d57f67",
   "metadata": {},
   "outputs": [
    {
     "data": {
      "text/plain": [
       "0     beijing\n",
       "1    shanghai\n",
       "2    shanghai\n",
       "3     beijing\n",
       "4     beijing\n",
       "5     beijing\n",
       "dtype: object"
      ]
     },
     "execution_count": 23,
     "metadata": {},
     "output_type": "execute_result"
    }
   ],
   "source": [
    "data.apply(lambda x: quyu_to_chengshi.get(x))  # apply中必须是函数"
   ]
  },
  {
   "cell_type": "code",
   "execution_count": null,
   "id": "254408c3",
   "metadata": {},
   "outputs": [],
   "source": []
  }
 ],
 "metadata": {
  "kernelspec": {
   "display_name": "Python 3 (ipykernel)",
   "language": "python",
   "name": "python3"
  },
  "language_info": {
   "codemirror_mode": {
    "name": "ipython",
    "version": 3
   },
   "file_extension": ".py",
   "mimetype": "text/x-python",
   "name": "python",
   "nbconvert_exporter": "python",
   "pygments_lexer": "ipython3",
   "version": "3.10.9"
  }
 },
 "nbformat": 4,
 "nbformat_minor": 5
}
