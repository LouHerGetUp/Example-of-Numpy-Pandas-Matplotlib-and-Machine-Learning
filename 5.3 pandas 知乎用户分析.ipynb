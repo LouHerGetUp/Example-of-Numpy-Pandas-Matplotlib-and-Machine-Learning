{
 "cells": [
  {
   "cell_type": "code",
   "execution_count": 1,
   "id": "885909af",
   "metadata": {},
   "outputs": [],
   "source": [
    "import pandas as pd\n",
    "import numpy as np"
   ]
  },
  {
   "cell_type": "code",
   "execution_count": 2,
   "id": "bbb8e773",
   "metadata": {},
   "outputs": [],
   "source": [
    "data = pd.read_csv('./dataset/zhihuyonghu.csv')"
   ]
  },
  {
   "cell_type": "code",
   "execution_count": 3,
   "id": "4f150fda",
   "metadata": {},
   "outputs": [
    {
     "data": {
      "text/html": [
       "<div>\n",
       "<style scoped>\n",
       "    .dataframe tbody tr th:only-of-type {\n",
       "        vertical-align: middle;\n",
       "    }\n",
       "\n",
       "    .dataframe tbody tr th {\n",
       "        vertical-align: top;\n",
       "    }\n",
       "\n",
       "    .dataframe thead th {\n",
       "        text-align: right;\n",
       "    }\n",
       "</style>\n",
       "<table border=\"1\" class=\"dataframe\">\n",
       "  <thead>\n",
       "    <tr style=\"text-align: right;\">\n",
       "      <th></th>\n",
       "      <th>detail</th>\n",
       "      <th>followers</th>\n",
       "      <th>following</th>\n",
       "      <th>intro</th>\n",
       "      <th>name</th>\n",
       "    </tr>\n",
       "  </thead>\n",
       "  <tbody>\n",
       "    <tr>\n",
       "      <th>0</th>\n",
       "      <td>NaN</td>\n",
       "      <td>1,043,150</td>\n",
       "      <td>203</td>\n",
       "      <td>NaN</td>\n",
       "      <td>李开复</td>\n",
       "    </tr>\n",
       "    <tr>\n",
       "      <th>1</th>\n",
       "      <td>计算机软件Facebook人工智能研究所卡耐基梅隆大学机器人</td>\n",
       "      <td>70,609</td>\n",
       "      <td>115</td>\n",
       "      <td>Facebook人工智能研究院研究员/研究经理，卡耐基梅隆大学机器人系博士</td>\n",
       "      <td>田渊栋</td>\n",
       "    </tr>\n",
       "    <tr>\n",
       "      <th>2</th>\n",
       "      <td>互联网24好玩产品经理北京邮电大学信息工程</td>\n",
       "      <td>231</td>\n",
       "      <td>273</td>\n",
       "      <td>产品经理，关注企业服务、AI、大数据。</td>\n",
       "      <td>易良慧</td>\n",
       "    </tr>\n",
       "    <tr>\n",
       "      <th>3</th>\n",
       "      <td>制药</td>\n",
       "      <td>4</td>\n",
       "      <td>58</td>\n",
       "      <td>NaN</td>\n",
       "      <td>huangjian</td>\n",
       "    </tr>\n",
       "    <tr>\n",
       "      <th>4</th>\n",
       "      <td>NaN</td>\n",
       "      <td>0</td>\n",
       "      <td>6</td>\n",
       "      <td>学生</td>\n",
       "      <td>流苏</td>\n",
       "    </tr>\n",
       "  </tbody>\n",
       "</table>\n",
       "</div>"
      ],
      "text/plain": [
       "                           detail  followers following  \\\n",
       "0                             NaN  1,043,150       203   \n",
       "1  计算机软件Facebook人工智能研究所卡耐基梅隆大学机器人     70,609       115   \n",
       "2           互联网24好玩产品经理北京邮电大学信息工程        231       273   \n",
       "3                              制药          4        58   \n",
       "4                             NaN          0         6   \n",
       "\n",
       "                                   intro       name  \n",
       "0                                    NaN        李开复  \n",
       "1  Facebook人工智能研究院研究员/研究经理，卡耐基梅隆大学机器人系博士        田渊栋  \n",
       "2                    产品经理，关注企业服务、AI、大数据。        易良慧  \n",
       "3                                    NaN  huangjian  \n",
       "4                                     学生         流苏  "
      ]
     },
     "execution_count": 3,
     "metadata": {},
     "output_type": "execute_result"
    }
   ],
   "source": [
    "data.head()"
   ]
  },
  {
   "cell_type": "code",
   "execution_count": 4,
   "id": "1a55e125",
   "metadata": {},
   "outputs": [
    {
     "name": "stdout",
     "output_type": "stream",
     "text": [
      "<class 'pandas.core.frame.DataFrame'>\n",
      "RangeIndex: 109381 entries, 0 to 109380\n",
      "Data columns (total 5 columns):\n",
      " #   Column     Non-Null Count   Dtype \n",
      "---  ------     --------------   ----- \n",
      " 0   detail     43433 non-null   object\n",
      " 1   followers  109381 non-null  object\n",
      " 2   following  109381 non-null  object\n",
      " 3   intro      80359 non-null   object\n",
      " 4   name       109380 non-null  object\n",
      "dtypes: object(5)\n",
      "memory usage: 4.2+ MB\n"
     ]
    }
   ],
   "source": [
    "data.info()"
   ]
  },
  {
   "cell_type": "code",
   "execution_count": 5,
   "id": "a3ea0dc1",
   "metadata": {},
   "outputs": [
    {
     "data": {
      "text/html": [
       "<div>\n",
       "<style scoped>\n",
       "    .dataframe tbody tr th:only-of-type {\n",
       "        vertical-align: middle;\n",
       "    }\n",
       "\n",
       "    .dataframe tbody tr th {\n",
       "        vertical-align: top;\n",
       "    }\n",
       "\n",
       "    .dataframe thead th {\n",
       "        text-align: right;\n",
       "    }\n",
       "</style>\n",
       "<table border=\"1\" class=\"dataframe\">\n",
       "  <thead>\n",
       "    <tr style=\"text-align: right;\">\n",
       "      <th></th>\n",
       "      <th>detail</th>\n",
       "      <th>followers</th>\n",
       "      <th>following</th>\n",
       "      <th>intro</th>\n",
       "      <th>name</th>\n",
       "    </tr>\n",
       "  </thead>\n",
       "  <tbody>\n",
       "    <tr>\n",
       "      <th>0</th>\n",
       "      <td>NaN</td>\n",
       "      <td>1,043,150</td>\n",
       "      <td>203</td>\n",
       "      <td>NaN</td>\n",
       "      <td>李开复</td>\n",
       "    </tr>\n",
       "    <tr>\n",
       "      <th>1</th>\n",
       "      <td>计算机软件Facebook人工智能研究所卡耐基梅隆大学机器人</td>\n",
       "      <td>70,609</td>\n",
       "      <td>115</td>\n",
       "      <td>Facebook人工智能研究院研究员/研究经理，卡耐基梅隆大学机器人系博士</td>\n",
       "      <td>田渊栋</td>\n",
       "    </tr>\n",
       "    <tr>\n",
       "      <th>2</th>\n",
       "      <td>互联网24好玩产品经理北京邮电大学信息工程</td>\n",
       "      <td>231</td>\n",
       "      <td>273</td>\n",
       "      <td>产品经理，关注企业服务、AI、大数据。</td>\n",
       "      <td>易良慧</td>\n",
       "    </tr>\n",
       "    <tr>\n",
       "      <th>3</th>\n",
       "      <td>制药</td>\n",
       "      <td>4</td>\n",
       "      <td>58</td>\n",
       "      <td>NaN</td>\n",
       "      <td>huangjian</td>\n",
       "    </tr>\n",
       "    <tr>\n",
       "      <th>4</th>\n",
       "      <td>NaN</td>\n",
       "      <td>0</td>\n",
       "      <td>6</td>\n",
       "      <td>学生</td>\n",
       "      <td>流苏</td>\n",
       "    </tr>\n",
       "    <tr>\n",
       "      <th>...</th>\n",
       "      <td>...</td>\n",
       "      <td>...</td>\n",
       "      <td>...</td>\n",
       "      <td>...</td>\n",
       "      <td>...</td>\n",
       "    </tr>\n",
       "    <tr>\n",
       "      <th>109376</th>\n",
       "      <td>NaN</td>\n",
       "      <td>4</td>\n",
       "      <td>82</td>\n",
       "      <td>神经病</td>\n",
       "      <td>一诺</td>\n",
       "    </tr>\n",
       "    <tr>\n",
       "      <th>109377</th>\n",
       "      <td>电子商务苏州尚葡科技电子商务运营</td>\n",
       "      <td>30</td>\n",
       "      <td>50</td>\n",
       "      <td>Life is too short to drink bad wine.</td>\n",
       "      <td>沈钧</td>\n",
       "    </tr>\n",
       "    <tr>\n",
       "      <th>109378</th>\n",
       "      <td>电子商务</td>\n",
       "      <td>26</td>\n",
       "      <td>9</td>\n",
       "      <td>专业蜜蜡鉴定vx:kxm0755。</td>\n",
       "      <td>康小蜜</td>\n",
       "    </tr>\n",
       "    <tr>\n",
       "      <th>109379</th>\n",
       "      <td>NaN</td>\n",
       "      <td>0</td>\n",
       "      <td>1</td>\n",
       "      <td>什么也没有</td>\n",
       "      <td>王者农药不能玩</td>\n",
       "    </tr>\n",
       "    <tr>\n",
       "      <th>109380</th>\n",
       "      <td>创意艺术Université de Lausanne，瑞士</td>\n",
       "      <td>529</td>\n",
       "      <td>22</td>\n",
       "      <td>我是个谜^。^</td>\n",
       "      <td>私房甜甜猫</td>\n",
       "    </tr>\n",
       "  </tbody>\n",
       "</table>\n",
       "<p>109380 rows × 5 columns</p>\n",
       "</div>"
      ],
      "text/plain": [
       "                                detail  followers following  \\\n",
       "0                                  NaN  1,043,150       203   \n",
       "1       计算机软件Facebook人工智能研究所卡耐基梅隆大学机器人     70,609       115   \n",
       "2                互联网24好玩产品经理北京邮电大学信息工程        231       273   \n",
       "3                                   制药          4        58   \n",
       "4                                  NaN          0         6   \n",
       "...                                ...        ...       ...   \n",
       "109376                             NaN          4        82   \n",
       "109377                电子商务苏州尚葡科技电子商务运营         30        50   \n",
       "109378                            电子商务         26         9   \n",
       "109379                             NaN          0         1   \n",
       "109380   创意艺术Université de Lausanne，瑞士        529        22   \n",
       "\n",
       "                                        intro       name  \n",
       "0                                         NaN        李开复  \n",
       "1       Facebook人工智能研究院研究员/研究经理，卡耐基梅隆大学机器人系博士        田渊栋  \n",
       "2                         产品经理，关注企业服务、AI、大数据。        易良慧  \n",
       "3                                         NaN  huangjian  \n",
       "4                                          学生         流苏  \n",
       "...                                       ...        ...  \n",
       "109376                                    神经病         一诺  \n",
       "109377   Life is too short to drink bad wine.         沈钧  \n",
       "109378                      专业蜜蜡鉴定vx:kxm0755。        康小蜜  \n",
       "109379                                  什么也没有    王者农药不能玩  \n",
       "109380                                我是个谜^。^      私房甜甜猫  \n",
       "\n",
       "[109380 rows x 5 columns]"
      ]
     },
     "execution_count": 5,
     "metadata": {},
     "output_type": "execute_result"
    }
   ],
   "source": [
    "data.dropna(subset=['followers', 'following', 'name'])  # 子表中有一个nan该行就会被删除"
   ]
  },
  {
   "cell_type": "code",
   "execution_count": 7,
   "id": "ade0756d",
   "metadata": {},
   "outputs": [],
   "source": [
    "data = data.fillna('')  # nan值填充为空字符串"
   ]
  },
  {
   "cell_type": "code",
   "execution_count": 9,
   "id": "03ad9392",
   "metadata": {},
   "outputs": [],
   "source": [
    "data['intro'] = data.intro + data.detail"
   ]
  },
  {
   "cell_type": "code",
   "execution_count": 10,
   "id": "46287f50",
   "metadata": {},
   "outputs": [],
   "source": [
    "del data['detail']"
   ]
  },
  {
   "cell_type": "code",
   "execution_count": 11,
   "id": "2273e400",
   "metadata": {},
   "outputs": [
    {
     "data": {
      "text/html": [
       "<div>\n",
       "<style scoped>\n",
       "    .dataframe tbody tr th:only-of-type {\n",
       "        vertical-align: middle;\n",
       "    }\n",
       "\n",
       "    .dataframe tbody tr th {\n",
       "        vertical-align: top;\n",
       "    }\n",
       "\n",
       "    .dataframe thead th {\n",
       "        text-align: right;\n",
       "    }\n",
       "</style>\n",
       "<table border=\"1\" class=\"dataframe\">\n",
       "  <thead>\n",
       "    <tr style=\"text-align: right;\">\n",
       "      <th></th>\n",
       "      <th>followers</th>\n",
       "      <th>following</th>\n",
       "      <th>intro</th>\n",
       "      <th>name</th>\n",
       "    </tr>\n",
       "  </thead>\n",
       "  <tbody>\n",
       "    <tr>\n",
       "      <th>0</th>\n",
       "      <td>1,043,150</td>\n",
       "      <td>203</td>\n",
       "      <td></td>\n",
       "      <td>李开复</td>\n",
       "    </tr>\n",
       "    <tr>\n",
       "      <th>1</th>\n",
       "      <td>70,609</td>\n",
       "      <td>115</td>\n",
       "      <td>Facebook人工智能研究院研究员/研究经理，卡耐基梅隆大学机器人系博士计算机软件Face...</td>\n",
       "      <td>田渊栋</td>\n",
       "    </tr>\n",
       "    <tr>\n",
       "      <th>2</th>\n",
       "      <td>231</td>\n",
       "      <td>273</td>\n",
       "      <td>产品经理，关注企业服务、AI、大数据。互联网24好玩产品经理北京邮电大学信息工程</td>\n",
       "      <td>易良慧</td>\n",
       "    </tr>\n",
       "    <tr>\n",
       "      <th>3</th>\n",
       "      <td>4</td>\n",
       "      <td>58</td>\n",
       "      <td>制药</td>\n",
       "      <td>huangjian</td>\n",
       "    </tr>\n",
       "    <tr>\n",
       "      <th>4</th>\n",
       "      <td>0</td>\n",
       "      <td>6</td>\n",
       "      <td>学生</td>\n",
       "      <td>流苏</td>\n",
       "    </tr>\n",
       "    <tr>\n",
       "      <th>...</th>\n",
       "      <td>...</td>\n",
       "      <td>...</td>\n",
       "      <td>...</td>\n",
       "      <td>...</td>\n",
       "    </tr>\n",
       "    <tr>\n",
       "      <th>109376</th>\n",
       "      <td>4</td>\n",
       "      <td>82</td>\n",
       "      <td>神经病</td>\n",
       "      <td>一诺</td>\n",
       "    </tr>\n",
       "    <tr>\n",
       "      <th>109377</th>\n",
       "      <td>30</td>\n",
       "      <td>50</td>\n",
       "      <td>Life is too short to drink bad wine.电子商务苏州尚葡科技...</td>\n",
       "      <td>沈钧</td>\n",
       "    </tr>\n",
       "    <tr>\n",
       "      <th>109378</th>\n",
       "      <td>26</td>\n",
       "      <td>9</td>\n",
       "      <td>专业蜜蜡鉴定vx:kxm0755。电子商务</td>\n",
       "      <td>康小蜜</td>\n",
       "    </tr>\n",
       "    <tr>\n",
       "      <th>109379</th>\n",
       "      <td>0</td>\n",
       "      <td>1</td>\n",
       "      <td>什么也没有</td>\n",
       "      <td>王者农药不能玩</td>\n",
       "    </tr>\n",
       "    <tr>\n",
       "      <th>109380</th>\n",
       "      <td>529</td>\n",
       "      <td>22</td>\n",
       "      <td>我是个谜^。^创意艺术Université de Lausanne，瑞士</td>\n",
       "      <td>私房甜甜猫</td>\n",
       "    </tr>\n",
       "  </tbody>\n",
       "</table>\n",
       "<p>109381 rows × 4 columns</p>\n",
       "</div>"
      ],
      "text/plain": [
       "        followers following  \\\n",
       "0       1,043,150       203   \n",
       "1          70,609       115   \n",
       "2             231       273   \n",
       "3               4        58   \n",
       "4               0         6   \n",
       "...           ...       ...   \n",
       "109376          4        82   \n",
       "109377         30        50   \n",
       "109378         26         9   \n",
       "109379          0         1   \n",
       "109380        529        22   \n",
       "\n",
       "                                                    intro       name  \n",
       "0                                                                李开复  \n",
       "1       Facebook人工智能研究院研究员/研究经理，卡耐基梅隆大学机器人系博士计算机软件Face...        田渊栋  \n",
       "2                产品经理，关注企业服务、AI、大数据。互联网24好玩产品经理北京邮电大学信息工程        易良慧  \n",
       "3                                                      制药  huangjian  \n",
       "4                                                      学生         流苏  \n",
       "...                                                   ...        ...  \n",
       "109376                                                神经病         一诺  \n",
       "109377  Life is too short to drink bad wine.电子商务苏州尚葡科技...         沈钧  \n",
       "109378                              专业蜜蜡鉴定vx:kxm0755。电子商务        康小蜜  \n",
       "109379                                              什么也没有    王者农药不能玩  \n",
       "109380               我是个谜^。^创意艺术Université de Lausanne，瑞士      私房甜甜猫  \n",
       "\n",
       "[109381 rows x 4 columns]"
      ]
     },
     "execution_count": 11,
     "metadata": {},
     "output_type": "execute_result"
    }
   ],
   "source": [
    "data"
   ]
  },
  {
   "cell_type": "code",
   "execution_count": 15,
   "id": "db40b8be",
   "metadata": {},
   "outputs": [],
   "source": [
    "data_it = data[data.intro.str.contains('互联网|因特网|计算机')] # | 或"
   ]
  },
  {
   "cell_type": "code",
   "execution_count": 17,
   "id": "e2780047",
   "metadata": {},
   "outputs": [
    {
     "data": {
      "text/html": [
       "<div>\n",
       "<style scoped>\n",
       "    .dataframe tbody tr th:only-of-type {\n",
       "        vertical-align: middle;\n",
       "    }\n",
       "\n",
       "    .dataframe tbody tr th {\n",
       "        vertical-align: top;\n",
       "    }\n",
       "\n",
       "    .dataframe thead th {\n",
       "        text-align: right;\n",
       "    }\n",
       "</style>\n",
       "<table border=\"1\" class=\"dataframe\">\n",
       "  <thead>\n",
       "    <tr style=\"text-align: right;\">\n",
       "      <th></th>\n",
       "      <th>followers</th>\n",
       "      <th>following</th>\n",
       "      <th>intro</th>\n",
       "      <th>name</th>\n",
       "      <th>is_edu</th>\n",
       "    </tr>\n",
       "  </thead>\n",
       "  <tbody>\n",
       "    <tr>\n",
       "      <th>1</th>\n",
       "      <td>70,609</td>\n",
       "      <td>115</td>\n",
       "      <td>Facebook人工智能研究院研究员/研究经理，卡耐基梅隆大学机器人系博士计算机软件Face...</td>\n",
       "      <td>田渊栋</td>\n",
       "      <td>False</td>\n",
       "    </tr>\n",
       "    <tr>\n",
       "      <th>2</th>\n",
       "      <td>231</td>\n",
       "      <td>273</td>\n",
       "      <td>产品经理，关注企业服务、AI、大数据。互联网24好玩产品经理北京邮电大学信息工程</td>\n",
       "      <td>易良慧</td>\n",
       "      <td>False</td>\n",
       "    </tr>\n",
       "    <tr>\n",
       "      <th>5</th>\n",
       "      <td>7,563</td>\n",
       "      <td>153</td>\n",
       "      <td>FAIR炼丹中Facebook吃饭看paper玩游戏写码卡内基梅隆大学 (Carnegie ...</td>\n",
       "      <td>吴育昕</td>\n",
       "      <td>False</td>\n",
       "    </tr>\n",
       "    <tr>\n",
       "      <th>6</th>\n",
       "      <td>6,183</td>\n",
       "      <td>211</td>\n",
       "      <td>The Journey is the Reward.互联网网易Brand Marketing</td>\n",
       "      <td>Kyle君</td>\n",
       "      <td>False</td>\n",
       "    </tr>\n",
       "    <tr>\n",
       "      <th>7</th>\n",
       "      <td>1,902</td>\n",
       "      <td>49</td>\n",
       "      <td>小吴Facebook Applied Machine Learning程序员卡内基梅隆大学 ...</td>\n",
       "      <td>吴逸鸣</td>\n",
       "      <td>False</td>\n",
       "    </tr>\n",
       "    <tr>\n",
       "      <th>...</th>\n",
       "      <td>...</td>\n",
       "      <td>...</td>\n",
       "      <td>...</td>\n",
       "      <td>...</td>\n",
       "      <td>...</td>\n",
       "    </tr>\n",
       "    <tr>\n",
       "      <th>109244</th>\n",
       "      <td>614</td>\n",
       "      <td>78</td>\n",
       "      <td>互联网</td>\n",
       "      <td>木三刀</td>\n",
       "      <td>False</td>\n",
       "    </tr>\n",
       "    <tr>\n",
       "      <th>109256</th>\n",
       "      <td>1</td>\n",
       "      <td>4</td>\n",
       "      <td>cool互联网</td>\n",
       "      <td>Ella</td>\n",
       "      <td>False</td>\n",
       "    </tr>\n",
       "    <tr>\n",
       "      <th>109268</th>\n",
       "      <td>2</td>\n",
       "      <td>22</td>\n",
       "      <td>只是一个性向跟您不同的普通人。互联网IT 男氪金四核苑黄叫兽</td>\n",
       "      <td>黄某某</td>\n",
       "      <td>False</td>\n",
       "    </tr>\n",
       "    <tr>\n",
       "      <th>109281</th>\n",
       "      <td>108</td>\n",
       "      <td>0</td>\n",
       "      <td>夏普区域运营互联网</td>\n",
       "      <td>Zion.an</td>\n",
       "      <td>False</td>\n",
       "    </tr>\n",
       "    <tr>\n",
       "      <th>109353</th>\n",
       "      <td>24</td>\n",
       "      <td>34</td>\n",
       "      <td>等待和希望互联网浙江大学高等教育</td>\n",
       "      <td>张大狗</td>\n",
       "      <td>True</td>\n",
       "    </tr>\n",
       "  </tbody>\n",
       "</table>\n",
       "<p>9924 rows × 5 columns</p>\n",
       "</div>"
      ],
      "text/plain": [
       "       followers following                                              intro  \\\n",
       "1         70,609       115  Facebook人工智能研究院研究员/研究经理，卡耐基梅隆大学机器人系博士计算机软件Face...   \n",
       "2            231       273           产品经理，关注企业服务、AI、大数据。互联网24好玩产品经理北京邮电大学信息工程   \n",
       "5          7,563       153  FAIR炼丹中Facebook吃饭看paper玩游戏写码卡内基梅隆大学 (Carnegie ...   \n",
       "6          6,183       211     The Journey is the Reward.互联网网易Brand Marketing   \n",
       "7          1,902        49  小吴Facebook Applied Machine Learning程序员卡内基梅隆大学 ...   \n",
       "...          ...       ...                                                ...   \n",
       "109244       614        78                                                互联网   \n",
       "109256         1         4                                            cool互联网   \n",
       "109268         2        22                     只是一个性向跟您不同的普通人。互联网IT 男氪金四核苑黄叫兽   \n",
       "109281       108         0                                          夏普区域运营互联网   \n",
       "109353        24        34                                   等待和希望互联网浙江大学高等教育   \n",
       "\n",
       "           name  is_edu  \n",
       "1           田渊栋   False  \n",
       "2           易良慧   False  \n",
       "5           吴育昕   False  \n",
       "6         Kyle君   False  \n",
       "7           吴逸鸣   False  \n",
       "...         ...     ...  \n",
       "109244      木三刀   False  \n",
       "109256     Ella   False  \n",
       "109268      黄某某   False  \n",
       "109281  Zion.an   False  \n",
       "109353      张大狗    True  \n",
       "\n",
       "[9924 rows x 5 columns]"
      ]
     },
     "execution_count": 17,
     "metadata": {},
     "output_type": "execute_result"
    }
   ],
   "source": [
    "data_it"
   ]
  },
  {
   "cell_type": "code",
   "execution_count": 18,
   "id": "135df644",
   "metadata": {},
   "outputs": [
    {
     "name": "stderr",
     "output_type": "stream",
     "text": [
      "C:\\Users\\luhe\\AppData\\Local\\Temp\\ipykernel_13396\\2951315006.py:1: SettingWithCopyWarning: \n",
      "A value is trying to be set on a copy of a slice from a DataFrame.\n",
      "Try using .loc[row_indexer,col_indexer] = value instead\n",
      "\n",
      "See the caveats in the documentation: https://pandas.pydata.org/pandas-docs/stable/user_guide/indexing.html#returning-a-view-versus-a-copy\n",
      "  data_it['is_edu'] = data_it.intro.str.contains('教育')\n"
     ]
    }
   ],
   "source": [
    "data_it['is_edu'] = data_it.intro.str.contains('教育')"
   ]
  },
  {
   "cell_type": "code",
   "execution_count": 22,
   "id": "8c7ae184",
   "metadata": {},
   "outputs": [
    {
     "data": {
      "text/plain": [
       "0.014510278113663845"
      ]
     },
     "execution_count": 22,
     "metadata": {},
     "output_type": "execute_result"
    }
   ],
   "source": [
    "data_it.is_edu.sum()/len(data_it)"
   ]
  },
  {
   "cell_type": "code",
   "execution_count": 23,
   "id": "bcc944f5",
   "metadata": {},
   "outputs": [
    {
     "data": {
      "text/html": [
       "<div>\n",
       "<style scoped>\n",
       "    .dataframe tbody tr th:only-of-type {\n",
       "        vertical-align: middle;\n",
       "    }\n",
       "\n",
       "    .dataframe tbody tr th {\n",
       "        vertical-align: top;\n",
       "    }\n",
       "\n",
       "    .dataframe thead th {\n",
       "        text-align: right;\n",
       "    }\n",
       "</style>\n",
       "<table border=\"1\" class=\"dataframe\">\n",
       "  <thead>\n",
       "    <tr style=\"text-align: right;\">\n",
       "      <th></th>\n",
       "      <th>followers</th>\n",
       "      <th>following</th>\n",
       "      <th>intro</th>\n",
       "      <th>name</th>\n",
       "    </tr>\n",
       "  </thead>\n",
       "  <tbody>\n",
       "    <tr>\n",
       "      <th>0</th>\n",
       "      <td>1,043,150</td>\n",
       "      <td>203</td>\n",
       "      <td></td>\n",
       "      <td>李开复</td>\n",
       "    </tr>\n",
       "    <tr>\n",
       "      <th>1</th>\n",
       "      <td>70,609</td>\n",
       "      <td>115</td>\n",
       "      <td>Facebook人工智能研究院研究员/研究经理，卡耐基梅隆大学机器人系博士计算机软件Face...</td>\n",
       "      <td>田渊栋</td>\n",
       "    </tr>\n",
       "    <tr>\n",
       "      <th>2</th>\n",
       "      <td>231</td>\n",
       "      <td>273</td>\n",
       "      <td>产品经理，关注企业服务、AI、大数据。互联网24好玩产品经理北京邮电大学信息工程</td>\n",
       "      <td>易良慧</td>\n",
       "    </tr>\n",
       "    <tr>\n",
       "      <th>3</th>\n",
       "      <td>4</td>\n",
       "      <td>58</td>\n",
       "      <td>制药</td>\n",
       "      <td>huangjian</td>\n",
       "    </tr>\n",
       "    <tr>\n",
       "      <th>4</th>\n",
       "      <td>0</td>\n",
       "      <td>6</td>\n",
       "      <td>学生</td>\n",
       "      <td>流苏</td>\n",
       "    </tr>\n",
       "  </tbody>\n",
       "</table>\n",
       "</div>"
      ],
      "text/plain": [
       "   followers following                                              intro  \\\n",
       "0  1,043,150       203                                                      \n",
       "1     70,609       115  Facebook人工智能研究院研究员/研究经理，卡耐基梅隆大学机器人系博士计算机软件Face...   \n",
       "2        231       273           产品经理，关注企业服务、AI、大数据。互联网24好玩产品经理北京邮电大学信息工程   \n",
       "3          4        58                                                 制药   \n",
       "4          0         6                                                 学生   \n",
       "\n",
       "        name  \n",
       "0        李开复  \n",
       "1        田渊栋  \n",
       "2        易良慧  \n",
       "3  huangjian  \n",
       "4         流苏  "
      ]
     },
     "execution_count": 23,
     "metadata": {},
     "output_type": "execute_result"
    }
   ],
   "source": [
    "data.head()"
   ]
  },
  {
   "cell_type": "code",
   "execution_count": 24,
   "id": "3ee0381b",
   "metadata": {},
   "outputs": [],
   "source": [
    "data_it = data[data.intro.str.contains('互联网|因特网|计算机|产品经理|软件')] "
   ]
  },
  {
   "cell_type": "code",
   "execution_count": 25,
   "id": "114abec1",
   "metadata": {},
   "outputs": [
    {
     "name": "stderr",
     "output_type": "stream",
     "text": [
      "C:\\Users\\luhe\\AppData\\Local\\Temp\\ipykernel_13396\\2498431737.py:1: SettingWithCopyWarning: \n",
      "A value is trying to be set on a copy of a slice from a DataFrame.\n",
      "Try using .loc[row_indexer,col_indexer] = value instead\n",
      "\n",
      "See the caveats in the documentation: https://pandas.pydata.org/pandas-docs/stable/user_guide/indexing.html#returning-a-view-versus-a-copy\n",
      "  data_it['job'] = 'internet'\n"
     ]
    }
   ],
   "source": [
    "data_it['job'] = 'internet'"
   ]
  },
  {
   "cell_type": "code",
   "execution_count": 26,
   "id": "011b5251",
   "metadata": {},
   "outputs": [],
   "source": [
    "data_mon = data[data.intro.str.contains('金融|银行|证券|基金')] "
   ]
  },
  {
   "cell_type": "code",
   "execution_count": 27,
   "id": "30ede57c",
   "metadata": {},
   "outputs": [
    {
     "name": "stderr",
     "output_type": "stream",
     "text": [
      "C:\\Users\\luhe\\AppData\\Local\\Temp\\ipykernel_13396\\783163704.py:1: SettingWithCopyWarning: \n",
      "A value is trying to be set on a copy of a slice from a DataFrame.\n",
      "Try using .loc[row_indexer,col_indexer] = value instead\n",
      "\n",
      "See the caveats in the documentation: https://pandas.pydata.org/pandas-docs/stable/user_guide/indexing.html#returning-a-view-versus-a-copy\n",
      "  data_mon['job'] = 'bank'\n"
     ]
    }
   ],
   "source": [
    "data_mon['job'] = 'bank'"
   ]
  },
  {
   "cell_type": "code",
   "execution_count": 28,
   "id": "43049f3f",
   "metadata": {},
   "outputs": [],
   "source": [
    "data_edu = data[data.intro.str.contains('教育|培训|大学|学校|课程')] "
   ]
  },
  {
   "cell_type": "code",
   "execution_count": 29,
   "id": "acc7d8ff",
   "metadata": {
    "scrolled": true
   },
   "outputs": [
    {
     "name": "stderr",
     "output_type": "stream",
     "text": [
      "C:\\Users\\luhe\\AppData\\Local\\Temp\\ipykernel_13396\\172218367.py:1: SettingWithCopyWarning: \n",
      "A value is trying to be set on a copy of a slice from a DataFrame.\n",
      "Try using .loc[row_indexer,col_indexer] = value instead\n",
      "\n",
      "See the caveats in the documentation: https://pandas.pydata.org/pandas-docs/stable/user_guide/indexing.html#returning-a-view-versus-a-copy\n",
      "  data_edu['job'] = 'edu'\n"
     ]
    }
   ],
   "source": [
    "data_edu['job'] = 'edu'"
   ]
  },
  {
   "cell_type": "code",
   "execution_count": 31,
   "id": "7bdc4442",
   "metadata": {},
   "outputs": [],
   "source": [
    "data_new = pd.concat([data_it, data_mon, data_edu])"
   ]
  },
  {
   "cell_type": "code",
   "execution_count": 32,
   "id": "60ba671a",
   "metadata": {},
   "outputs": [
    {
     "data": {
      "text/html": [
       "<div>\n",
       "<style scoped>\n",
       "    .dataframe tbody tr th:only-of-type {\n",
       "        vertical-align: middle;\n",
       "    }\n",
       "\n",
       "    .dataframe tbody tr th {\n",
       "        vertical-align: top;\n",
       "    }\n",
       "\n",
       "    .dataframe thead th {\n",
       "        text-align: right;\n",
       "    }\n",
       "</style>\n",
       "<table border=\"1\" class=\"dataframe\">\n",
       "  <thead>\n",
       "    <tr style=\"text-align: right;\">\n",
       "      <th></th>\n",
       "      <th>followers</th>\n",
       "      <th>following</th>\n",
       "      <th>intro</th>\n",
       "      <th>name</th>\n",
       "      <th>job</th>\n",
       "    </tr>\n",
       "  </thead>\n",
       "  <tbody>\n",
       "    <tr>\n",
       "      <th>count</th>\n",
       "      <td>32353</td>\n",
       "      <td>32353</td>\n",
       "      <td>32353</td>\n",
       "      <td>32353</td>\n",
       "      <td>32353</td>\n",
       "    </tr>\n",
       "    <tr>\n",
       "      <th>unique</th>\n",
       "      <td>5252</td>\n",
       "      <td>1564</td>\n",
       "      <td>25309</td>\n",
       "      <td>26587</td>\n",
       "      <td>3</td>\n",
       "    </tr>\n",
       "    <tr>\n",
       "      <th>top</th>\n",
       "      <td>0</td>\n",
       "      <td>0</td>\n",
       "      <td>互联网</td>\n",
       "      <td>[已重置]</td>\n",
       "      <td>edu</td>\n",
       "    </tr>\n",
       "    <tr>\n",
       "      <th>freq</th>\n",
       "      <td>2388</td>\n",
       "      <td>1098</td>\n",
       "      <td>467</td>\n",
       "      <td>29</td>\n",
       "      <td>18938</td>\n",
       "    </tr>\n",
       "  </tbody>\n",
       "</table>\n",
       "</div>"
      ],
      "text/plain": [
       "       followers following  intro   name    job\n",
       "count      32353     32353  32353  32353  32353\n",
       "unique      5252      1564  25309  26587      3\n",
       "top            0         0    互联网  [已重置]    edu\n",
       "freq        2388      1098    467     29  18938"
      ]
     },
     "execution_count": 32,
     "metadata": {},
     "output_type": "execute_result"
    }
   ],
   "source": [
    "data_new.describe()  # 非数值数据会自动计算count等"
   ]
  },
  {
   "cell_type": "code",
   "execution_count": 33,
   "id": "89b38bde",
   "metadata": {},
   "outputs": [
    {
     "name": "stdout",
     "output_type": "stream",
     "text": [
      "<class 'pandas.core.frame.DataFrame'>\n",
      "Int64Index: 32353 entries, 1 to 109360\n",
      "Data columns (total 5 columns):\n",
      " #   Column     Non-Null Count  Dtype \n",
      "---  ------     --------------  ----- \n",
      " 0   followers  32353 non-null  object\n",
      " 1   following  32353 non-null  object\n",
      " 2   intro      32353 non-null  object\n",
      " 3   name       32353 non-null  object\n",
      " 4   job        32353 non-null  object\n",
      "dtypes: object(5)\n",
      "memory usage: 1.5+ MB\n"
     ]
    }
   ],
   "source": [
    "data_new.info()"
   ]
  },
  {
   "cell_type": "code",
   "execution_count": 35,
   "id": "5da09054",
   "metadata": {},
   "outputs": [],
   "source": [
    "del data_new['intro']"
   ]
  },
  {
   "cell_type": "code",
   "execution_count": 36,
   "id": "c18aa11c",
   "metadata": {
    "scrolled": true
   },
   "outputs": [
    {
     "data": {
      "text/html": [
       "<div>\n",
       "<style scoped>\n",
       "    .dataframe tbody tr th:only-of-type {\n",
       "        vertical-align: middle;\n",
       "    }\n",
       "\n",
       "    .dataframe tbody tr th {\n",
       "        vertical-align: top;\n",
       "    }\n",
       "\n",
       "    .dataframe thead th {\n",
       "        text-align: right;\n",
       "    }\n",
       "</style>\n",
       "<table border=\"1\" class=\"dataframe\">\n",
       "  <thead>\n",
       "    <tr style=\"text-align: right;\">\n",
       "      <th></th>\n",
       "      <th>followers</th>\n",
       "      <th>following</th>\n",
       "      <th>name</th>\n",
       "      <th>job</th>\n",
       "    </tr>\n",
       "  </thead>\n",
       "  <tbody>\n",
       "    <tr>\n",
       "      <th>1</th>\n",
       "      <td>70,609</td>\n",
       "      <td>115</td>\n",
       "      <td>田渊栋</td>\n",
       "      <td>internet</td>\n",
       "    </tr>\n",
       "    <tr>\n",
       "      <th>2</th>\n",
       "      <td>231</td>\n",
       "      <td>273</td>\n",
       "      <td>易良慧</td>\n",
       "      <td>internet</td>\n",
       "    </tr>\n",
       "    <tr>\n",
       "      <th>5</th>\n",
       "      <td>7,563</td>\n",
       "      <td>153</td>\n",
       "      <td>吴育昕</td>\n",
       "      <td>internet</td>\n",
       "    </tr>\n",
       "    <tr>\n",
       "      <th>6</th>\n",
       "      <td>6,183</td>\n",
       "      <td>211</td>\n",
       "      <td>Kyle君</td>\n",
       "      <td>internet</td>\n",
       "    </tr>\n",
       "    <tr>\n",
       "      <th>7</th>\n",
       "      <td>1,902</td>\n",
       "      <td>49</td>\n",
       "      <td>吴逸鸣</td>\n",
       "      <td>internet</td>\n",
       "    </tr>\n",
       "    <tr>\n",
       "      <th>...</th>\n",
       "      <td>...</td>\n",
       "      <td>...</td>\n",
       "      <td>...</td>\n",
       "      <td>...</td>\n",
       "    </tr>\n",
       "    <tr>\n",
       "      <th>109349</th>\n",
       "      <td>173</td>\n",
       "      <td>49</td>\n",
       "      <td>吴炎平</td>\n",
       "      <td>edu</td>\n",
       "    </tr>\n",
       "    <tr>\n",
       "      <th>109350</th>\n",
       "      <td>40,257</td>\n",
       "      <td>36</td>\n",
       "      <td>娜娜</td>\n",
       "      <td>edu</td>\n",
       "    </tr>\n",
       "    <tr>\n",
       "      <th>109351</th>\n",
       "      <td>0</td>\n",
       "      <td>9</td>\n",
       "      <td>蔡乐婷</td>\n",
       "      <td>edu</td>\n",
       "    </tr>\n",
       "    <tr>\n",
       "      <th>109353</th>\n",
       "      <td>24</td>\n",
       "      <td>34</td>\n",
       "      <td>张大狗</td>\n",
       "      <td>edu</td>\n",
       "    </tr>\n",
       "    <tr>\n",
       "      <th>109360</th>\n",
       "      <td>7</td>\n",
       "      <td>2</td>\n",
       "      <td>失语者</td>\n",
       "      <td>edu</td>\n",
       "    </tr>\n",
       "  </tbody>\n",
       "</table>\n",
       "<p>32353 rows × 4 columns</p>\n",
       "</div>"
      ],
      "text/plain": [
       "       followers following   name       job\n",
       "1         70,609       115    田渊栋  internet\n",
       "2            231       273    易良慧  internet\n",
       "5          7,563       153    吴育昕  internet\n",
       "6          6,183       211  Kyle君  internet\n",
       "7          1,902        49    吴逸鸣  internet\n",
       "...          ...       ...    ...       ...\n",
       "109349       173        49    吴炎平       edu\n",
       "109350    40,257        36     娜娜       edu\n",
       "109351         0         9    蔡乐婷       edu\n",
       "109353        24        34    张大狗       edu\n",
       "109360         7         2    失语者       edu\n",
       "\n",
       "[32353 rows x 4 columns]"
      ]
     },
     "execution_count": 36,
     "metadata": {},
     "output_type": "execute_result"
    }
   ],
   "source": [
    "data_new"
   ]
  },
  {
   "cell_type": "code",
   "execution_count": 37,
   "id": "931eaacd",
   "metadata": {},
   "outputs": [
    {
     "data": {
      "text/plain": [
       "edu         18938\n",
       "internet    10312\n",
       "bank         3103\n",
       "Name: job, dtype: int64"
      ]
     },
     "execution_count": 37,
     "metadata": {},
     "output_type": "execute_result"
    }
   ],
   "source": [
    "data_new.job.value_counts()"
   ]
  },
  {
   "cell_type": "code",
   "execution_count": 40,
   "id": "9a072d76",
   "metadata": {},
   "outputs": [
    {
     "data": {
      "text/plain": [
       "5766"
      ]
     },
     "execution_count": 40,
     "metadata": {},
     "output_type": "execute_result"
    }
   ],
   "source": [
    "(data_new.name.duplicated()).sum()  # name 列重复"
   ]
  },
  {
   "cell_type": "code",
   "execution_count": 41,
   "id": "370a2cea",
   "metadata": {},
   "outputs": [],
   "source": [
    "# 根据子表去重，子表相同才会删除\n",
    "data_new.drop_duplicates(subset=['followers', 'following', 'name'], inplace=True)"
   ]
  },
  {
   "cell_type": "code",
   "execution_count": 43,
   "id": "d01a2300",
   "metadata": {},
   "outputs": [
    {
     "name": "stdout",
     "output_type": "stream",
     "text": [
      "<class 'pandas.core.frame.DataFrame'>\n",
      "Int64Index: 27739 entries, 1 to 109360\n",
      "Data columns (total 4 columns):\n",
      " #   Column     Non-Null Count  Dtype \n",
      "---  ------     --------------  ----- \n",
      " 0   followers  27739 non-null  object\n",
      " 1   following  27739 non-null  object\n",
      " 2   name       27739 non-null  object\n",
      " 3   job        27739 non-null  object\n",
      "dtypes: object(4)\n",
      "memory usage: 1.1+ MB\n"
     ]
    }
   ],
   "source": [
    "data_new.info()"
   ]
  },
  {
   "cell_type": "code",
   "execution_count": 44,
   "id": "e5c5c241",
   "metadata": {},
   "outputs": [
    {
     "data": {
      "text/plain": [
       "edu         14542\n",
       "internet    10312\n",
       "bank         2885\n",
       "Name: job, dtype: int64"
      ]
     },
     "execution_count": 44,
     "metadata": {},
     "output_type": "execute_result"
    }
   ],
   "source": [
    "data_new.job.value_counts()"
   ]
  },
  {
   "cell_type": "code",
   "execution_count": 45,
   "id": "77fd4470",
   "metadata": {},
   "outputs": [
    {
     "data": {
      "text/html": [
       "<div>\n",
       "<style scoped>\n",
       "    .dataframe tbody tr th:only-of-type {\n",
       "        vertical-align: middle;\n",
       "    }\n",
       "\n",
       "    .dataframe tbody tr th {\n",
       "        vertical-align: top;\n",
       "    }\n",
       "\n",
       "    .dataframe thead th {\n",
       "        text-align: right;\n",
       "    }\n",
       "</style>\n",
       "<table border=\"1\" class=\"dataframe\">\n",
       "  <thead>\n",
       "    <tr style=\"text-align: right;\">\n",
       "      <th></th>\n",
       "      <th>followers</th>\n",
       "      <th>following</th>\n",
       "      <th>name</th>\n",
       "      <th>job</th>\n",
       "    </tr>\n",
       "  </thead>\n",
       "  <tbody>\n",
       "    <tr>\n",
       "      <th>1</th>\n",
       "      <td>70,609</td>\n",
       "      <td>115</td>\n",
       "      <td>田渊栋</td>\n",
       "      <td>internet</td>\n",
       "    </tr>\n",
       "    <tr>\n",
       "      <th>2</th>\n",
       "      <td>231</td>\n",
       "      <td>273</td>\n",
       "      <td>易良慧</td>\n",
       "      <td>internet</td>\n",
       "    </tr>\n",
       "    <tr>\n",
       "      <th>5</th>\n",
       "      <td>7,563</td>\n",
       "      <td>153</td>\n",
       "      <td>吴育昕</td>\n",
       "      <td>internet</td>\n",
       "    </tr>\n",
       "    <tr>\n",
       "      <th>6</th>\n",
       "      <td>6,183</td>\n",
       "      <td>211</td>\n",
       "      <td>Kyle君</td>\n",
       "      <td>internet</td>\n",
       "    </tr>\n",
       "    <tr>\n",
       "      <th>7</th>\n",
       "      <td>1,902</td>\n",
       "      <td>49</td>\n",
       "      <td>吴逸鸣</td>\n",
       "      <td>internet</td>\n",
       "    </tr>\n",
       "    <tr>\n",
       "      <th>...</th>\n",
       "      <td>...</td>\n",
       "      <td>...</td>\n",
       "      <td>...</td>\n",
       "      <td>...</td>\n",
       "    </tr>\n",
       "    <tr>\n",
       "      <th>109345</th>\n",
       "      <td>1</td>\n",
       "      <td>7</td>\n",
       "      <td>没有故事的短暂一生</td>\n",
       "      <td>edu</td>\n",
       "    </tr>\n",
       "    <tr>\n",
       "      <th>109349</th>\n",
       "      <td>173</td>\n",
       "      <td>49</td>\n",
       "      <td>吴炎平</td>\n",
       "      <td>edu</td>\n",
       "    </tr>\n",
       "    <tr>\n",
       "      <th>109350</th>\n",
       "      <td>40,257</td>\n",
       "      <td>36</td>\n",
       "      <td>娜娜</td>\n",
       "      <td>edu</td>\n",
       "    </tr>\n",
       "    <tr>\n",
       "      <th>109351</th>\n",
       "      <td>0</td>\n",
       "      <td>9</td>\n",
       "      <td>蔡乐婷</td>\n",
       "      <td>edu</td>\n",
       "    </tr>\n",
       "    <tr>\n",
       "      <th>109360</th>\n",
       "      <td>7</td>\n",
       "      <td>2</td>\n",
       "      <td>失语者</td>\n",
       "      <td>edu</td>\n",
       "    </tr>\n",
       "  </tbody>\n",
       "</table>\n",
       "<p>27739 rows × 4 columns</p>\n",
       "</div>"
      ],
      "text/plain": [
       "       followers following       name       job\n",
       "1         70,609       115        田渊栋  internet\n",
       "2            231       273        易良慧  internet\n",
       "5          7,563       153        吴育昕  internet\n",
       "6          6,183       211      Kyle君  internet\n",
       "7          1,902        49        吴逸鸣  internet\n",
       "...          ...       ...        ...       ...\n",
       "109345         1         7  没有故事的短暂一生       edu\n",
       "109349       173        49        吴炎平       edu\n",
       "109350    40,257        36         娜娜       edu\n",
       "109351         0         9        蔡乐婷       edu\n",
       "109360         7         2        失语者       edu\n",
       "\n",
       "[27739 rows x 4 columns]"
      ]
     },
     "execution_count": 45,
     "metadata": {},
     "output_type": "execute_result"
    }
   ],
   "source": [
    "data_new"
   ]
  },
  {
   "cell_type": "code",
   "execution_count": 50,
   "id": "c6ee770b",
   "metadata": {},
   "outputs": [],
   "source": [
    "data_new['followers'] = data_new.followers.str.replace(',', '').astype(np.int32)"
   ]
  },
  {
   "cell_type": "code",
   "execution_count": 52,
   "id": "d3f84eb6",
   "metadata": {},
   "outputs": [
    {
     "name": "stdout",
     "output_type": "stream",
     "text": [
      "<class 'pandas.core.frame.DataFrame'>\n",
      "Int64Index: 27739 entries, 1 to 109360\n",
      "Data columns (total 4 columns):\n",
      " #   Column     Non-Null Count  Dtype \n",
      "---  ------     --------------  ----- \n",
      " 0   followers  27739 non-null  int32 \n",
      " 1   following  27739 non-null  object\n",
      " 2   name       27739 non-null  object\n",
      " 3   job        27739 non-null  object\n",
      "dtypes: int32(1), object(3)\n",
      "memory usage: 975.2+ KB\n"
     ]
    }
   ],
   "source": [
    "data_new.info()"
   ]
  },
  {
   "cell_type": "code",
   "execution_count": 54,
   "id": "b8557371",
   "metadata": {},
   "outputs": [
    {
     "data": {
      "text/plain": [
       "job\n",
       "bank        2428.999653\n",
       "edu         2634.539609\n",
       "internet    3418.802948\n",
       "Name: followers, dtype: float64"
      ]
     },
     "execution_count": 54,
     "metadata": {},
     "output_type": "execute_result"
    }
   ],
   "source": [
    "data_new.groupby('job')['followers'].mean()"
   ]
  },
  {
   "cell_type": "code",
   "execution_count": 56,
   "id": "c13e79bf",
   "metadata": {},
   "outputs": [],
   "source": [
    "data_new['following'] = data_new.following.str.replace(',', '').astype(np.int32)"
   ]
  },
  {
   "cell_type": "code",
   "execution_count": 57,
   "id": "bb7be502",
   "metadata": {},
   "outputs": [
    {
     "data": {
      "text/plain": [
       "job\n",
       "bank        188.935529\n",
       "edu         154.789162\n",
       "internet    190.196955\n",
       "Name: following, dtype: float64"
      ]
     },
     "execution_count": 57,
     "metadata": {},
     "output_type": "execute_result"
    }
   ],
   "source": [
    "data_new.groupby('job')['following'].mean()"
   ]
  },
  {
   "cell_type": "code",
   "execution_count": 58,
   "id": "57d7a12f",
   "metadata": {},
   "outputs": [
    {
     "data": {
      "text/plain": [
       "job\n",
       "bank         8568\n",
       "edu         11949\n",
       "internet     9909\n",
       "Name: following, dtype: int32"
      ]
     },
     "execution_count": 58,
     "metadata": {},
     "output_type": "execute_result"
    }
   ],
   "source": [
    "data_new.groupby('job')['following'].max()"
   ]
  },
  {
   "cell_type": "code",
   "execution_count": 59,
   "id": "51d15fce",
   "metadata": {},
   "outputs": [
    {
     "data": {
      "text/html": [
       "<div>\n",
       "<style scoped>\n",
       "    .dataframe tbody tr th:only-of-type {\n",
       "        vertical-align: middle;\n",
       "    }\n",
       "\n",
       "    .dataframe tbody tr th {\n",
       "        vertical-align: top;\n",
       "    }\n",
       "\n",
       "    .dataframe thead th {\n",
       "        text-align: right;\n",
       "    }\n",
       "</style>\n",
       "<table border=\"1\" class=\"dataframe\">\n",
       "  <thead>\n",
       "    <tr style=\"text-align: right;\">\n",
       "      <th></th>\n",
       "      <th>count</th>\n",
       "      <th>mean</th>\n",
       "      <th>std</th>\n",
       "      <th>min</th>\n",
       "      <th>25%</th>\n",
       "      <th>50%</th>\n",
       "      <th>75%</th>\n",
       "      <th>max</th>\n",
       "    </tr>\n",
       "    <tr>\n",
       "      <th>job</th>\n",
       "      <th></th>\n",
       "      <th></th>\n",
       "      <th></th>\n",
       "      <th></th>\n",
       "      <th></th>\n",
       "      <th></th>\n",
       "      <th></th>\n",
       "      <th></th>\n",
       "    </tr>\n",
       "  </thead>\n",
       "  <tbody>\n",
       "    <tr>\n",
       "      <th>bank</th>\n",
       "      <td>2885.0</td>\n",
       "      <td>188.935529</td>\n",
       "      <td>459.198038</td>\n",
       "      <td>0.0</td>\n",
       "      <td>13.0</td>\n",
       "      <td>54.0</td>\n",
       "      <td>163.0</td>\n",
       "      <td>8568.0</td>\n",
       "    </tr>\n",
       "    <tr>\n",
       "      <th>edu</th>\n",
       "      <td>14542.0</td>\n",
       "      <td>154.789162</td>\n",
       "      <td>405.841916</td>\n",
       "      <td>0.0</td>\n",
       "      <td>12.0</td>\n",
       "      <td>44.0</td>\n",
       "      <td>141.0</td>\n",
       "      <td>11949.0</td>\n",
       "    </tr>\n",
       "    <tr>\n",
       "      <th>internet</th>\n",
       "      <td>10312.0</td>\n",
       "      <td>190.196955</td>\n",
       "      <td>455.408214</td>\n",
       "      <td>0.0</td>\n",
       "      <td>16.0</td>\n",
       "      <td>57.0</td>\n",
       "      <td>170.0</td>\n",
       "      <td>9909.0</td>\n",
       "    </tr>\n",
       "  </tbody>\n",
       "</table>\n",
       "</div>"
      ],
      "text/plain": [
       "            count        mean         std  min   25%   50%    75%      max\n",
       "job                                                                       \n",
       "bank       2885.0  188.935529  459.198038  0.0  13.0  54.0  163.0   8568.0\n",
       "edu       14542.0  154.789162  405.841916  0.0  12.0  44.0  141.0  11949.0\n",
       "internet  10312.0  190.196955  455.408214  0.0  16.0  57.0  170.0   9909.0"
      ]
     },
     "execution_count": 59,
     "metadata": {},
     "output_type": "execute_result"
    }
   ],
   "source": [
    "data_new.groupby('job')['following'].describe()"
   ]
  },
  {
   "cell_type": "code",
   "execution_count": 60,
   "id": "43bc4c01",
   "metadata": {},
   "outputs": [
    {
     "data": {
      "text/html": [
       "<div>\n",
       "<style scoped>\n",
       "    .dataframe tbody tr th:only-of-type {\n",
       "        vertical-align: middle;\n",
       "    }\n",
       "\n",
       "    .dataframe tbody tr th {\n",
       "        vertical-align: top;\n",
       "    }\n",
       "\n",
       "    .dataframe thead tr th {\n",
       "        text-align: left;\n",
       "    }\n",
       "\n",
       "    .dataframe thead tr:last-of-type th {\n",
       "        text-align: right;\n",
       "    }\n",
       "</style>\n",
       "<table border=\"1\" class=\"dataframe\">\n",
       "  <thead>\n",
       "    <tr>\n",
       "      <th></th>\n",
       "      <th colspan=\"8\" halign=\"left\">followers</th>\n",
       "      <th colspan=\"8\" halign=\"left\">following</th>\n",
       "    </tr>\n",
       "    <tr>\n",
       "      <th></th>\n",
       "      <th>count</th>\n",
       "      <th>mean</th>\n",
       "      <th>std</th>\n",
       "      <th>min</th>\n",
       "      <th>25%</th>\n",
       "      <th>50%</th>\n",
       "      <th>75%</th>\n",
       "      <th>max</th>\n",
       "      <th>count</th>\n",
       "      <th>mean</th>\n",
       "      <th>std</th>\n",
       "      <th>min</th>\n",
       "      <th>25%</th>\n",
       "      <th>50%</th>\n",
       "      <th>75%</th>\n",
       "      <th>max</th>\n",
       "    </tr>\n",
       "    <tr>\n",
       "      <th>job</th>\n",
       "      <th></th>\n",
       "      <th></th>\n",
       "      <th></th>\n",
       "      <th></th>\n",
       "      <th></th>\n",
       "      <th></th>\n",
       "      <th></th>\n",
       "      <th></th>\n",
       "      <th></th>\n",
       "      <th></th>\n",
       "      <th></th>\n",
       "      <th></th>\n",
       "      <th></th>\n",
       "      <th></th>\n",
       "      <th></th>\n",
       "      <th></th>\n",
       "    </tr>\n",
       "  </thead>\n",
       "  <tbody>\n",
       "    <tr>\n",
       "      <th>bank</th>\n",
       "      <td>2885.0</td>\n",
       "      <td>2428.999653</td>\n",
       "      <td>12590.504328</td>\n",
       "      <td>0.0</td>\n",
       "      <td>4.0</td>\n",
       "      <td>40.0</td>\n",
       "      <td>446.0</td>\n",
       "      <td>311622.0</td>\n",
       "      <td>2885.0</td>\n",
       "      <td>188.935529</td>\n",
       "      <td>459.198038</td>\n",
       "      <td>0.0</td>\n",
       "      <td>13.0</td>\n",
       "      <td>54.0</td>\n",
       "      <td>163.0</td>\n",
       "      <td>8568.0</td>\n",
       "    </tr>\n",
       "    <tr>\n",
       "      <th>edu</th>\n",
       "      <td>14542.0</td>\n",
       "      <td>2634.539609</td>\n",
       "      <td>16239.737802</td>\n",
       "      <td>0.0</td>\n",
       "      <td>5.0</td>\n",
       "      <td>45.0</td>\n",
       "      <td>531.0</td>\n",
       "      <td>614813.0</td>\n",
       "      <td>14542.0</td>\n",
       "      <td>154.789162</td>\n",
       "      <td>405.841916</td>\n",
       "      <td>0.0</td>\n",
       "      <td>12.0</td>\n",
       "      <td>44.0</td>\n",
       "      <td>141.0</td>\n",
       "      <td>11949.0</td>\n",
       "    </tr>\n",
       "    <tr>\n",
       "      <th>internet</th>\n",
       "      <td>10312.0</td>\n",
       "      <td>3418.802948</td>\n",
       "      <td>21557.178588</td>\n",
       "      <td>0.0</td>\n",
       "      <td>7.0</td>\n",
       "      <td>70.0</td>\n",
       "      <td>766.0</td>\n",
       "      <td>823699.0</td>\n",
       "      <td>10312.0</td>\n",
       "      <td>190.196955</td>\n",
       "      <td>455.408214</td>\n",
       "      <td>0.0</td>\n",
       "      <td>16.0</td>\n",
       "      <td>57.0</td>\n",
       "      <td>170.0</td>\n",
       "      <td>9909.0</td>\n",
       "    </tr>\n",
       "  </tbody>\n",
       "</table>\n",
       "</div>"
      ],
      "text/plain": [
       "         followers                                                    \\\n",
       "             count         mean           std  min  25%   50%    75%   \n",
       "job                                                                    \n",
       "bank        2885.0  2428.999653  12590.504328  0.0  4.0  40.0  446.0   \n",
       "edu        14542.0  2634.539609  16239.737802  0.0  5.0  45.0  531.0   \n",
       "internet   10312.0  3418.802948  21557.178588  0.0  7.0  70.0  766.0   \n",
       "\n",
       "                   following                                                  \\\n",
       "               max     count        mean         std  min   25%   50%    75%   \n",
       "job                                                                            \n",
       "bank      311622.0    2885.0  188.935529  459.198038  0.0  13.0  54.0  163.0   \n",
       "edu       614813.0   14542.0  154.789162  405.841916  0.0  12.0  44.0  141.0   \n",
       "internet  823699.0   10312.0  190.196955  455.408214  0.0  16.0  57.0  170.0   \n",
       "\n",
       "                   \n",
       "              max  \n",
       "job                \n",
       "bank       8568.0  \n",
       "edu       11949.0  \n",
       "internet   9909.0  "
      ]
     },
     "execution_count": 60,
     "metadata": {},
     "output_type": "execute_result"
    }
   ],
   "source": [
    "data_new.groupby('job').describe()"
   ]
  },
  {
   "cell_type": "code",
   "execution_count": 61,
   "id": "db41de64",
   "metadata": {},
   "outputs": [
    {
     "data": {
      "text/html": [
       "<div>\n",
       "<style scoped>\n",
       "    .dataframe tbody tr th:only-of-type {\n",
       "        vertical-align: middle;\n",
       "    }\n",
       "\n",
       "    .dataframe tbody tr th {\n",
       "        vertical-align: top;\n",
       "    }\n",
       "\n",
       "    .dataframe thead th {\n",
       "        text-align: right;\n",
       "    }\n",
       "</style>\n",
       "<table border=\"1\" class=\"dataframe\">\n",
       "  <thead>\n",
       "    <tr style=\"text-align: right;\">\n",
       "      <th></th>\n",
       "      <th>followers</th>\n",
       "      <th>following</th>\n",
       "      <th>name</th>\n",
       "      <th>job</th>\n",
       "    </tr>\n",
       "  </thead>\n",
       "  <tbody>\n",
       "    <tr>\n",
       "      <th>1</th>\n",
       "      <td>70609</td>\n",
       "      <td>115</td>\n",
       "      <td>田渊栋</td>\n",
       "      <td>internet</td>\n",
       "    </tr>\n",
       "    <tr>\n",
       "      <th>2</th>\n",
       "      <td>231</td>\n",
       "      <td>273</td>\n",
       "      <td>易良慧</td>\n",
       "      <td>internet</td>\n",
       "    </tr>\n",
       "    <tr>\n",
       "      <th>5</th>\n",
       "      <td>7563</td>\n",
       "      <td>153</td>\n",
       "      <td>吴育昕</td>\n",
       "      <td>internet</td>\n",
       "    </tr>\n",
       "    <tr>\n",
       "      <th>6</th>\n",
       "      <td>6183</td>\n",
       "      <td>211</td>\n",
       "      <td>Kyle君</td>\n",
       "      <td>internet</td>\n",
       "    </tr>\n",
       "    <tr>\n",
       "      <th>7</th>\n",
       "      <td>1902</td>\n",
       "      <td>49</td>\n",
       "      <td>吴逸鸣</td>\n",
       "      <td>internet</td>\n",
       "    </tr>\n",
       "    <tr>\n",
       "      <th>...</th>\n",
       "      <td>...</td>\n",
       "      <td>...</td>\n",
       "      <td>...</td>\n",
       "      <td>...</td>\n",
       "    </tr>\n",
       "    <tr>\n",
       "      <th>109345</th>\n",
       "      <td>1</td>\n",
       "      <td>7</td>\n",
       "      <td>没有故事的短暂一生</td>\n",
       "      <td>edu</td>\n",
       "    </tr>\n",
       "    <tr>\n",
       "      <th>109349</th>\n",
       "      <td>173</td>\n",
       "      <td>49</td>\n",
       "      <td>吴炎平</td>\n",
       "      <td>edu</td>\n",
       "    </tr>\n",
       "    <tr>\n",
       "      <th>109350</th>\n",
       "      <td>40257</td>\n",
       "      <td>36</td>\n",
       "      <td>娜娜</td>\n",
       "      <td>edu</td>\n",
       "    </tr>\n",
       "    <tr>\n",
       "      <th>109351</th>\n",
       "      <td>0</td>\n",
       "      <td>9</td>\n",
       "      <td>蔡乐婷</td>\n",
       "      <td>edu</td>\n",
       "    </tr>\n",
       "    <tr>\n",
       "      <th>109360</th>\n",
       "      <td>7</td>\n",
       "      <td>2</td>\n",
       "      <td>失语者</td>\n",
       "      <td>edu</td>\n",
       "    </tr>\n",
       "  </tbody>\n",
       "</table>\n",
       "<p>27739 rows × 4 columns</p>\n",
       "</div>"
      ],
      "text/plain": [
       "        followers  following       name       job\n",
       "1           70609        115        田渊栋  internet\n",
       "2             231        273        易良慧  internet\n",
       "5            7563        153        吴育昕  internet\n",
       "6            6183        211      Kyle君  internet\n",
       "7            1902         49        吴逸鸣  internet\n",
       "...           ...        ...        ...       ...\n",
       "109345          1          7  没有故事的短暂一生       edu\n",
       "109349        173         49        吴炎平       edu\n",
       "109350      40257         36         娜娜       edu\n",
       "109351          0          9        蔡乐婷       edu\n",
       "109360          7          2        失语者       edu\n",
       "\n",
       "[27739 rows x 4 columns]"
      ]
     },
     "execution_count": 61,
     "metadata": {},
     "output_type": "execute_result"
    }
   ],
   "source": [
    "data_new"
   ]
  },
  {
   "cell_type": "code",
   "execution_count": 62,
   "id": "1e6816eb",
   "metadata": {},
   "outputs": [
    {
     "data": {
      "text/html": [
       "<div>\n",
       "<style scoped>\n",
       "    .dataframe tbody tr th:only-of-type {\n",
       "        vertical-align: middle;\n",
       "    }\n",
       "\n",
       "    .dataframe tbody tr th {\n",
       "        vertical-align: top;\n",
       "    }\n",
       "\n",
       "    .dataframe thead th {\n",
       "        text-align: right;\n",
       "    }\n",
       "</style>\n",
       "<table border=\"1\" class=\"dataframe\">\n",
       "  <thead>\n",
       "    <tr style=\"text-align: right;\">\n",
       "      <th></th>\n",
       "      <th>followers</th>\n",
       "      <th>following</th>\n",
       "      <th>name</th>\n",
       "      <th>job</th>\n",
       "    </tr>\n",
       "  </thead>\n",
       "  <tbody>\n",
       "    <tr>\n",
       "      <th>1</th>\n",
       "      <td>70609</td>\n",
       "      <td>115</td>\n",
       "      <td>田渊栋</td>\n",
       "      <td>internet</td>\n",
       "    </tr>\n",
       "    <tr>\n",
       "      <th>2</th>\n",
       "      <td>231</td>\n",
       "      <td>273</td>\n",
       "      <td>易良慧</td>\n",
       "      <td>internet</td>\n",
       "    </tr>\n",
       "    <tr>\n",
       "      <th>5</th>\n",
       "      <td>7563</td>\n",
       "      <td>153</td>\n",
       "      <td>吴育昕</td>\n",
       "      <td>internet</td>\n",
       "    </tr>\n",
       "    <tr>\n",
       "      <th>6</th>\n",
       "      <td>6183</td>\n",
       "      <td>211</td>\n",
       "      <td>Kyle君</td>\n",
       "      <td>internet</td>\n",
       "    </tr>\n",
       "    <tr>\n",
       "      <th>7</th>\n",
       "      <td>1902</td>\n",
       "      <td>49</td>\n",
       "      <td>吴逸鸣</td>\n",
       "      <td>internet</td>\n",
       "    </tr>\n",
       "    <tr>\n",
       "      <th>...</th>\n",
       "      <td>...</td>\n",
       "      <td>...</td>\n",
       "      <td>...</td>\n",
       "      <td>...</td>\n",
       "    </tr>\n",
       "    <tr>\n",
       "      <th>109345</th>\n",
       "      <td>1</td>\n",
       "      <td>7</td>\n",
       "      <td>没有故事的短暂一生</td>\n",
       "      <td>edu</td>\n",
       "    </tr>\n",
       "    <tr>\n",
       "      <th>109349</th>\n",
       "      <td>173</td>\n",
       "      <td>49</td>\n",
       "      <td>吴炎平</td>\n",
       "      <td>edu</td>\n",
       "    </tr>\n",
       "    <tr>\n",
       "      <th>109350</th>\n",
       "      <td>40257</td>\n",
       "      <td>36</td>\n",
       "      <td>娜娜</td>\n",
       "      <td>edu</td>\n",
       "    </tr>\n",
       "    <tr>\n",
       "      <th>109351</th>\n",
       "      <td>0</td>\n",
       "      <td>9</td>\n",
       "      <td>蔡乐婷</td>\n",
       "      <td>edu</td>\n",
       "    </tr>\n",
       "    <tr>\n",
       "      <th>109360</th>\n",
       "      <td>7</td>\n",
       "      <td>2</td>\n",
       "      <td>失语者</td>\n",
       "      <td>edu</td>\n",
       "    </tr>\n",
       "  </tbody>\n",
       "</table>\n",
       "<p>27739 rows × 4 columns</p>\n",
       "</div>"
      ],
      "text/plain": [
       "        followers  following       name       job\n",
       "1           70609        115        田渊栋  internet\n",
       "2             231        273        易良慧  internet\n",
       "5            7563        153        吴育昕  internet\n",
       "6            6183        211      Kyle君  internet\n",
       "7            1902         49        吴逸鸣  internet\n",
       "...           ...        ...        ...       ...\n",
       "109345          1          7  没有故事的短暂一生       edu\n",
       "109349        173         49        吴炎平       edu\n",
       "109350      40257         36         娜娜       edu\n",
       "109351          0          9        蔡乐婷       edu\n",
       "109360          7          2        失语者       edu\n",
       "\n",
       "[27739 rows x 4 columns]"
      ]
     },
     "execution_count": 62,
     "metadata": {},
     "output_type": "execute_result"
    }
   ],
   "source": [
    "data_new"
   ]
  },
  {
   "cell_type": "code",
   "execution_count": 67,
   "id": "aece3f11",
   "metadata": {},
   "outputs": [
    {
     "data": {
      "text/plain": [
       "<Axes: >"
      ]
     },
     "execution_count": 67,
     "metadata": {},
     "output_type": "execute_result"
    },
    {
     "data": {
      "image/png": "[encoded data removed]",
      "text/plain": [
       "<Figure size 640x480 with 1 Axes>"
      ]
     },
     "metadata": {},
     "output_type": "display_data"
    }
   ],
   "source": [
    "(pd.cut(data_new.followers, bins=[0,10,100,1000,10000,100000,1000000], right=False)).value_counts().plot.bar(rot=30)"
   ]
  },
  {
   "cell_type": "code",
   "execution_count": 68,
   "id": "1c4a1315",
   "metadata": {},
   "outputs": [],
   "source": [
    "g = pd.cut(data_new.followers, bins=[0,10,100,1000,10000,100000,1000000], right=False)"
   ]
  },
  {
   "cell_type": "code",
   "execution_count": 70,
   "id": "96edf1ef",
   "metadata": {},
   "outputs": [
    {
     "data": {
      "text/plain": [
       "<Axes: ylabel='following'>"
      ]
     },
     "execution_count": 70,
     "metadata": {},
     "output_type": "execute_result"
    },
    {
     "data": {
      "image/png": "[encoded data removed]",
      "text/plain": [
       "<Figure size 600x600 with 1 Axes>"
      ]
     },
     "metadata": {},
     "output_type": "display_data"
    }
   ],
   "source": [
    "data_new.groupby(g)['following'].mean().plot.pie(figsize=(6,6))"
   ]
  },
  {
   "cell_type": "code",
   "execution_count": null,
   "id": "89d13c3f",
   "metadata": {},
   "outputs": [],
   "source": []
  }
 ],
 "metadata": {
  "kernelspec": {
   "display_name": "Python 3 (ipykernel)",
   "language": "python",
   "name": "python3"
  },
  "language_info": {
   "codemirror_mode": {
    "name": "ipython",
    "version": 3
   },
   "file_extension": ".py",
   "mimetype": "text/x-python",
   "name": "python",
   "nbconvert_exporter": "python",
   "pygments_lexer": "ipython3",
   "version": "3.10.9"
  }
 },
 "nbformat": 4,
 "nbformat_minor": 5
}
