{
 "cells": [
  {
   "cell_type": "code",
   "execution_count": 1,
   "id": "1d57c97d",
   "metadata": {},
   "outputs": [],
   "source": [
    "import pandas as pd\n",
    "import numpy as np\n",
    "import matplotlib.pyplot as plt\n",
    "%matplotlib inline"
   ]
  },
  {
   "cell_type": "markdown",
   "id": "4a5fc1a5",
   "metadata": {},
   "source": [
    "# 数据处理"
   ]
  },
  {
   "cell_type": "code",
   "execution_count": 2,
   "id": "f0f35f2e",
   "metadata": {},
   "outputs": [],
   "source": [
    "data_list = []\n",
    "for i in range(1,8):\n",
    "    try:\n",
    "        data = pd.read_csv('./dataset/lianjia{}.csv'.format(i), encoding='gbk')\n",
    "    except:\n",
    "        data = pd.read_csv('./dataset/lianjia{}.csv'.format(i))\n",
    "    finally:\n",
    "        data_list.append(data)\n",
    "data = pd.concat(data_list)\n",
    "data = data.dropna()"
   ]
  },
  {
   "cell_type": "code",
   "execution_count": 3,
   "id": "5337c251",
   "metadata": {},
   "outputs": [],
   "source": [
    "data = data[['cjzongjia','cjdanjia','cjxiaoqu','cjlouceng','cjshijian',\n",
    "      'bankuai','mendian','xingming','congyenianxian']]"
   ]
  },
  {
   "cell_type": "code",
   "execution_count": 4,
   "id": "634ce0db",
   "metadata": {},
   "outputs": [],
   "source": [
    "data.cjdanjia = np.round(data.cjdanjia.str.replace('元/平','').astype(np.float32).map(lambda x:x/10000),2)"
   ]
  },
  {
   "cell_type": "code",
   "execution_count": 5,
   "id": "183b4958",
   "metadata": {},
   "outputs": [
    {
     "data": {
      "text/html": [
       "<div>\n",
       "<style scoped>\n",
       "    .dataframe tbody tr th:only-of-type {\n",
       "        vertical-align: middle;\n",
       "    }\n",
       "\n",
       "    .dataframe tbody tr th {\n",
       "        vertical-align: top;\n",
       "    }\n",
       "\n",
       "    .dataframe thead th {\n",
       "        text-align: right;\n",
       "    }\n",
       "</style>\n",
       "<table border=\"1\" class=\"dataframe\">\n",
       "  <thead>\n",
       "    <tr style=\"text-align: right;\">\n",
       "      <th></th>\n",
       "      <th>cjzongjia</th>\n",
       "      <th>cjdanjia</th>\n",
       "      <th>cjxiaoqu</th>\n",
       "      <th>cjlouceng</th>\n",
       "      <th>cjshijian</th>\n",
       "      <th>bankuai</th>\n",
       "      <th>mendian</th>\n",
       "      <th>xingming</th>\n",
       "      <th>congyenianxian</th>\n",
       "    </tr>\n",
       "  </thead>\n",
       "  <tbody>\n",
       "    <tr>\n",
       "      <th>0</th>\n",
       "      <td>251.0</td>\n",
       "      <td>4.40</td>\n",
       "      <td>红莲北里 3室1厅 57平</td>\n",
       "      <td>南 北/高楼层/6层</td>\n",
       "      <td>签约时间：2015-05-24</td>\n",
       "      <td>马连道</td>\n",
       "      <td>红莲北里店</td>\n",
       "      <td>郭海龙</td>\n",
       "      <td>4-5年</td>\n",
       "    </tr>\n",
       "    <tr>\n",
       "      <th>1</th>\n",
       "      <td>159.0</td>\n",
       "      <td>3.70</td>\n",
       "      <td>红莲南里 1室1厅 43平</td>\n",
       "      <td>南/高楼层/7层</td>\n",
       "      <td>签约时间：2015-05-10</td>\n",
       "      <td>马连道</td>\n",
       "      <td>红莲北里店</td>\n",
       "      <td>郭海龙</td>\n",
       "      <td>4-5年</td>\n",
       "    </tr>\n",
       "    <tr>\n",
       "      <th>2</th>\n",
       "      <td>257.0</td>\n",
       "      <td>3.90</td>\n",
       "      <td>常青藤嘉园 1室1厅 65平</td>\n",
       "      <td>北/低楼层/16层</td>\n",
       "      <td>签约时间：2015-04-26</td>\n",
       "      <td>马连道</td>\n",
       "      <td>红莲北里店</td>\n",
       "      <td>郭海龙</td>\n",
       "      <td>4-5年</td>\n",
       "    </tr>\n",
       "    <tr>\n",
       "      <th>3</th>\n",
       "      <td>243.0</td>\n",
       "      <td>4.13</td>\n",
       "      <td>红莲北里 2室1厅 58平</td>\n",
       "      <td>南 北/高楼层/6层</td>\n",
       "      <td>签约时间：2015-04-04</td>\n",
       "      <td>马连道</td>\n",
       "      <td>红莲北里店</td>\n",
       "      <td>郭海龙</td>\n",
       "      <td>4-5年</td>\n",
       "    </tr>\n",
       "    <tr>\n",
       "      <th>4</th>\n",
       "      <td>372.5</td>\n",
       "      <td>4.21</td>\n",
       "      <td>广安门外大街 3室1厅 88平</td>\n",
       "      <td>东 南 西 北/中楼层/18层</td>\n",
       "      <td>签约时间：2015-04-01</td>\n",
       "      <td>马连道</td>\n",
       "      <td>红莲北里店</td>\n",
       "      <td>郭海龙</td>\n",
       "      <td>4-5年</td>\n",
       "    </tr>\n",
       "  </tbody>\n",
       "</table>\n",
       "</div>"
      ],
      "text/plain": [
       "   cjzongjia  cjdanjia         cjxiaoqu        cjlouceng        cjshijian  \\\n",
       "0      251.0      4.40    红莲北里 3室1厅 57平       南 北/高楼层/6层  签约时间：2015-05-24   \n",
       "1      159.0      3.70    红莲南里 1室1厅 43平         南/高楼层/7层  签约时间：2015-05-10   \n",
       "2      257.0      3.90   常青藤嘉园 1室1厅 65平        北/低楼层/16层  签约时间：2015-04-26   \n",
       "3      243.0      4.13    红莲北里 2室1厅 58平       南 北/高楼层/6层  签约时间：2015-04-04   \n",
       "4      372.5      4.21  广安门外大街 3室1厅 88平  东 南 西 北/中楼层/18层  签约时间：2015-04-01   \n",
       "\n",
       "  bankuai mendian xingming congyenianxian  \n",
       "0     马连道   红莲北里店      郭海龙           4-5年  \n",
       "1     马连道   红莲北里店      郭海龙           4-5年  \n",
       "2     马连道   红莲北里店      郭海龙           4-5年  \n",
       "3     马连道   红莲北里店      郭海龙           4-5年  \n",
       "4     马连道   红莲北里店      郭海龙           4-5年  "
      ]
     },
     "execution_count": 5,
     "metadata": {},
     "output_type": "execute_result"
    }
   ],
   "source": [
    "data.head()"
   ]
  },
  {
   "cell_type": "code",
   "execution_count": 6,
   "id": "cefa7472",
   "metadata": {},
   "outputs": [],
   "source": [
    "data = data[data.cjshijian.map(lambda x:isinstance(x, str))]\n",
    "# data = data[data.cjshijian.str.contains('签约时间：')]\n",
    "# isinstance(x, str) 判断x是否为str类型"
   ]
  },
  {
   "cell_type": "code",
   "execution_count": 7,
   "id": "dd8f8e58",
   "metadata": {},
   "outputs": [],
   "source": [
    "# data = data.cjshijian.map(lambda x:x[5:])\n",
    "data.cjshijian = pd.to_datetime(data.cjshijian.str.replace('签约时间：',''))"
   ]
  },
  {
   "cell_type": "code",
   "execution_count": 8,
   "id": "c3dab0df",
   "metadata": {},
   "outputs": [
    {
     "data": {
      "text/html": [
       "<div>\n",
       "<style scoped>\n",
       "    .dataframe tbody tr th:only-of-type {\n",
       "        vertical-align: middle;\n",
       "    }\n",
       "\n",
       "    .dataframe tbody tr th {\n",
       "        vertical-align: top;\n",
       "    }\n",
       "\n",
       "    .dataframe thead th {\n",
       "        text-align: right;\n",
       "    }\n",
       "</style>\n",
       "<table border=\"1\" class=\"dataframe\">\n",
       "  <thead>\n",
       "    <tr style=\"text-align: right;\">\n",
       "      <th></th>\n",
       "      <th>cjzongjia</th>\n",
       "      <th>cjdanjia</th>\n",
       "      <th>cjxiaoqu</th>\n",
       "      <th>cjlouceng</th>\n",
       "      <th>cjshijian</th>\n",
       "      <th>bankuai</th>\n",
       "      <th>mendian</th>\n",
       "      <th>xingming</th>\n",
       "      <th>congyenianxian</th>\n",
       "    </tr>\n",
       "  </thead>\n",
       "  <tbody>\n",
       "    <tr>\n",
       "      <th>0</th>\n",
       "      <td>251.00</td>\n",
       "      <td>4.40</td>\n",
       "      <td>红莲北里 3室1厅 57平</td>\n",
       "      <td>南 北/高楼层/6层</td>\n",
       "      <td>2015-05-24</td>\n",
       "      <td>马连道</td>\n",
       "      <td>红莲北里店</td>\n",
       "      <td>郭海龙</td>\n",
       "      <td>4-5年</td>\n",
       "    </tr>\n",
       "    <tr>\n",
       "      <th>1</th>\n",
       "      <td>159.00</td>\n",
       "      <td>3.70</td>\n",
       "      <td>红莲南里 1室1厅 43平</td>\n",
       "      <td>南/高楼层/7层</td>\n",
       "      <td>2015-05-10</td>\n",
       "      <td>马连道</td>\n",
       "      <td>红莲北里店</td>\n",
       "      <td>郭海龙</td>\n",
       "      <td>4-5年</td>\n",
       "    </tr>\n",
       "    <tr>\n",
       "      <th>2</th>\n",
       "      <td>257.00</td>\n",
       "      <td>3.90</td>\n",
       "      <td>常青藤嘉园 1室1厅 65平</td>\n",
       "      <td>北/低楼层/16层</td>\n",
       "      <td>2015-04-26</td>\n",
       "      <td>马连道</td>\n",
       "      <td>红莲北里店</td>\n",
       "      <td>郭海龙</td>\n",
       "      <td>4-5年</td>\n",
       "    </tr>\n",
       "    <tr>\n",
       "      <th>3</th>\n",
       "      <td>243.00</td>\n",
       "      <td>4.13</td>\n",
       "      <td>红莲北里 2室1厅 58平</td>\n",
       "      <td>南 北/高楼层/6层</td>\n",
       "      <td>2015-04-04</td>\n",
       "      <td>马连道</td>\n",
       "      <td>红莲北里店</td>\n",
       "      <td>郭海龙</td>\n",
       "      <td>4-5年</td>\n",
       "    </tr>\n",
       "    <tr>\n",
       "      <th>4</th>\n",
       "      <td>372.50</td>\n",
       "      <td>4.21</td>\n",
       "      <td>广安门外大街 3室1厅 88平</td>\n",
       "      <td>东 南 西 北/中楼层/18层</td>\n",
       "      <td>2015-04-01</td>\n",
       "      <td>马连道</td>\n",
       "      <td>红莲北里店</td>\n",
       "      <td>郭海龙</td>\n",
       "      <td>4-5年</td>\n",
       "    </tr>\n",
       "    <tr>\n",
       "      <th>...</th>\n",
       "      <td>...</td>\n",
       "      <td>...</td>\n",
       "      <td>...</td>\n",
       "      <td>...</td>\n",
       "      <td>...</td>\n",
       "      <td>...</td>\n",
       "      <td>...</td>\n",
       "      <td>...</td>\n",
       "      <td>...</td>\n",
       "    </tr>\n",
       "    <tr>\n",
       "      <th>6653</th>\n",
       "      <td>145.00</td>\n",
       "      <td>2.28</td>\n",
       "      <td>天洋城 1室1厅 63平</td>\n",
       "      <td>西/高楼层/31层</td>\n",
       "      <td>2016-07-13</td>\n",
       "      <td>燕郊城区</td>\n",
       "      <td>天洋城一店</td>\n",
       "      <td>倪海新</td>\n",
       "      <td>&lt;1年</td>\n",
       "    </tr>\n",
       "    <tr>\n",
       "      <th>6656</th>\n",
       "      <td>390.00</td>\n",
       "      <td>8.10</td>\n",
       "      <td>平原里小区 1室--厅 48平</td>\n",
       "      <td>东 西/中楼层/9层</td>\n",
       "      <td>2016-09-11</td>\n",
       "      <td>白纸坊</td>\n",
       "      <td>半步桥小学店</td>\n",
       "      <td>蒲宁宁</td>\n",
       "      <td>&lt;1年</td>\n",
       "    </tr>\n",
       "    <tr>\n",
       "      <th>6657</th>\n",
       "      <td>100.00</td>\n",
       "      <td>1.91</td>\n",
       "      <td>美林湾 1室1厅 52平</td>\n",
       "      <td>西/高楼层/34层</td>\n",
       "      <td>2016-04-10</td>\n",
       "      <td>燕郊城区</td>\n",
       "      <td>国道总部店</td>\n",
       "      <td>衣健华</td>\n",
       "      <td>1-2年</td>\n",
       "    </tr>\n",
       "    <tr>\n",
       "      <th>6658</th>\n",
       "      <td>71.75</td>\n",
       "      <td>1.21</td>\n",
       "      <td>燕郊电子城小区 2室1厅 59平</td>\n",
       "      <td>南 北/高楼层/6层</td>\n",
       "      <td>2016-01-29</td>\n",
       "      <td>燕郊城区</td>\n",
       "      <td>国道总部店</td>\n",
       "      <td>衣健华</td>\n",
       "      <td>1-2年</td>\n",
       "    </tr>\n",
       "    <tr>\n",
       "      <th>6659</th>\n",
       "      <td>70.00</td>\n",
       "      <td>1.18</td>\n",
       "      <td>福城上上城三季 2室1厅 59平</td>\n",
       "      <td>北/中楼层/26层</td>\n",
       "      <td>2015-12-20</td>\n",
       "      <td>燕郊城区</td>\n",
       "      <td>国道总部店</td>\n",
       "      <td>衣健华</td>\n",
       "      <td>1-2年</td>\n",
       "    </tr>\n",
       "  </tbody>\n",
       "</table>\n",
       "<p>144531 rows × 9 columns</p>\n",
       "</div>"
      ],
      "text/plain": [
       "      cjzongjia  cjdanjia          cjxiaoqu        cjlouceng  cjshijian  \\\n",
       "0        251.00      4.40     红莲北里 3室1厅 57平       南 北/高楼层/6层 2015-05-24   \n",
       "1        159.00      3.70     红莲南里 1室1厅 43平         南/高楼层/7层 2015-05-10   \n",
       "2        257.00      3.90    常青藤嘉园 1室1厅 65平        北/低楼层/16层 2015-04-26   \n",
       "3        243.00      4.13     红莲北里 2室1厅 58平       南 北/高楼层/6层 2015-04-04   \n",
       "4        372.50      4.21   广安门外大街 3室1厅 88平  东 南 西 北/中楼层/18层 2015-04-01   \n",
       "...         ...       ...               ...              ...        ...   \n",
       "6653     145.00      2.28      天洋城 1室1厅 63平        西/高楼层/31层 2016-07-13   \n",
       "6656     390.00      8.10   平原里小区 1室--厅 48平       东 西/中楼层/9层 2016-09-11   \n",
       "6657     100.00      1.91      美林湾 1室1厅 52平        西/高楼层/34层 2016-04-10   \n",
       "6658      71.75      1.21  燕郊电子城小区 2室1厅 59平       南 北/高楼层/6层 2016-01-29   \n",
       "6659      70.00      1.18  福城上上城三季 2室1厅 59平        北/中楼层/26层 2015-12-20   \n",
       "\n",
       "     bankuai mendian xingming congyenianxian  \n",
       "0        马连道   红莲北里店      郭海龙           4-5年  \n",
       "1        马连道   红莲北里店      郭海龙           4-5年  \n",
       "2        马连道   红莲北里店      郭海龙           4-5年  \n",
       "3        马连道   红莲北里店      郭海龙           4-5年  \n",
       "4        马连道   红莲北里店      郭海龙           4-5年  \n",
       "...      ...     ...      ...            ...  \n",
       "6653    燕郊城区   天洋城一店      倪海新            <1年  \n",
       "6656     白纸坊  半步桥小学店      蒲宁宁            <1年  \n",
       "6657    燕郊城区   国道总部店      衣健华           1-2年  \n",
       "6658    燕郊城区   国道总部店      衣健华           1-2年  \n",
       "6659    燕郊城区   国道总部店      衣健华           1-2年  \n",
       "\n",
       "[144531 rows x 9 columns]"
      ]
     },
     "execution_count": 8,
     "metadata": {},
     "output_type": "execute_result"
    }
   ],
   "source": [
    "data"
   ]
  },
  {
   "cell_type": "code",
   "execution_count": 9,
   "id": "eee9de26",
   "metadata": {},
   "outputs": [],
   "source": [
    "data = data.set_index('cjshijian')"
   ]
  },
  {
   "cell_type": "code",
   "execution_count": 10,
   "id": "ba7dc86e",
   "metadata": {},
   "outputs": [],
   "source": [
    "data = data.sort_index()  # 索引排序"
   ]
  },
  {
   "cell_type": "code",
   "execution_count": 11,
   "id": "aa52015e",
   "metadata": {},
   "outputs": [],
   "source": [
    "data3 = data['2015-01-01':'2015-9-30']  \n",
    "# 选取2015年数据前3季度数据，pandas索引切片前后都包含"
   ]
  },
  {
   "cell_type": "code",
   "execution_count": 12,
   "id": "5d8eb445",
   "metadata": {},
   "outputs": [],
   "source": [
    "data4 = data['2015-10-01':'2015-12-31']"
   ]
  },
  {
   "cell_type": "code",
   "execution_count": 13,
   "id": "35fdec1c",
   "metadata": {
    "scrolled": true
   },
   "outputs": [],
   "source": [
    "data3 = data3.assign(xiaoqu = data3.cjxiaoqu.map(lambda x:x.split()[0]))"
   ]
  },
  {
   "cell_type": "code",
   "execution_count": 14,
   "id": "7864cc7e",
   "metadata": {},
   "outputs": [],
   "source": [
    "all6 = data3.xiaoqu.value_counts()[data3.xiaoqu.value_counts() > 5].index"
   ]
  },
  {
   "cell_type": "code",
   "execution_count": 15,
   "id": "5499c116",
   "metadata": {},
   "outputs": [],
   "source": [
    "data3 = data3[data3.xiaoqu.isin(all6)]"
   ]
  },
  {
   "cell_type": "code",
   "execution_count": 16,
   "id": "6f41fc25",
   "metadata": {},
   "outputs": [],
   "source": [
    "data3_m = data3.groupby('xiaoqu').cjdanjia.mean()"
   ]
  },
  {
   "cell_type": "code",
   "execution_count": 17,
   "id": "14687941",
   "metadata": {},
   "outputs": [],
   "source": [
    "data4 = data4.assign(xiaoqu = data4.cjxiaoqu.map(lambda x:x.split()[0]))"
   ]
  },
  {
   "cell_type": "code",
   "execution_count": 18,
   "id": "19155afb",
   "metadata": {},
   "outputs": [],
   "source": [
    "data4 = data4[data4.xiaoqu.isin(all6)]"
   ]
  },
  {
   "cell_type": "code",
   "execution_count": 19,
   "id": "5e7a1ed7",
   "metadata": {},
   "outputs": [],
   "source": [
    "data4_m = data4.groupby('xiaoqu').cjdanjia.mean()"
   ]
  },
  {
   "cell_type": "code",
   "execution_count": 20,
   "id": "9a1a36f6",
   "metadata": {},
   "outputs": [],
   "source": [
    "xq_up = (data4_m - data3_m)/data3_m  # 涨幅比例"
   ]
  },
  {
   "cell_type": "code",
   "execution_count": 21,
   "id": "7c5c3d2a",
   "metadata": {},
   "outputs": [
    {
     "data": {
      "text/plain": [
       "545"
      ]
     },
     "execution_count": 21,
     "metadata": {},
     "output_type": "execute_result"
    }
   ],
   "source": [
    "(xq_up > 0.1).sum()"
   ]
  },
  {
   "cell_type": "code",
   "execution_count": 22,
   "id": "d1de88ce",
   "metadata": {},
   "outputs": [
    {
     "data": {
      "text/plain": [
       "1591"
      ]
     },
     "execution_count": 22,
     "metadata": {},
     "output_type": "execute_result"
    }
   ],
   "source": [
    "len(xq_up)"
   ]
  },
  {
   "cell_type": "code",
   "execution_count": 23,
   "id": "69864ba0",
   "metadata": {},
   "outputs": [],
   "source": [
    "xq_up = xq_up.dropna()"
   ]
  },
  {
   "cell_type": "code",
   "execution_count": 24,
   "id": "ddd5d924",
   "metadata": {},
   "outputs": [
    {
     "data": {
      "text/plain": [
       "pandas.core.series.Series"
      ]
     },
     "execution_count": 24,
     "metadata": {},
     "output_type": "execute_result"
    }
   ],
   "source": [
    "type(xq_up)"
   ]
  },
  {
   "cell_type": "code",
   "execution_count": 25,
   "id": "3eda1839",
   "metadata": {},
   "outputs": [],
   "source": [
    "xq_up = xq_up.to_frame()   # Series 转 dataframe"
   ]
  },
  {
   "cell_type": "code",
   "execution_count": 26,
   "id": "a5a9c980",
   "metadata": {},
   "outputs": [],
   "source": [
    "xq_up = xq_up.assign(zhangfu = (xq_up.cjdanjia > 0.1).astype('int'))  \n",
    "# 涨幅大于0.1的转为1"
   ]
  },
  {
   "cell_type": "code",
   "execution_count": 27,
   "id": "3104dc47",
   "metadata": {},
   "outputs": [],
   "source": [
    "data_taoshu = data3.groupby('xiaoqu').count()['cjxiaoqu'].to_frame().rename(columns={'cjxiaoqu':'taoshu'})"
   ]
  },
  {
   "cell_type": "code",
   "execution_count": 28,
   "id": "659f04be",
   "metadata": {},
   "outputs": [],
   "source": [
    "data = pd.merge(xq_up, data_taoshu, left_index=True, right_index=True, how='left')\n",
    "# 以左边的xq_up为准合并"
   ]
  },
  {
   "cell_type": "code",
   "execution_count": 29,
   "id": "da698537",
   "metadata": {},
   "outputs": [],
   "source": [
    "del data['cjdanjia']"
   ]
  },
  {
   "cell_type": "code",
   "execution_count": 30,
   "id": "292b7bf8",
   "metadata": {},
   "outputs": [],
   "source": [
    "data_danjia = data3.groupby('xiaoqu').cjdanjia.mean().to_frame()"
   ]
  },
  {
   "cell_type": "code",
   "execution_count": 31,
   "id": "9cccc725",
   "metadata": {},
   "outputs": [],
   "source": [
    "data = pd.merge(data, data_danjia, left_index=True, right_index=True, how='left')"
   ]
  },
  {
   "cell_type": "code",
   "execution_count": 32,
   "id": "a18efe04",
   "metadata": {},
   "outputs": [],
   "source": [
    "data_zongjia = data3.groupby('xiaoqu').cjzongjia.mean().to_frame()"
   ]
  },
  {
   "cell_type": "code",
   "execution_count": 33,
   "id": "f457eae3",
   "metadata": {},
   "outputs": [],
   "source": [
    "data = pd.merge(data, data_zongjia, left_index=True, right_index=True, how='left')"
   ]
  },
  {
   "cell_type": "code",
   "execution_count": 34,
   "id": "a0b36e75",
   "metadata": {},
   "outputs": [
    {
     "data": {
      "text/html": [
       "<div>\n",
       "<style scoped>\n",
       "    .dataframe tbody tr th:only-of-type {\n",
       "        vertical-align: middle;\n",
       "    }\n",
       "\n",
       "    .dataframe tbody tr th {\n",
       "        vertical-align: top;\n",
       "    }\n",
       "\n",
       "    .dataframe thead th {\n",
       "        text-align: right;\n",
       "    }\n",
       "</style>\n",
       "<table border=\"1\" class=\"dataframe\">\n",
       "  <thead>\n",
       "    <tr style=\"text-align: right;\">\n",
       "      <th></th>\n",
       "      <th>zhangfu</th>\n",
       "      <th>taoshu</th>\n",
       "      <th>cjdanjia</th>\n",
       "      <th>cjzongjia</th>\n",
       "    </tr>\n",
       "    <tr>\n",
       "      <th>xiaoqu</th>\n",
       "      <th></th>\n",
       "      <th></th>\n",
       "      <th></th>\n",
       "      <th></th>\n",
       "    </tr>\n",
       "  </thead>\n",
       "  <tbody>\n",
       "    <tr>\n",
       "      <th>10AM新坐标</th>\n",
       "      <td>0</td>\n",
       "      <td>16</td>\n",
       "      <td>3.359375</td>\n",
       "      <td>181.412500</td>\n",
       "    </tr>\n",
       "    <tr>\n",
       "      <th>11站</th>\n",
       "      <td>1</td>\n",
       "      <td>8</td>\n",
       "      <td>2.366250</td>\n",
       "      <td>180.950000</td>\n",
       "    </tr>\n",
       "    <tr>\n",
       "      <th>7克拉</th>\n",
       "      <td>0</td>\n",
       "      <td>13</td>\n",
       "      <td>3.601538</td>\n",
       "      <td>130.538462</td>\n",
       "    </tr>\n",
       "    <tr>\n",
       "      <th>@北京</th>\n",
       "      <td>1</td>\n",
       "      <td>6</td>\n",
       "      <td>1.238333</td>\n",
       "      <td>79.083333</td>\n",
       "    </tr>\n",
       "    <tr>\n",
       "      <th>BOBO自由城</th>\n",
       "      <td>1</td>\n",
       "      <td>27</td>\n",
       "      <td>2.565556</td>\n",
       "      <td>247.024444</td>\n",
       "    </tr>\n",
       "    <tr>\n",
       "      <th>...</th>\n",
       "      <td>...</td>\n",
       "      <td>...</td>\n",
       "      <td>...</td>\n",
       "      <td>...</td>\n",
       "    </tr>\n",
       "    <tr>\n",
       "      <th>龙锦苑东四区</th>\n",
       "      <td>0</td>\n",
       "      <td>16</td>\n",
       "      <td>2.041875</td>\n",
       "      <td>230.112500</td>\n",
       "    </tr>\n",
       "    <tr>\n",
       "      <th>龙锦苑二区</th>\n",
       "      <td>1</td>\n",
       "      <td>9</td>\n",
       "      <td>2.715556</td>\n",
       "      <td>280.722222</td>\n",
       "    </tr>\n",
       "    <tr>\n",
       "      <th>龙锦苑六区</th>\n",
       "      <td>0</td>\n",
       "      <td>14</td>\n",
       "      <td>2.880714</td>\n",
       "      <td>277.985714</td>\n",
       "    </tr>\n",
       "    <tr>\n",
       "      <th>龙锦苑四区</th>\n",
       "      <td>0</td>\n",
       "      <td>11</td>\n",
       "      <td>2.930909</td>\n",
       "      <td>289.272727</td>\n",
       "    </tr>\n",
       "    <tr>\n",
       "      <th>龙鼎园</th>\n",
       "      <td>1</td>\n",
       "      <td>20</td>\n",
       "      <td>1.990000</td>\n",
       "      <td>186.905000</td>\n",
       "    </tr>\n",
       "  </tbody>\n",
       "</table>\n",
       "<p>1475 rows × 4 columns</p>\n",
       "</div>"
      ],
      "text/plain": [
       "         zhangfu  taoshu  cjdanjia   cjzongjia\n",
       "xiaoqu                                        \n",
       "10AM新坐标        0      16  3.359375  181.412500\n",
       "11站            1       8  2.366250  180.950000\n",
       "7克拉            0      13  3.601538  130.538462\n",
       "@北京            1       6  1.238333   79.083333\n",
       "BOBO自由城        1      27  2.565556  247.024444\n",
       "...          ...     ...       ...         ...\n",
       "龙锦苑东四区         0      16  2.041875  230.112500\n",
       "龙锦苑二区          1       9  2.715556  280.722222\n",
       "龙锦苑六区          0      14  2.880714  277.985714\n",
       "龙锦苑四区          0      11  2.930909  289.272727\n",
       "龙鼎园            1      20  1.990000  186.905000\n",
       "\n",
       "[1475 rows x 4 columns]"
      ]
     },
     "execution_count": 34,
     "metadata": {},
     "output_type": "execute_result"
    }
   ],
   "source": [
    "data"
   ]
  },
  {
   "cell_type": "markdown",
   "id": "60e6d996",
   "metadata": {},
   "source": [
    "# 模型构建"
   ]
  },
  {
   "cell_type": "code",
   "execution_count": 35,
   "id": "6d759f2c",
   "metadata": {},
   "outputs": [],
   "source": [
    "index = np.random.permutation(len(data))  # 乱序"
   ]
  },
  {
   "cell_type": "code",
   "execution_count": 36,
   "id": "2242ae54",
   "metadata": {},
   "outputs": [],
   "source": [
    "data_train = data.iloc[index[:int(0.7*len(data))]]  # 对index切片"
   ]
  },
  {
   "cell_type": "code",
   "execution_count": 37,
   "id": "ea7472e0",
   "metadata": {},
   "outputs": [],
   "source": [
    "data_test = data.iloc[index[int(0.7*len(data))]:]  # iloc切片"
   ]
  },
  {
   "cell_type": "code",
   "execution_count": 38,
   "id": "7df1ed30",
   "metadata": {},
   "outputs": [],
   "source": [
    "x_train, y_train = data_train[['taoshu', 'cjdanjia', 'cjzongjia']], data_train.zhangfu"
   ]
  },
  {
   "cell_type": "code",
   "execution_count": 39,
   "id": "7ed5098e",
   "metadata": {},
   "outputs": [],
   "source": [
    "x_test, y_test = data_test[['taoshu', 'cjdanjia', 'cjzongjia']], data_test.zhangfu"
   ]
  },
  {
   "cell_type": "code",
   "execution_count": 40,
   "id": "da770dac",
   "metadata": {},
   "outputs": [
    {
     "data": {
      "text/html": [
       "<div>\n",
       "<style scoped>\n",
       "    .dataframe tbody tr th:only-of-type {\n",
       "        vertical-align: middle;\n",
       "    }\n",
       "\n",
       "    .dataframe tbody tr th {\n",
       "        vertical-align: top;\n",
       "    }\n",
       "\n",
       "    .dataframe thead th {\n",
       "        text-align: right;\n",
       "    }\n",
       "</style>\n",
       "<table border=\"1\" class=\"dataframe\">\n",
       "  <thead>\n",
       "    <tr style=\"text-align: right;\">\n",
       "      <th></th>\n",
       "      <th>zhangfu</th>\n",
       "      <th>taoshu</th>\n",
       "      <th>cjdanjia</th>\n",
       "      <th>cjzongjia</th>\n",
       "    </tr>\n",
       "    <tr>\n",
       "      <th>xiaoqu</th>\n",
       "      <th></th>\n",
       "      <th></th>\n",
       "      <th></th>\n",
       "      <th></th>\n",
       "    </tr>\n",
       "  </thead>\n",
       "  <tbody>\n",
       "    <tr>\n",
       "      <th>10AM新坐标</th>\n",
       "      <td>0</td>\n",
       "      <td>16</td>\n",
       "      <td>3.359375</td>\n",
       "      <td>181.412500</td>\n",
       "    </tr>\n",
       "    <tr>\n",
       "      <th>11站</th>\n",
       "      <td>1</td>\n",
       "      <td>8</td>\n",
       "      <td>2.366250</td>\n",
       "      <td>180.950000</td>\n",
       "    </tr>\n",
       "    <tr>\n",
       "      <th>7克拉</th>\n",
       "      <td>0</td>\n",
       "      <td>13</td>\n",
       "      <td>3.601538</td>\n",
       "      <td>130.538462</td>\n",
       "    </tr>\n",
       "    <tr>\n",
       "      <th>@北京</th>\n",
       "      <td>1</td>\n",
       "      <td>6</td>\n",
       "      <td>1.238333</td>\n",
       "      <td>79.083333</td>\n",
       "    </tr>\n",
       "    <tr>\n",
       "      <th>BOBO自由城</th>\n",
       "      <td>1</td>\n",
       "      <td>27</td>\n",
       "      <td>2.565556</td>\n",
       "      <td>247.024444</td>\n",
       "    </tr>\n",
       "  </tbody>\n",
       "</table>\n",
       "</div>"
      ],
      "text/plain": [
       "         zhangfu  taoshu  cjdanjia   cjzongjia\n",
       "xiaoqu                                        \n",
       "10AM新坐标        0      16  3.359375  181.412500\n",
       "11站            1       8  2.366250  180.950000\n",
       "7克拉            0      13  3.601538  130.538462\n",
       "@北京            1       6  1.238333   79.083333\n",
       "BOBO自由城        1      27  2.565556  247.024444"
      ]
     },
     "execution_count": 40,
     "metadata": {},
     "output_type": "execute_result"
    }
   ],
   "source": [
    "data.head()"
   ]
  },
  {
   "cell_type": "code",
   "execution_count": 41,
   "id": "4c4c6a7c",
   "metadata": {},
   "outputs": [],
   "source": [
    "from sklearn.linear_model import LogisticRegression"
   ]
  },
  {
   "cell_type": "code",
   "execution_count": 42,
   "id": "874d9417",
   "metadata": {},
   "outputs": [],
   "source": [
    "model = LogisticRegression()"
   ]
  },
  {
   "cell_type": "code",
   "execution_count": 43,
   "id": "616f4c81",
   "metadata": {},
   "outputs": [
    {
     "data": {
      "text/html": [
       "<style>#sk-container-id-1 {color: black;background-color: white;}#sk-container-id-1 pre{padding: 0;}#sk-container-id-1 div.sk-toggleable {background-color: white;}#sk-container-id-1 label.sk-toggleable__label {cursor: pointer;display: block;width: 100%;margin-bottom: 0;padding: 0.3em;box-sizing: border-box;text-align: center;}#sk-container-id-1 label.sk-toggleable__label-arrow:before {content: \"▸\";float: left;margin-right: 0.25em;color: #696969;}#sk-container-id-1 label.sk-toggleable__label-arrow:hover:before {color: black;}#sk-container-id-1 div.sk-estimator:hover label.sk-toggleable__label-arrow:before {color: black;}#sk-container-id-1 div.sk-toggleable__content {max-height: 0;max-width: 0;overflow: hidden;text-align: left;background-color: #f0f8ff;}#sk-container-id-1 div.sk-toggleable__content pre {margin: 0.2em;color: black;border-radius: 0.25em;background-color: #f0f8ff;}#sk-container-id-1 input.sk-toggleable__control:checked~div.sk-toggleable__content {max-height: 200px;max-width: 100%;overflow: auto;}#sk-container-id-1 input.sk-toggleable__control:checked~label.sk-toggleable__label-arrow:before {content: \"▾\";}#sk-container-id-1 div.sk-estimator input.sk-toggleable__control:checked~label.sk-toggleable__label {background-color: #d4ebff;}#sk-container-id-1 div.sk-label input.sk-toggleable__control:checked~label.sk-toggleable__label {background-color: #d4ebff;}#sk-container-id-1 input.sk-hidden--visually {border: 0;clip: rect(1px 1px 1px 1px);clip: rect(1px, 1px, 1px, 1px);height: 1px;margin: -1px;overflow: hidden;padding: 0;position: absolute;width: 1px;}#sk-container-id-1 div.sk-estimator {font-family: monospace;background-color: #f0f8ff;border: 1px dotted black;border-radius: 0.25em;box-sizing: border-box;margin-bottom: 0.5em;}#sk-container-id-1 div.sk-estimator:hover {background-color: #d4ebff;}#sk-container-id-1 div.sk-parallel-item::after {content: \"\";width: 100%;border-bottom: 1px solid gray;flex-grow: 1;}#sk-container-id-1 div.sk-label:hover label.sk-toggleable__label {background-color: #d4ebff;}#sk-container-id-1 div.sk-serial::before {content: \"\";position: absolute;border-left: 1px solid gray;box-sizing: border-box;top: 0;bottom: 0;left: 50%;z-index: 0;}#sk-container-id-1 div.sk-serial {display: flex;flex-direction: column;align-items: center;background-color: white;padding-right: 0.2em;padding-left: 0.2em;position: relative;}#sk-container-id-1 div.sk-item {position: relative;z-index: 1;}#sk-container-id-1 div.sk-parallel {display: flex;align-items: stretch;justify-content: center;background-color: white;position: relative;}#sk-container-id-1 div.sk-item::before, #sk-container-id-1 div.sk-parallel-item::before {content: \"\";position: absolute;border-left: 1px solid gray;box-sizing: border-box;top: 0;bottom: 0;left: 50%;z-index: -1;}#sk-container-id-1 div.sk-parallel-item {display: flex;flex-direction: column;z-index: 1;position: relative;background-color: white;}#sk-container-id-1 div.sk-parallel-item:first-child::after {align-self: flex-end;width: 50%;}#sk-container-id-1 div.sk-parallel-item:last-child::after {align-self: flex-start;width: 50%;}#sk-container-id-1 div.sk-parallel-item:only-child::after {width: 0;}#sk-container-id-1 div.sk-dashed-wrapped {border: 1px dashed gray;margin: 0 0.4em 0.5em 0.4em;box-sizing: border-box;padding-bottom: 0.4em;background-color: white;}#sk-container-id-1 div.sk-label label {font-family: monospace;font-weight: bold;display: inline-block;line-height: 1.2em;}#sk-container-id-1 div.sk-label-container {text-align: center;}#sk-container-id-1 div.sk-container {/* jupyter's `normalize.less` sets `[hidden] { display: none; }` but bootstrap.min.css set `[hidden] { display: none !important; }` so we also need the `!important` here to be able to override the default hidden behavior on the sphinx rendered scikit-learn.org. See: https://github.com/scikit-learn/scikit-learn/issues/21755 */display: inline-block !important;position: relative;}#sk-container-id-1 div.sk-text-repr-fallback {display: none;}</style><div id=\"sk-container-id-1\" class=\"sk-top-container\"><div class=\"sk-text-repr-fallback\"><pre>LogisticRegression()</pre><b>In a Jupyter environment, please rerun this cell to show the HTML representation or trust the notebook. <br />On GitHub, the HTML representation is unable to render, please try loading this page with nbviewer.org.</b></div><div class=\"sk-container\" hidden><div class=\"sk-item\"><div class=\"sk-estimator sk-toggleable\"><input class=\"sk-toggleable__control sk-hidden--visually\" id=\"sk-estimator-id-1\" type=\"checkbox\" checked><label for=\"sk-estimator-id-1\" class=\"sk-toggleable__label sk-toggleable__label-arrow\">LogisticRegression</label><div class=\"sk-toggleable__content\"><pre>LogisticRegression()</pre></div></div></div></div></div>"
      ],
      "text/plain": [
       "LogisticRegression()"
      ]
     },
     "execution_count": 43,
     "metadata": {},
     "output_type": "execute_result"
    }
   ],
   "source": [
    "model.fit(x_train, y_train)"
   ]
  },
  {
   "cell_type": "code",
   "execution_count": 44,
   "id": "4282a112",
   "metadata": {},
   "outputs": [
    {
     "data": {
      "text/plain": [
       "0.6428571428571429"
      ]
     },
     "execution_count": 44,
     "metadata": {},
     "output_type": "execute_result"
    }
   ],
   "source": [
    "model.score(x_test, y_test)"
   ]
  },
  {
   "cell_type": "code",
   "execution_count": 45,
   "id": "27e412e8",
   "metadata": {},
   "outputs": [
    {
     "data": {
      "text/html": [
       "<div>\n",
       "<style scoped>\n",
       "    .dataframe tbody tr th:only-of-type {\n",
       "        vertical-align: middle;\n",
       "    }\n",
       "\n",
       "    .dataframe tbody tr th {\n",
       "        vertical-align: top;\n",
       "    }\n",
       "\n",
       "    .dataframe thead th {\n",
       "        text-align: right;\n",
       "    }\n",
       "</style>\n",
       "<table border=\"1\" class=\"dataframe\">\n",
       "  <thead>\n",
       "    <tr style=\"text-align: right;\">\n",
       "      <th></th>\n",
       "      <th>zhangfu</th>\n",
       "      <th>taoshu</th>\n",
       "      <th>cjdanjia</th>\n",
       "      <th>cjzongjia</th>\n",
       "    </tr>\n",
       "    <tr>\n",
       "      <th>xiaoqu</th>\n",
       "      <th></th>\n",
       "      <th></th>\n",
       "      <th></th>\n",
       "      <th></th>\n",
       "    </tr>\n",
       "  </thead>\n",
       "  <tbody>\n",
       "    <tr>\n",
       "      <th>10AM新坐标</th>\n",
       "      <td>0</td>\n",
       "      <td>16</td>\n",
       "      <td>3.359375</td>\n",
       "      <td>181.412500</td>\n",
       "    </tr>\n",
       "    <tr>\n",
       "      <th>11站</th>\n",
       "      <td>1</td>\n",
       "      <td>8</td>\n",
       "      <td>2.366250</td>\n",
       "      <td>180.950000</td>\n",
       "    </tr>\n",
       "    <tr>\n",
       "      <th>7克拉</th>\n",
       "      <td>0</td>\n",
       "      <td>13</td>\n",
       "      <td>3.601538</td>\n",
       "      <td>130.538462</td>\n",
       "    </tr>\n",
       "    <tr>\n",
       "      <th>@北京</th>\n",
       "      <td>1</td>\n",
       "      <td>6</td>\n",
       "      <td>1.238333</td>\n",
       "      <td>79.083333</td>\n",
       "    </tr>\n",
       "    <tr>\n",
       "      <th>BOBO自由城</th>\n",
       "      <td>1</td>\n",
       "      <td>27</td>\n",
       "      <td>2.565556</td>\n",
       "      <td>247.024444</td>\n",
       "    </tr>\n",
       "  </tbody>\n",
       "</table>\n",
       "</div>"
      ],
      "text/plain": [
       "         zhangfu  taoshu  cjdanjia   cjzongjia\n",
       "xiaoqu                                        \n",
       "10AM新坐标        0      16  3.359375  181.412500\n",
       "11站            1       8  2.366250  180.950000\n",
       "7克拉            0      13  3.601538  130.538462\n",
       "@北京            1       6  1.238333   79.083333\n",
       "BOBO自由城        1      27  2.565556  247.024444"
      ]
     },
     "execution_count": 45,
     "metadata": {},
     "output_type": "execute_result"
    }
   ],
   "source": [
    "data.head()"
   ]
  },
  {
   "cell_type": "markdown",
   "id": "2889525f",
   "metadata": {},
   "source": [
    "# 模型改进 增加特征"
   ]
  },
  {
   "cell_type": "code",
   "execution_count": 46,
   "id": "562cfb25",
   "metadata": {},
   "outputs": [],
   "source": [
    "data_jjr_num = data3.groupby('xiaoqu').xingming.unique().map(len).to_frame()"
   ]
  },
  {
   "cell_type": "code",
   "execution_count": 47,
   "id": "cad0a8c9",
   "metadata": {},
   "outputs": [],
   "source": [
    "data = pd.merge(data, data_jjr_num, left_index=True, right_index=True, how='left')"
   ]
  },
  {
   "cell_type": "code",
   "execution_count": 48,
   "id": "3068f172",
   "metadata": {},
   "outputs": [],
   "source": [
    "data_md_num = data3.groupby('xiaoqu').mendian.unique().map(len).to_frame()"
   ]
  },
  {
   "cell_type": "code",
   "execution_count": 49,
   "id": "84851b96",
   "metadata": {},
   "outputs": [],
   "source": [
    "data = pd.merge(data, data_md_num, left_index=True, right_index=True, how='left')"
   ]
  },
  {
   "cell_type": "code",
   "execution_count": 50,
   "id": "af816dda",
   "metadata": {},
   "outputs": [
    {
     "data": {
      "text/html": [
       "<div>\n",
       "<style scoped>\n",
       "    .dataframe tbody tr th:only-of-type {\n",
       "        vertical-align: middle;\n",
       "    }\n",
       "\n",
       "    .dataframe tbody tr th {\n",
       "        vertical-align: top;\n",
       "    }\n",
       "\n",
       "    .dataframe thead th {\n",
       "        text-align: right;\n",
       "    }\n",
       "</style>\n",
       "<table border=\"1\" class=\"dataframe\">\n",
       "  <thead>\n",
       "    <tr style=\"text-align: right;\">\n",
       "      <th></th>\n",
       "      <th>zhangfu</th>\n",
       "      <th>taoshu</th>\n",
       "      <th>cjdanjia</th>\n",
       "      <th>cjzongjia</th>\n",
       "      <th>xingming</th>\n",
       "      <th>mendian</th>\n",
       "    </tr>\n",
       "    <tr>\n",
       "      <th>xiaoqu</th>\n",
       "      <th></th>\n",
       "      <th></th>\n",
       "      <th></th>\n",
       "      <th></th>\n",
       "      <th></th>\n",
       "      <th></th>\n",
       "    </tr>\n",
       "  </thead>\n",
       "  <tbody>\n",
       "    <tr>\n",
       "      <th>10AM新坐标</th>\n",
       "      <td>0</td>\n",
       "      <td>16</td>\n",
       "      <td>3.359375</td>\n",
       "      <td>181.412500</td>\n",
       "      <td>8</td>\n",
       "      <td>7</td>\n",
       "    </tr>\n",
       "    <tr>\n",
       "      <th>11站</th>\n",
       "      <td>1</td>\n",
       "      <td>8</td>\n",
       "      <td>2.366250</td>\n",
       "      <td>180.950000</td>\n",
       "      <td>7</td>\n",
       "      <td>4</td>\n",
       "    </tr>\n",
       "    <tr>\n",
       "      <th>7克拉</th>\n",
       "      <td>0</td>\n",
       "      <td>13</td>\n",
       "      <td>3.601538</td>\n",
       "      <td>130.538462</td>\n",
       "      <td>8</td>\n",
       "      <td>5</td>\n",
       "    </tr>\n",
       "    <tr>\n",
       "      <th>@北京</th>\n",
       "      <td>1</td>\n",
       "      <td>6</td>\n",
       "      <td>1.238333</td>\n",
       "      <td>79.083333</td>\n",
       "      <td>6</td>\n",
       "      <td>4</td>\n",
       "    </tr>\n",
       "    <tr>\n",
       "      <th>BOBO自由城</th>\n",
       "      <td>1</td>\n",
       "      <td>27</td>\n",
       "      <td>2.565556</td>\n",
       "      <td>247.024444</td>\n",
       "      <td>12</td>\n",
       "      <td>5</td>\n",
       "    </tr>\n",
       "    <tr>\n",
       "      <th>...</th>\n",
       "      <td>...</td>\n",
       "      <td>...</td>\n",
       "      <td>...</td>\n",
       "      <td>...</td>\n",
       "      <td>...</td>\n",
       "      <td>...</td>\n",
       "    </tr>\n",
       "    <tr>\n",
       "      <th>龙锦苑东四区</th>\n",
       "      <td>0</td>\n",
       "      <td>16</td>\n",
       "      <td>2.041875</td>\n",
       "      <td>230.112500</td>\n",
       "      <td>13</td>\n",
       "      <td>11</td>\n",
       "    </tr>\n",
       "    <tr>\n",
       "      <th>龙锦苑二区</th>\n",
       "      <td>1</td>\n",
       "      <td>9</td>\n",
       "      <td>2.715556</td>\n",
       "      <td>280.722222</td>\n",
       "      <td>7</td>\n",
       "      <td>4</td>\n",
       "    </tr>\n",
       "    <tr>\n",
       "      <th>龙锦苑六区</th>\n",
       "      <td>0</td>\n",
       "      <td>14</td>\n",
       "      <td>2.880714</td>\n",
       "      <td>277.985714</td>\n",
       "      <td>12</td>\n",
       "      <td>9</td>\n",
       "    </tr>\n",
       "    <tr>\n",
       "      <th>龙锦苑四区</th>\n",
       "      <td>0</td>\n",
       "      <td>11</td>\n",
       "      <td>2.930909</td>\n",
       "      <td>289.272727</td>\n",
       "      <td>8</td>\n",
       "      <td>5</td>\n",
       "    </tr>\n",
       "    <tr>\n",
       "      <th>龙鼎园</th>\n",
       "      <td>1</td>\n",
       "      <td>20</td>\n",
       "      <td>1.990000</td>\n",
       "      <td>186.905000</td>\n",
       "      <td>14</td>\n",
       "      <td>11</td>\n",
       "    </tr>\n",
       "  </tbody>\n",
       "</table>\n",
       "<p>1475 rows × 6 columns</p>\n",
       "</div>"
      ],
      "text/plain": [
       "         zhangfu  taoshu  cjdanjia   cjzongjia  xingming  mendian\n",
       "xiaoqu                                                           \n",
       "10AM新坐标        0      16  3.359375  181.412500         8        7\n",
       "11站            1       8  2.366250  180.950000         7        4\n",
       "7克拉            0      13  3.601538  130.538462         8        5\n",
       "@北京            1       6  1.238333   79.083333         6        4\n",
       "BOBO自由城        1      27  2.565556  247.024444        12        5\n",
       "...          ...     ...       ...         ...       ...      ...\n",
       "龙锦苑东四区         0      16  2.041875  230.112500        13       11\n",
       "龙锦苑二区          1       9  2.715556  280.722222         7        4\n",
       "龙锦苑六区          0      14  2.880714  277.985714        12        9\n",
       "龙锦苑四区          0      11  2.930909  289.272727         8        5\n",
       "龙鼎园            1      20  1.990000  186.905000        14       11\n",
       "\n",
       "[1475 rows x 6 columns]"
      ]
     },
     "execution_count": 50,
     "metadata": {},
     "output_type": "execute_result"
    }
   ],
   "source": [
    "data"
   ]
  },
  {
   "cell_type": "code",
   "execution_count": 52,
   "id": "f9f93d24",
   "metadata": {},
   "outputs": [],
   "source": [
    "index = np.random.permutation(len(data)) \n",
    "data_train = data.iloc[index[:int(0.7*len(data))]]  # 对index切片\n",
    "data_test = data.iloc[index[int(0.7*len(data))]:]  # iloc切片\n",
    "x_train, y_train = data_train[['taoshu', 'cjdanjia', 'cjzongjia', 'xingming', 'mendian']], data_train.zhangfu\n",
    "x_test, y_test = data_test[['taoshu', 'cjdanjia', 'cjzongjia', 'xingming', 'mendian']], data_test.zhangfu"
   ]
  },
  {
   "cell_type": "code",
   "execution_count": 53,
   "id": "5cbd2ecc",
   "metadata": {},
   "outputs": [],
   "source": [
    "model2  = LogisticRegression()"
   ]
  },
  {
   "cell_type": "code",
   "execution_count": 55,
   "id": "76c69dab",
   "metadata": {},
   "outputs": [
    {
     "data": {
      "text/html": [
       "<style>#sk-container-id-2 {color: black;background-color: white;}#sk-container-id-2 pre{padding: 0;}#sk-container-id-2 div.sk-toggleable {background-color: white;}#sk-container-id-2 label.sk-toggleable__label {cursor: pointer;display: block;width: 100%;margin-bottom: 0;padding: 0.3em;box-sizing: border-box;text-align: center;}#sk-container-id-2 label.sk-toggleable__label-arrow:before {content: \"▸\";float: left;margin-right: 0.25em;color: #696969;}#sk-container-id-2 label.sk-toggleable__label-arrow:hover:before {color: black;}#sk-container-id-2 div.sk-estimator:hover label.sk-toggleable__label-arrow:before {color: black;}#sk-container-id-2 div.sk-toggleable__content {max-height: 0;max-width: 0;overflow: hidden;text-align: left;background-color: #f0f8ff;}#sk-container-id-2 div.sk-toggleable__content pre {margin: 0.2em;color: black;border-radius: 0.25em;background-color: #f0f8ff;}#sk-container-id-2 input.sk-toggleable__control:checked~div.sk-toggleable__content {max-height: 200px;max-width: 100%;overflow: auto;}#sk-container-id-2 input.sk-toggleable__control:checked~label.sk-toggleable__label-arrow:before {content: \"▾\";}#sk-container-id-2 div.sk-estimator input.sk-toggleable__control:checked~label.sk-toggleable__label {background-color: #d4ebff;}#sk-container-id-2 div.sk-label input.sk-toggleable__control:checked~label.sk-toggleable__label {background-color: #d4ebff;}#sk-container-id-2 input.sk-hidden--visually {border: 0;clip: rect(1px 1px 1px 1px);clip: rect(1px, 1px, 1px, 1px);height: 1px;margin: -1px;overflow: hidden;padding: 0;position: absolute;width: 1px;}#sk-container-id-2 div.sk-estimator {font-family: monospace;background-color: #f0f8ff;border: 1px dotted black;border-radius: 0.25em;box-sizing: border-box;margin-bottom: 0.5em;}#sk-container-id-2 div.sk-estimator:hover {background-color: #d4ebff;}#sk-container-id-2 div.sk-parallel-item::after {content: \"\";width: 100%;border-bottom: 1px solid gray;flex-grow: 1;}#sk-container-id-2 div.sk-label:hover label.sk-toggleable__label {background-color: #d4ebff;}#sk-container-id-2 div.sk-serial::before {content: \"\";position: absolute;border-left: 1px solid gray;box-sizing: border-box;top: 0;bottom: 0;left: 50%;z-index: 0;}#sk-container-id-2 div.sk-serial {display: flex;flex-direction: column;align-items: center;background-color: white;padding-right: 0.2em;padding-left: 0.2em;position: relative;}#sk-container-id-2 div.sk-item {position: relative;z-index: 1;}#sk-container-id-2 div.sk-parallel {display: flex;align-items: stretch;justify-content: center;background-color: white;position: relative;}#sk-container-id-2 div.sk-item::before, #sk-container-id-2 div.sk-parallel-item::before {content: \"\";position: absolute;border-left: 1px solid gray;box-sizing: border-box;top: 0;bottom: 0;left: 50%;z-index: -1;}#sk-container-id-2 div.sk-parallel-item {display: flex;flex-direction: column;z-index: 1;position: relative;background-color: white;}#sk-container-id-2 div.sk-parallel-item:first-child::after {align-self: flex-end;width: 50%;}#sk-container-id-2 div.sk-parallel-item:last-child::after {align-self: flex-start;width: 50%;}#sk-container-id-2 div.sk-parallel-item:only-child::after {width: 0;}#sk-container-id-2 div.sk-dashed-wrapped {border: 1px dashed gray;margin: 0 0.4em 0.5em 0.4em;box-sizing: border-box;padding-bottom: 0.4em;background-color: white;}#sk-container-id-2 div.sk-label label {font-family: monospace;font-weight: bold;display: inline-block;line-height: 1.2em;}#sk-container-id-2 div.sk-label-container {text-align: center;}#sk-container-id-2 div.sk-container {/* jupyter's `normalize.less` sets `[hidden] { display: none; }` but bootstrap.min.css set `[hidden] { display: none !important; }` so we also need the `!important` here to be able to override the default hidden behavior on the sphinx rendered scikit-learn.org. See: https://github.com/scikit-learn/scikit-learn/issues/21755 */display: inline-block !important;position: relative;}#sk-container-id-2 div.sk-text-repr-fallback {display: none;}</style><div id=\"sk-container-id-2\" class=\"sk-top-container\"><div class=\"sk-text-repr-fallback\"><pre>LogisticRegression()</pre><b>In a Jupyter environment, please rerun this cell to show the HTML representation or trust the notebook. <br />On GitHub, the HTML representation is unable to render, please try loading this page with nbviewer.org.</b></div><div class=\"sk-container\" hidden><div class=\"sk-item\"><div class=\"sk-estimator sk-toggleable\"><input class=\"sk-toggleable__control sk-hidden--visually\" id=\"sk-estimator-id-2\" type=\"checkbox\" checked><label for=\"sk-estimator-id-2\" class=\"sk-toggleable__label sk-toggleable__label-arrow\">LogisticRegression</label><div class=\"sk-toggleable__content\"><pre>LogisticRegression()</pre></div></div></div></div></div>"
      ],
      "text/plain": [
       "LogisticRegression()"
      ]
     },
     "execution_count": 55,
     "metadata": {},
     "output_type": "execute_result"
    }
   ],
   "source": [
    "model2.fit(x_train, y_train)"
   ]
  },
  {
   "cell_type": "code",
   "execution_count": 56,
   "id": "bd897f60",
   "metadata": {},
   "outputs": [
    {
     "data": {
      "text/plain": [
       "0.630939226519337"
      ]
     },
     "execution_count": 56,
     "metadata": {},
     "output_type": "execute_result"
    }
   ],
   "source": [
    "model2.score(x_test, y_test)"
   ]
  },
  {
   "cell_type": "code",
   "execution_count": 59,
   "id": "a827a0ea",
   "metadata": {},
   "outputs": [],
   "source": [
    "data3 = data3.assign(louceng = data3.cjlouceng.map(lambda x:x.split('/')[1]))"
   ]
  },
  {
   "cell_type": "code",
   "execution_count": 62,
   "id": "f144e95b",
   "metadata": {},
   "outputs": [],
   "source": [
    "data_lc = pd.crosstab(data3.xiaoqu, data3.louceng)  # 交叉表"
   ]
  },
  {
   "cell_type": "code",
   "execution_count": 63,
   "id": "5f224620",
   "metadata": {},
   "outputs": [],
   "source": [
    "data = pd.merge(data, data_lc, left_index=True, right_index=True, how='left')"
   ]
  },
  {
   "cell_type": "code",
   "execution_count": 64,
   "id": "a93be5a0",
   "metadata": {},
   "outputs": [
    {
     "data": {
      "text/html": [
       "<div>\n",
       "<style scoped>\n",
       "    .dataframe tbody tr th:only-of-type {\n",
       "        vertical-align: middle;\n",
       "    }\n",
       "\n",
       "    .dataframe tbody tr th {\n",
       "        vertical-align: top;\n",
       "    }\n",
       "\n",
       "    .dataframe thead th {\n",
       "        text-align: right;\n",
       "    }\n",
       "</style>\n",
       "<table border=\"1\" class=\"dataframe\">\n",
       "  <thead>\n",
       "    <tr style=\"text-align: right;\">\n",
       "      <th></th>\n",
       "      <th>zhangfu</th>\n",
       "      <th>taoshu</th>\n",
       "      <th>cjdanjia</th>\n",
       "      <th>cjzongjia</th>\n",
       "      <th>xingming</th>\n",
       "      <th>mendian</th>\n",
       "      <th>中楼层</th>\n",
       "      <th>低楼层</th>\n",
       "      <th>地下室</th>\n",
       "      <th>高楼层</th>\n",
       "    </tr>\n",
       "    <tr>\n",
       "      <th>xiaoqu</th>\n",
       "      <th></th>\n",
       "      <th></th>\n",
       "      <th></th>\n",
       "      <th></th>\n",
       "      <th></th>\n",
       "      <th></th>\n",
       "      <th></th>\n",
       "      <th></th>\n",
       "      <th></th>\n",
       "      <th></th>\n",
       "    </tr>\n",
       "  </thead>\n",
       "  <tbody>\n",
       "    <tr>\n",
       "      <th>10AM新坐标</th>\n",
       "      <td>0</td>\n",
       "      <td>16</td>\n",
       "      <td>3.359375</td>\n",
       "      <td>181.412500</td>\n",
       "      <td>8</td>\n",
       "      <td>7</td>\n",
       "      <td>8</td>\n",
       "      <td>5</td>\n",
       "      <td>0</td>\n",
       "      <td>3</td>\n",
       "    </tr>\n",
       "    <tr>\n",
       "      <th>11站</th>\n",
       "      <td>1</td>\n",
       "      <td>8</td>\n",
       "      <td>2.366250</td>\n",
       "      <td>180.950000</td>\n",
       "      <td>7</td>\n",
       "      <td>4</td>\n",
       "      <td>1</td>\n",
       "      <td>2</td>\n",
       "      <td>0</td>\n",
       "      <td>5</td>\n",
       "    </tr>\n",
       "    <tr>\n",
       "      <th>7克拉</th>\n",
       "      <td>0</td>\n",
       "      <td>13</td>\n",
       "      <td>3.601538</td>\n",
       "      <td>130.538462</td>\n",
       "      <td>8</td>\n",
       "      <td>5</td>\n",
       "      <td>11</td>\n",
       "      <td>2</td>\n",
       "      <td>0</td>\n",
       "      <td>0</td>\n",
       "    </tr>\n",
       "    <tr>\n",
       "      <th>@北京</th>\n",
       "      <td>1</td>\n",
       "      <td>6</td>\n",
       "      <td>1.238333</td>\n",
       "      <td>79.083333</td>\n",
       "      <td>6</td>\n",
       "      <td>4</td>\n",
       "      <td>1</td>\n",
       "      <td>4</td>\n",
       "      <td>0</td>\n",
       "      <td>1</td>\n",
       "    </tr>\n",
       "    <tr>\n",
       "      <th>BOBO自由城</th>\n",
       "      <td>1</td>\n",
       "      <td>27</td>\n",
       "      <td>2.565556</td>\n",
       "      <td>247.024444</td>\n",
       "      <td>12</td>\n",
       "      <td>5</td>\n",
       "      <td>13</td>\n",
       "      <td>7</td>\n",
       "      <td>0</td>\n",
       "      <td>7</td>\n",
       "    </tr>\n",
       "    <tr>\n",
       "      <th>...</th>\n",
       "      <td>...</td>\n",
       "      <td>...</td>\n",
       "      <td>...</td>\n",
       "      <td>...</td>\n",
       "      <td>...</td>\n",
       "      <td>...</td>\n",
       "      <td>...</td>\n",
       "      <td>...</td>\n",
       "      <td>...</td>\n",
       "      <td>...</td>\n",
       "    </tr>\n",
       "    <tr>\n",
       "      <th>龙锦苑东四区</th>\n",
       "      <td>0</td>\n",
       "      <td>16</td>\n",
       "      <td>2.041875</td>\n",
       "      <td>230.112500</td>\n",
       "      <td>13</td>\n",
       "      <td>11</td>\n",
       "      <td>6</td>\n",
       "      <td>2</td>\n",
       "      <td>0</td>\n",
       "      <td>8</td>\n",
       "    </tr>\n",
       "    <tr>\n",
       "      <th>龙锦苑二区</th>\n",
       "      <td>1</td>\n",
       "      <td>9</td>\n",
       "      <td>2.715556</td>\n",
       "      <td>280.722222</td>\n",
       "      <td>7</td>\n",
       "      <td>4</td>\n",
       "      <td>4</td>\n",
       "      <td>1</td>\n",
       "      <td>0</td>\n",
       "      <td>4</td>\n",
       "    </tr>\n",
       "    <tr>\n",
       "      <th>龙锦苑六区</th>\n",
       "      <td>0</td>\n",
       "      <td>14</td>\n",
       "      <td>2.880714</td>\n",
       "      <td>277.985714</td>\n",
       "      <td>12</td>\n",
       "      <td>9</td>\n",
       "      <td>8</td>\n",
       "      <td>5</td>\n",
       "      <td>0</td>\n",
       "      <td>1</td>\n",
       "    </tr>\n",
       "    <tr>\n",
       "      <th>龙锦苑四区</th>\n",
       "      <td>0</td>\n",
       "      <td>11</td>\n",
       "      <td>2.930909</td>\n",
       "      <td>289.272727</td>\n",
       "      <td>8</td>\n",
       "      <td>5</td>\n",
       "      <td>8</td>\n",
       "      <td>3</td>\n",
       "      <td>0</td>\n",
       "      <td>0</td>\n",
       "    </tr>\n",
       "    <tr>\n",
       "      <th>龙鼎园</th>\n",
       "      <td>1</td>\n",
       "      <td>20</td>\n",
       "      <td>1.990000</td>\n",
       "      <td>186.905000</td>\n",
       "      <td>14</td>\n",
       "      <td>11</td>\n",
       "      <td>11</td>\n",
       "      <td>3</td>\n",
       "      <td>0</td>\n",
       "      <td>6</td>\n",
       "    </tr>\n",
       "  </tbody>\n",
       "</table>\n",
       "<p>1475 rows × 10 columns</p>\n",
       "</div>"
      ],
      "text/plain": [
       "         zhangfu  taoshu  cjdanjia   cjzongjia  xingming  mendian  中楼层  低楼层  \\\n",
       "xiaoqu                                                                        \n",
       "10AM新坐标        0      16  3.359375  181.412500         8        7    8    5   \n",
       "11站            1       8  2.366250  180.950000         7        4    1    2   \n",
       "7克拉            0      13  3.601538  130.538462         8        5   11    2   \n",
       "@北京            1       6  1.238333   79.083333         6        4    1    4   \n",
       "BOBO自由城        1      27  2.565556  247.024444        12        5   13    7   \n",
       "...          ...     ...       ...         ...       ...      ...  ...  ...   \n",
       "龙锦苑东四区         0      16  2.041875  230.112500        13       11    6    2   \n",
       "龙锦苑二区          1       9  2.715556  280.722222         7        4    4    1   \n",
       "龙锦苑六区          0      14  2.880714  277.985714        12        9    8    5   \n",
       "龙锦苑四区          0      11  2.930909  289.272727         8        5    8    3   \n",
       "龙鼎园            1      20  1.990000  186.905000        14       11   11    3   \n",
       "\n",
       "         地下室  高楼层  \n",
       "xiaoqu             \n",
       "10AM新坐标    0    3  \n",
       "11站        0    5  \n",
       "7克拉        0    0  \n",
       "@北京        0    1  \n",
       "BOBO自由城    0    7  \n",
       "...      ...  ...  \n",
       "龙锦苑东四区     0    8  \n",
       "龙锦苑二区      0    4  \n",
       "龙锦苑六区      0    1  \n",
       "龙锦苑四区      0    0  \n",
       "龙鼎园        0    6  \n",
       "\n",
       "[1475 rows x 10 columns]"
      ]
     },
     "execution_count": 64,
     "metadata": {},
     "output_type": "execute_result"
    }
   ],
   "source": [
    "data"
   ]
  },
  {
   "cell_type": "code",
   "execution_count": 65,
   "id": "4faec93f",
   "metadata": {},
   "outputs": [],
   "source": [
    "index = np.random.permutation(len(data)) \n",
    "data_train = data.iloc[index[:int(0.7*len(data))]]  # 对index切片\n",
    "data_test = data.iloc[index[int(0.7*len(data))]:]  # iloc切片\n",
    "x_train, y_train = data_train[[x for x in data.columns if x!= 'zhangfu']], data_train.zhangfu\n",
    "x_test, y_test = data_test[[x for x in data.columns if x!= 'zhangfu']], data_test.zhangfu"
   ]
  },
  {
   "cell_type": "code",
   "execution_count": 68,
   "id": "1d0ced2a",
   "metadata": {},
   "outputs": [
    {
     "name": "stderr",
     "output_type": "stream",
     "text": [
      "C:\\Users\\luhe\\miniconda3\\lib\\site-packages\\sklearn\\linear_model\\_logistic.py:458: ConvergenceWarning: lbfgs failed to converge (status=1):\n",
      "STOP: TOTAL NO. of ITERATIONS REACHED LIMIT.\n",
      "\n",
      "Increase the number of iterations (max_iter) or scale the data as shown in:\n",
      "    https://scikit-learn.org/stable/modules/preprocessing.html\n",
      "Please also refer to the documentation for alternative solver options:\n",
      "    https://scikit-learn.org/stable/modules/linear_model.html#logistic-regression\n",
      "  n_iter_i = _check_optimize_result(\n"
     ]
    },
    {
     "data": {
      "text/plain": [
       "0.6396508728179551"
      ]
     },
     "execution_count": 68,
     "metadata": {},
     "output_type": "execute_result"
    }
   ],
   "source": [
    "model3  = LogisticRegression()\n",
    "model3.fit(x_train, y_train)\n",
    "model3.score(x_test, y_test)"
   ]
  },
  {
   "cell_type": "markdown",
   "id": "70123834",
   "metadata": {},
   "source": [
    "如果添加了两个相关的特征，模型的准确率会降低"
   ]
  },
  {
   "cell_type": "code",
   "execution_count": null,
   "id": "c3fae378",
   "metadata": {},
   "outputs": [],
   "source": []
  }
 ],
 "metadata": {
  "kernelspec": {
   "display_name": "Python 3 (ipykernel)",
   "language": "python",
   "name": "python3"
  },
  "language_info": {
   "codemirror_mode": {
    "name": "ipython",
    "version": 3
   },
   "file_extension": ".py",
   "mimetype": "text/x-python",
   "name": "python",
   "nbconvert_exporter": "python",
   "pygments_lexer": "ipython3",
   "version": "3.10.9"
  }
 },
 "nbformat": 4,
 "nbformat_minor": 5
}
