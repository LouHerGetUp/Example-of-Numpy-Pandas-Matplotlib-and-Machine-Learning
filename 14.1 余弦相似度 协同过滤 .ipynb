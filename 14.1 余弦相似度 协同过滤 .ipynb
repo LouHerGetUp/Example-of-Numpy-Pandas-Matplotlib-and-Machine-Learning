{
 "cells": [
  {
   "cell_type": "code",
   "execution_count": 1,
   "id": "6c28b0e9",
   "metadata": {},
   "outputs": [],
   "source": [
    "import pandas as pd\n",
    "import matplotlib.pyplot as plt\n",
    "%matplotlib inline\n",
    "import numpy as np"
   ]
  },
  {
   "cell_type": "code",
   "execution_count": 2,
   "id": "01cb978d",
   "metadata": {},
   "outputs": [],
   "source": [
    "data = pd.DataFrame({'one':[4, np.nan, 2, np.nan],\n",
    "                     'two':[np.nan, 4, np.nan, 5],\n",
    "                     'three':[5, np.nan, 2, np.nan],\n",
    "                     'four':[3, 4, np.nan, 3],\n",
    "                     'five':[5, np.nan, 1, np.nan],\n",
    "                     'six': [np.nan, 5, np.nan, 5],\n",
    "                     'seven':[np.nan, np.nan, np.nan, 4]},\n",
    "                     index = list('ABCD'))"
   ]
  },
  {
   "cell_type": "code",
   "execution_count": 3,
   "id": "62bb1734",
   "metadata": {},
   "outputs": [
    {
     "data": {
      "text/html": [
       "<div>\n",
       "<style scoped>\n",
       "    .dataframe tbody tr th:only-of-type {\n",
       "        vertical-align: middle;\n",
       "    }\n",
       "\n",
       "    .dataframe tbody tr th {\n",
       "        vertical-align: top;\n",
       "    }\n",
       "\n",
       "    .dataframe thead th {\n",
       "        text-align: right;\n",
       "    }\n",
       "</style>\n",
       "<table border=\"1\" class=\"dataframe\">\n",
       "  <thead>\n",
       "    <tr style=\"text-align: right;\">\n",
       "      <th></th>\n",
       "      <th>one</th>\n",
       "      <th>two</th>\n",
       "      <th>three</th>\n",
       "      <th>four</th>\n",
       "      <th>five</th>\n",
       "      <th>six</th>\n",
       "      <th>seven</th>\n",
       "    </tr>\n",
       "  </thead>\n",
       "  <tbody>\n",
       "    <tr>\n",
       "      <th>A</th>\n",
       "      <td>4.0</td>\n",
       "      <td>NaN</td>\n",
       "      <td>5.0</td>\n",
       "      <td>3.0</td>\n",
       "      <td>5.0</td>\n",
       "      <td>NaN</td>\n",
       "      <td>NaN</td>\n",
       "    </tr>\n",
       "    <tr>\n",
       "      <th>B</th>\n",
       "      <td>NaN</td>\n",
       "      <td>4.0</td>\n",
       "      <td>NaN</td>\n",
       "      <td>4.0</td>\n",
       "      <td>NaN</td>\n",
       "      <td>5.0</td>\n",
       "      <td>NaN</td>\n",
       "    </tr>\n",
       "    <tr>\n",
       "      <th>C</th>\n",
       "      <td>2.0</td>\n",
       "      <td>NaN</td>\n",
       "      <td>2.0</td>\n",
       "      <td>NaN</td>\n",
       "      <td>1.0</td>\n",
       "      <td>NaN</td>\n",
       "      <td>NaN</td>\n",
       "    </tr>\n",
       "    <tr>\n",
       "      <th>D</th>\n",
       "      <td>NaN</td>\n",
       "      <td>5.0</td>\n",
       "      <td>NaN</td>\n",
       "      <td>3.0</td>\n",
       "      <td>NaN</td>\n",
       "      <td>5.0</td>\n",
       "      <td>4.0</td>\n",
       "    </tr>\n",
       "  </tbody>\n",
       "</table>\n",
       "</div>"
      ],
      "text/plain": [
       "   one  two  three  four  five  six  seven\n",
       "A  4.0  NaN    5.0   3.0   5.0  NaN    NaN\n",
       "B  NaN  4.0    NaN   4.0   NaN  5.0    NaN\n",
       "C  2.0  NaN    2.0   NaN   1.0  NaN    NaN\n",
       "D  NaN  5.0    NaN   3.0   NaN  5.0    4.0"
      ]
     },
     "execution_count": 3,
     "metadata": {},
     "output_type": "execute_result"
    }
   ],
   "source": [
    "data"
   ]
  },
  {
   "cell_type": "markdown",
   "id": "17bb00aa",
   "metadata": {},
   "source": [
    "# 找到和A趣味相投的人"
   ]
  },
  {
   "cell_type": "markdown",
   "id": "09b21a76",
   "metadata": {},
   "source": [
    "## 余弦相似度"
   ]
  },
  {
   "cell_type": "code",
   "execution_count": 4,
   "id": "18b91834",
   "metadata": {},
   "outputs": [],
   "source": [
    "from sklearn.metrics.pairwise import cosine_similarity"
   ]
  },
  {
   "cell_type": "code",
   "execution_count": 8,
   "id": "327cb9ec",
   "metadata": {},
   "outputs": [],
   "source": [
    "sim_AB = cosine_similarity(data.loc['A',:].fillna(0).values.reshape(1, -1),\n",
    "                           data.loc['B',:].fillna(0).values.reshape(1, -1))\n",
    "# 新版本 Serise 没有 reshape"
   ]
  },
  {
   "cell_type": "code",
   "execution_count": 9,
   "id": "c2d5e710",
   "metadata": {},
   "outputs": [
    {
     "data": {
      "text/plain": [
       "array([[0.18353259]])"
      ]
     },
     "execution_count": 9,
     "metadata": {},
     "output_type": "execute_result"
    }
   ],
   "source": [
    "sim_AB"
   ]
  },
  {
   "cell_type": "code",
   "execution_count": 10,
   "id": "d230765b",
   "metadata": {},
   "outputs": [],
   "source": [
    "sim_AC = cosine_similarity(data.loc['A',:].fillna(0).values.reshape(1, -1),\n",
    "                           data.loc['C',:].fillna(0).values.reshape(1, -1))"
   ]
  },
  {
   "cell_type": "code",
   "execution_count": 11,
   "id": "2b554a84",
   "metadata": {},
   "outputs": [
    {
     "data": {
      "text/plain": [
       "array([[0.88527041]])"
      ]
     },
     "execution_count": 11,
     "metadata": {},
     "output_type": "execute_result"
    }
   ],
   "source": [
    "sim_AC"
   ]
  },
  {
   "cell_type": "markdown",
   "id": "6cf4ee16",
   "metadata": {},
   "source": [
    "## 去中心化"
   ]
  },
  {
   "cell_type": "code",
   "execution_count": 14,
   "id": "5e581e90",
   "metadata": {},
   "outputs": [],
   "source": [
    "data_center = data.apply(lambda x: x-x.mean(), axis=1)"
   ]
  },
  {
   "cell_type": "code",
   "execution_count": 15,
   "id": "9e617856",
   "metadata": {},
   "outputs": [],
   "source": [
    "sim_AB = cosine_similarity(data_center.loc['A',:].fillna(0).values.reshape(1, -1),\n",
    "                           data_center.loc['B',:].fillna(0).values.reshape(1, -1))"
   ]
  },
  {
   "cell_type": "code",
   "execution_count": 16,
   "id": "1fb4879b",
   "metadata": {},
   "outputs": [
    {
     "data": {
      "text/plain": [
       "array([[0.30772873]])"
      ]
     },
     "execution_count": 16,
     "metadata": {},
     "output_type": "execute_result"
    }
   ],
   "source": [
    "sim_AB"
   ]
  },
  {
   "cell_type": "code",
   "execution_count": 17,
   "id": "13717b7b",
   "metadata": {},
   "outputs": [],
   "source": [
    "sim_AC = cosine_similarity(data_center.loc['A',:].fillna(0).values.reshape(1, -1),\n",
    "                           data_center.loc['C',:].fillna(0).values.reshape(1, -1))"
   ]
  },
  {
   "cell_type": "code",
   "execution_count": 18,
   "id": "7e19dcdb",
   "metadata": {},
   "outputs": [
    {
     "data": {
      "text/plain": [
       "array([[-0.24618298]])"
      ]
     },
     "execution_count": 18,
     "metadata": {},
     "output_type": "execute_result"
    }
   ],
   "source": [
    "sim_AC"
   ]
  },
  {
   "cell_type": "code",
   "execution_count": 19,
   "id": "a3d84081",
   "metadata": {},
   "outputs": [],
   "source": [
    "sim_AD = cosine_similarity(data_center.loc['A',:].fillna(0).values.reshape(1, -1),\n",
    "                           data_center.loc['D',:].fillna(0).values.reshape(1, -1))"
   ]
  },
  {
   "cell_type": "code",
   "execution_count": 20,
   "id": "b9c600cd",
   "metadata": {},
   "outputs": [
    {
     "data": {
      "text/plain": [
       "array([[0.56818182]])"
      ]
     },
     "execution_count": 20,
     "metadata": {},
     "output_type": "execute_result"
    }
   ],
   "source": [
    "sim_AD"
   ]
  },
  {
   "cell_type": "markdown",
   "id": "dc6aa612",
   "metadata": {},
   "source": [
    "# 预测A对two的评分"
   ]
  },
  {
   "cell_type": "code",
   "execution_count": 21,
   "id": "51cef998",
   "metadata": {},
   "outputs": [
    {
     "data": {
      "text/plain": [
       "array([[4.64867562]])"
      ]
     },
     "execution_count": 21,
     "metadata": {},
     "output_type": "execute_result"
    }
   ],
   "source": [
    "(sim_AD*data.loc['D', 'two'] + sim_AB*data.loc['B', 'two'])/(sim_AD+sim_AB)"
   ]
  },
  {
   "cell_type": "code",
   "execution_count": null,
   "id": "99eb027e",
   "metadata": {},
   "outputs": [],
   "source": []
  }
 ],
 "metadata": {
  "kernelspec": {
   "display_name": "Python 3 (ipykernel)",
   "language": "python",
   "name": "python3"
  },
  "language_info": {
   "codemirror_mode": {
    "name": "ipython",
    "version": 3
   },
   "file_extension": ".py",
   "mimetype": "text/x-python",
   "name": "python",
   "nbconvert_exporter": "python",
   "pygments_lexer": "ipython3",
   "version": "3.10.9"
  }
 },
 "nbformat": 4,
 "nbformat_minor": 5
}
